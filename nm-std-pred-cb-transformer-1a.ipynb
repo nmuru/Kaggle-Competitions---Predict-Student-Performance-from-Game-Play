{
 "cells": [
  {
   "cell_type": "code",
   "execution_count": 1,
   "id": "62f523f2",
   "metadata": {
    "execution": {
     "iopub.execute_input": "2023-06-21T04:42:16.498171Z",
     "iopub.status.busy": "2023-06-21T04:42:16.497767Z",
     "iopub.status.idle": "2023-06-21T04:42:18.354053Z",
     "shell.execute_reply": "2023-06-21T04:42:18.353027Z"
    },
    "papermill": {
     "duration": 1.870695,
     "end_time": "2023-06-21T04:42:18.356439",
     "exception": false,
     "start_time": "2023-06-21T04:42:16.485744",
     "status": "completed"
    },
    "tags": []
   },
   "outputs": [],
   "source": [
    "import pandas as pd, numpy as np\n",
    "from catboost import CatBoostClassifier\n",
    "from sklearn.preprocessing import StandardScaler\n",
    "import pickle\n",
    "import sys\n",
    "import os\n",
    "import gc"
   ]
  },
  {
   "cell_type": "markdown",
   "id": "e2ae2049",
   "metadata": {
    "papermill": {
     "duration": 0.007594,
     "end_time": "2023-06-21T04:42:18.372521",
     "exception": false,
     "start_time": "2023-06-21T04:42:18.364927",
     "status": "completed"
    },
    "tags": []
   },
   "source": [
    "# Load Train Data and Labels"
   ]
  },
  {
   "cell_type": "code",
   "execution_count": 2,
   "id": "39cce0b1",
   "metadata": {
    "execution": {
     "iopub.execute_input": "2023-06-21T04:42:18.390285Z",
     "iopub.status.busy": "2023-06-21T04:42:18.389630Z",
     "iopub.status.idle": "2023-06-21T04:42:18.395850Z",
     "shell.execute_reply": "2023-06-21T04:42:18.395095Z"
    },
    "papermill": {
     "duration": 0.017507,
     "end_time": "2023-06-21T04:42:18.397973",
     "exception": false,
     "start_time": "2023-06-21T04:42:18.380466",
     "status": "completed"
    },
    "tags": []
   },
   "outputs": [],
   "source": [
    "dtypes = {\"session_id\": 'int64',\n",
    "          \"index\": np.int16,\n",
    "          \"elapsed_time\": np.int32,\n",
    "          \"event_name\": 'category',\n",
    "          \"name\": 'category',\n",
    "          \"level\": np.int8,\n",
    "          \"page\": np.float16,\n",
    "          \"room_coor_x\": np.float16,\n",
    "          \"room_coor_y\": np.float16,\n",
    "          \"screen_coor_x\": np.float16,\n",
    "          \"screen_coor_y\": np.float16,\n",
    "          \"hover_duration\": np.float32,\n",
    "          \"text\": 'category',\n",
    "          \"fqid\": 'category',\n",
    "          \"room_fqid\": 'category',\n",
    "          \"text_fqid\": 'category',\n",
    "          \"fullscreen\": np.int8,\n",
    "          \"hq\": np.int8,\n",
    "          \"music\": np.int8,\n",
    "          \"level_group\": 'category'\n",
    "          }\n",
    "use_col = ['session_id', 'index', 'elapsed_time', 'event_name', 'name', 'level', 'page',\n",
    "           'room_coor_x', 'room_coor_y', 'hover_duration', 'text', 'fqid', 'room_fqid', 'text_fqid', 'level_group']"
   ]
  },
  {
   "cell_type": "code",
   "execution_count": 3,
   "id": "63eaf48c",
   "metadata": {
    "execution": {
     "iopub.execute_input": "2023-06-21T04:42:18.415798Z",
     "iopub.status.busy": "2023-06-21T04:42:18.415107Z",
     "iopub.status.idle": "2023-06-21T04:42:19.534751Z",
     "shell.execute_reply": "2023-06-21T04:42:19.533832Z"
    },
    "papermill": {
     "duration": 1.130788,
     "end_time": "2023-06-21T04:42:19.536787",
     "exception": false,
     "start_time": "2023-06-21T04:42:18.405999",
     "status": "completed"
    },
    "tags": []
   },
   "outputs": [
    {
     "name": "stdout",
     "output_type": "stream",
     "text": [
      "(424116, 4)\n"
     ]
    },
    {
     "data": {
      "text/html": [
       "<div>\n",
       "<style scoped>\n",
       "    .dataframe tbody tr th:only-of-type {\n",
       "        vertical-align: middle;\n",
       "    }\n",
       "\n",
       "    .dataframe tbody tr th {\n",
       "        vertical-align: top;\n",
       "    }\n",
       "\n",
       "    .dataframe thead th {\n",
       "        text-align: right;\n",
       "    }\n",
       "</style>\n",
       "<table border=\"1\" class=\"dataframe\">\n",
       "  <thead>\n",
       "    <tr style=\"text-align: right;\">\n",
       "      <th></th>\n",
       "      <th>session_id</th>\n",
       "      <th>correct</th>\n",
       "      <th>session</th>\n",
       "      <th>q</th>\n",
       "    </tr>\n",
       "  </thead>\n",
       "  <tbody>\n",
       "    <tr>\n",
       "      <th>0</th>\n",
       "      <td>20090312431273200_q1</td>\n",
       "      <td>1</td>\n",
       "      <td>20090312431273200</td>\n",
       "      <td>1</td>\n",
       "    </tr>\n",
       "    <tr>\n",
       "      <th>1</th>\n",
       "      <td>20090312433251036_q1</td>\n",
       "      <td>0</td>\n",
       "      <td>20090312433251036</td>\n",
       "      <td>1</td>\n",
       "    </tr>\n",
       "    <tr>\n",
       "      <th>2</th>\n",
       "      <td>20090312455206810_q1</td>\n",
       "      <td>1</td>\n",
       "      <td>20090312455206810</td>\n",
       "      <td>1</td>\n",
       "    </tr>\n",
       "    <tr>\n",
       "      <th>3</th>\n",
       "      <td>20090313091715820_q1</td>\n",
       "      <td>0</td>\n",
       "      <td>20090313091715820</td>\n",
       "      <td>1</td>\n",
       "    </tr>\n",
       "    <tr>\n",
       "      <th>4</th>\n",
       "      <td>20090313571836404_q1</td>\n",
       "      <td>1</td>\n",
       "      <td>20090313571836404</td>\n",
       "      <td>1</td>\n",
       "    </tr>\n",
       "  </tbody>\n",
       "</table>\n",
       "</div>"
      ],
      "text/plain": [
       "             session_id  correct            session  q\n",
       "0  20090312431273200_q1        1  20090312431273200  1\n",
       "1  20090312433251036_q1        0  20090312433251036  1\n",
       "2  20090312455206810_q1        1  20090312455206810  1\n",
       "3  20090313091715820_q1        0  20090313091715820  1\n",
       "4  20090313571836404_q1        1  20090313571836404  1"
      ]
     },
     "execution_count": 3,
     "metadata": {},
     "output_type": "execute_result"
    }
   ],
   "source": [
    "targets = pd.read_csv('/kaggle/input/predict-student-performance-from-game-play/train_labels.csv')\n",
    "targets['session'] = targets.session_id.apply(lambda x: int(x.split('_')[0]) )\n",
    "targets['q'] = targets.session_id.apply(lambda x: int(x.split('_')[-1][1:]) )\n",
    "print( targets.shape )\n",
    "targets.head()"
   ]
  },
  {
   "cell_type": "code",
   "execution_count": 4,
   "id": "f82da172",
   "metadata": {
    "execution": {
     "iopub.execute_input": "2023-06-21T04:42:19.555291Z",
     "iopub.status.busy": "2023-06-21T04:42:19.554358Z",
     "iopub.status.idle": "2023-06-21T04:42:19.692964Z",
     "shell.execute_reply": "2023-06-21T04:42:19.691926Z"
    },
    "papermill": {
     "duration": 0.150223,
     "end_time": "2023-06-21T04:42:19.695284",
     "exception": false,
     "start_time": "2023-06-21T04:42:19.545061",
     "status": "completed"
    },
    "tags": []
   },
   "outputs": [],
   "source": [
    "feature_df = pd.read_csv('/kaggle/input/featur/feature_sort.csv')"
   ]
  },
  {
   "cell_type": "markdown",
   "id": "9c6d242e",
   "metadata": {
    "papermill": {
     "duration": 0.007856,
     "end_time": "2023-06-21T04:42:19.711527",
     "exception": false,
     "start_time": "2023-06-21T04:42:19.703671",
     "status": "completed"
    },
    "tags": []
   },
   "source": [
    "# Feature Engineer"
   ]
  },
  {
   "cell_type": "code",
   "execution_count": 5,
   "id": "25352928",
   "metadata": {
    "execution": {
     "iopub.execute_input": "2023-06-21T04:42:19.730389Z",
     "iopub.status.busy": "2023-06-21T04:42:19.729651Z",
     "iopub.status.idle": "2023-06-21T04:42:19.735115Z",
     "shell.execute_reply": "2023-06-21T04:42:19.734387Z"
    },
    "papermill": {
     "duration": 0.016853,
     "end_time": "2023-06-21T04:42:19.737147",
     "exception": false,
     "start_time": "2023-06-21T04:42:19.720294",
     "status": "completed"
    },
    "tags": []
   },
   "outputs": [],
   "source": [
    "def delt_time_def(df):\n",
    "    df.sort_values(by=['session_id', 'elapsed_time'], inplace=True)\n",
    "    df['d_time'] = df['elapsed_time'].diff(1)\n",
    "    df['d_time'].fillna(0, inplace=True)\n",
    "    df['delt_time'] = df['d_time'].clip(0, 103000)\n",
    "    df['delt_time_next'] = df['delt_time'].shift(-1)\n",
    "    return df"
   ]
  },
  {
   "cell_type": "code",
   "execution_count": 6,
   "id": "be257c96",
   "metadata": {
    "execution": {
     "iopub.execute_input": "2023-06-21T04:42:19.756779Z",
     "iopub.status.busy": "2023-06-21T04:42:19.755426Z",
     "iopub.status.idle": "2023-06-21T04:42:19.766180Z",
     "shell.execute_reply": "2023-06-21T04:42:19.765253Z"
    },
    "papermill": {
     "duration": 0.022686,
     "end_time": "2023-06-21T04:42:19.768429",
     "exception": false,
     "start_time": "2023-06-21T04:42:19.745743",
     "status": "completed"
    },
    "tags": []
   },
   "outputs": [],
   "source": [
    "def feature_engineer(train, kol_f):\n",
    "    global kol_col, kol_col_max\n",
    "    kol_col = 9\n",
    "    kol_col_max = 11+kol_f*2\n",
    "    col = [i for i in range(0,kol_col_max)]\n",
    "    new_train = pd.DataFrame(index=train['session_id'].unique(), columns=col, dtype=np.float16)  \n",
    "    new_train[10] = new_train.index # \"session_id\"    \n",
    "\n",
    "    new_train[0] = train.groupby(['session_id'])['d_time'].quantile(q=0.3)\n",
    "    new_train[1] = train.groupby(['session_id'])['d_time'].quantile(q=0.8)\n",
    "    new_train[2] = train.groupby(['session_id'])['d_time'].quantile(q=0.5)\n",
    "    new_train[3] = train.groupby(['session_id'])['d_time'].quantile(q=0.65)\n",
    "    new_train[4] = train.groupby(['session_id'])['hover_duration'].agg('mean')\n",
    "    new_train[5] = train.groupby(['session_id'])['hover_duration'].agg('std')    \n",
    "    new_train[6] = new_train[10].apply(lambda x: int(str(x)[:2])).astype(np.uint8) # \"year\"\n",
    "    new_train[7] = new_train[10].apply(lambda x: int(str(x)[2:4])+1).astype(np.uint8) # \"month\"\n",
    "    new_train[8] = new_train[10].apply(lambda x: int(str(x)[4:6])).astype(np.uint8) # \"day\"\n",
    "    new_train[9] = new_train[10].apply(lambda x: int(str(x)[6:8])).astype(np.uint8) + new_train[10].apply(lambda x: int(str(x)[8:10])).astype(np.uint8)/60\n",
    "    new_train[10] = 0\n",
    "    new_train = new_train.fillna(-1)\n",
    "    \n",
    "    return new_train"
   ]
  },
  {
   "cell_type": "code",
   "execution_count": 7,
   "id": "7a29b94f",
   "metadata": {
    "execution": {
     "iopub.execute_input": "2023-06-21T04:42:19.787524Z",
     "iopub.status.busy": "2023-06-21T04:42:19.786857Z",
     "iopub.status.idle": "2023-06-21T04:42:19.795009Z",
     "shell.execute_reply": "2023-06-21T04:42:19.794017Z"
    },
    "papermill": {
     "duration": 0.020092,
     "end_time": "2023-06-21T04:42:19.797053",
     "exception": false,
     "start_time": "2023-06-21T04:42:19.776961",
     "status": "completed"
    },
    "tags": []
   },
   "outputs": [],
   "source": [
    "def feature_next_t(row_f, new_train, train, gran_1, gran_2, i):\n",
    "    global kol_col\n",
    "    kol_col +=1\n",
    "    col1 = row_f['col1']\n",
    "    val1 = row_f['val1']\n",
    "    maska = (train[col1] == val1)\n",
    "    if row_f['kol_col'] == 1:       \n",
    "        new_train[kol_col] = train[maska].groupby(['session_id'])['delt_time_next'].sum()\n",
    "        if gran_1:\n",
    "            kol_col +=1\n",
    "            new_train[kol_col] = train[maska].groupby(['session_id'])['delt_time'].mean()\n",
    "        if gran_2:\n",
    "            kol_col +=1\n",
    "            new_train[kol_col] = train[maska].groupby(['session_id'])['index'].count()          \n",
    "    elif row_f['kol_col'] == 2: \n",
    "        col2 = row_f['col2']\n",
    "        val2 = row_f['val2']\n",
    "        maska = maska & (train[col2] == val2)        \n",
    "        new_train[kol_col] = train[maska].groupby(['session_id'])['delt_time_next'].sum()\n",
    "        if gran_1:\n",
    "            kol_col +=1\n",
    "            new_train[kol_col] = train[maska].groupby(['session_id'])['delt_time'].mean()\n",
    "        if gran_2:\n",
    "            kol_col +=1\n",
    "            new_train[kol_col] = train[maska].groupby(['session_id'])['index'].count()\n",
    "    return new_train"
   ]
  },
  {
   "cell_type": "code",
   "execution_count": 8,
   "id": "9b7002d1",
   "metadata": {
    "execution": {
     "iopub.execute_input": "2023-06-21T04:42:19.815767Z",
     "iopub.status.busy": "2023-06-21T04:42:19.815070Z",
     "iopub.status.idle": "2023-06-21T04:42:19.822357Z",
     "shell.execute_reply": "2023-06-21T04:42:19.821658Z"
    },
    "papermill": {
     "duration": 0.01895,
     "end_time": "2023-06-21T04:42:19.824276",
     "exception": false,
     "start_time": "2023-06-21T04:42:19.805326",
     "status": "completed"
    },
    "tags": []
   },
   "outputs": [],
   "source": [
    "def feature_next_t_otvet(row_f, new_train, train, gran_1, gran_2, i):\n",
    "    global kol_col\n",
    "    kol_col +=1\n",
    "    col1 = row_f['col1']\n",
    "    val1 = row_f['val1']\n",
    "    maska = (train[col1] == val1)\n",
    "    if row_f['kol_col'] == 1:      \n",
    "        new_train[kol_col] = train[maska]['delt_time_next'].sum()\n",
    "        if gran_1:\n",
    "            kol_col +=1\n",
    "            new_train[kol_col] = train[maska]['delt_time'].mean()\n",
    "        if gran_2:\n",
    "            kol_col +=1\n",
    "            new_train[kol_col] = train[maska]['index'].count()          \n",
    "    elif row_f['kol_col'] == 2: \n",
    "        col2 = row_f['col2']\n",
    "        val2 = row_f['val2']\n",
    "        maska = maska & (train[col2] == val2)        \n",
    "        new_train[kol_col] = train[maska]['delt_time_next'].sum()\n",
    "        if gran_1:\n",
    "            kol_col +=1\n",
    "            new_train[kol_col] = train[maska]['delt_time'].mean()\n",
    "        if gran_2:\n",
    "            kol_col +=1\n",
    "            new_train[kol_col] = train[maska]['index'].count()\n",
    "    return new_train"
   ]
  },
  {
   "cell_type": "code",
   "execution_count": 9,
   "id": "838e4c2d",
   "metadata": {
    "execution": {
     "iopub.execute_input": "2023-06-21T04:42:19.842875Z",
     "iopub.status.busy": "2023-06-21T04:42:19.842200Z",
     "iopub.status.idle": "2023-06-21T04:42:19.849428Z",
     "shell.execute_reply": "2023-06-21T04:42:19.848673Z"
    },
    "papermill": {
     "duration": 0.018879,
     "end_time": "2023-06-21T04:42:19.851421",
     "exception": false,
     "start_time": "2023-06-21T04:42:19.832542",
     "status": "completed"
    },
    "tags": []
   },
   "outputs": [],
   "source": [
    "def experiment_feature_next_t_otvet(row_f, new_train, train, gran_1, gran_2, i):\n",
    "    global kol_col\n",
    "    kol_col +=1\n",
    "    if row_f['kol_col'] == 1: \n",
    "        maska = train[row_f['col1']] == row_f['val1']\n",
    "        new_train[kol_col] = train[maska]['delt_time_next'].sum()\n",
    "        if gran_1:\n",
    "            kol_col +=1\n",
    "            new_train[kol_col] = train[maska]['delt_time'].mean()\n",
    "        if gran_2:\n",
    "            kol_col +=1\n",
    "            new_train[kol_col] = train[maska]['index'].count()          \n",
    "    elif row_f['kol_col'] == 2: \n",
    "        col2 = row_f['col2']\n",
    "        val2 = row_f['val2']\n",
    "        maska = (train[col1] == val1) & (train[col2] == val2)        \n",
    "        new_train[kol_col] = train[maska]['delt_time_next'].sum()\n",
    "        if gran_1:\n",
    "            kol_col +=1\n",
    "            new_train[kol_col] = train[maska]['delt_time'].mean()\n",
    "        if gran_2:\n",
    "            kol_col +=1\n",
    "            new_train[kol_col] = train[maska]['index'].count()\n",
    "    return new_train"
   ]
  },
  {
   "cell_type": "code",
   "execution_count": 10,
   "id": "423f751d",
   "metadata": {
    "execution": {
     "iopub.execute_input": "2023-06-21T04:42:19.869774Z",
     "iopub.status.busy": "2023-06-21T04:42:19.869085Z",
     "iopub.status.idle": "2023-06-21T04:42:19.875195Z",
     "shell.execute_reply": "2023-06-21T04:42:19.874481Z"
    },
    "papermill": {
     "duration": 0.017458,
     "end_time": "2023-06-21T04:42:19.877106",
     "exception": false,
     "start_time": "2023-06-21T04:42:19.859648",
     "status": "completed"
    },
    "tags": []
   },
   "outputs": [],
   "source": [
    "def feature_quest_otvet(new_train, train, quest, kol_f):\n",
    "    global kol_col\n",
    "    kol_col = 9\n",
    "    g1 = 0.7 \n",
    "    g2 = 0.3 \n",
    "\n",
    "    feature_q = feature_df[feature_df['quest'] == quest].copy()\n",
    "    feature_q.reset_index(drop=True, inplace=True)\n",
    "    \n",
    "    gran1 = round(kol_f * g1)\n",
    "    gran2 = round(kol_f * g2)    \n",
    "    for i in range(0, kol_f):         \n",
    "        row_f = feature_q.loc[i]\n",
    "        new_train = feature_next_t_otvet(row_f, new_train, train, i < gran1, i <  gran2, i) \n",
    "    col = [i for i in range(0,kol_col+1)]\n",
    "    return new_train[col]"
   ]
  },
  {
   "cell_type": "code",
   "execution_count": 11,
   "id": "a516a73f",
   "metadata": {
    "execution": {
     "iopub.execute_input": "2023-06-21T04:42:19.895664Z",
     "iopub.status.busy": "2023-06-21T04:42:19.894986Z",
     "iopub.status.idle": "2023-06-21T04:42:19.900273Z",
     "shell.execute_reply": "2023-06-21T04:42:19.899465Z"
    },
    "papermill": {
     "duration": 0.016723,
     "end_time": "2023-06-21T04:42:19.902134",
     "exception": false,
     "start_time": "2023-06-21T04:42:19.885411",
     "status": "completed"
    },
    "tags": []
   },
   "outputs": [],
   "source": [
    "def feature_engineer_new(new_train, train, feature_q, kol_f):\n",
    "    g1 = 0.7 \n",
    "    g2 = 0.3 \n",
    "    gran1 = round(kol_f * g1)\n",
    "    gran2 = round(kol_f * g2)    \n",
    "    for i in range(0, kol_f): \n",
    "        row_f = feature_q.loc[i]       \n",
    "        new_train = feature_next_t(row_f, new_train, train, i < gran1, i <  gran2, i)         \n",
    "    return new_train"
   ]
  },
  {
   "cell_type": "code",
   "execution_count": 12,
   "id": "a38338a7",
   "metadata": {
    "execution": {
     "iopub.execute_input": "2023-06-21T04:42:19.920500Z",
     "iopub.status.busy": "2023-06-21T04:42:19.919857Z",
     "iopub.status.idle": "2023-06-21T04:42:19.925260Z",
     "shell.execute_reply": "2023-06-21T04:42:19.924513Z"
    },
    "papermill": {
     "duration": 0.016653,
     "end_time": "2023-06-21T04:42:19.927116",
     "exception": false,
     "start_time": "2023-06-21T04:42:19.910463",
     "status": "completed"
    },
    "tags": []
   },
   "outputs": [],
   "source": [
    "def feature_quest(new_train, train, quest, kol_f):\n",
    "    global kol_col\n",
    "    kol_col = 9\n",
    "    feature_q = feature_df[feature_df['quest'] == quest].copy()\n",
    "    feature_q.reset_index(drop=True, inplace=True)\n",
    "    new_train = feature_engineer_new(new_train, train, feature_q, kol_f)\n",
    "    col = [i for i in range(0,kol_col+1)]\n",
    "    return new_train[col]"
   ]
  },
  {
   "cell_type": "code",
   "execution_count": 13,
   "id": "bae6ee4d",
   "metadata": {
    "execution": {
     "iopub.execute_input": "2023-06-21T04:42:19.945321Z",
     "iopub.status.busy": "2023-06-21T04:42:19.944684Z",
     "iopub.status.idle": "2023-06-21T04:42:19.951163Z",
     "shell.execute_reply": "2023-06-21T04:42:19.950490Z"
    },
    "papermill": {
     "duration": 0.017817,
     "end_time": "2023-06-21T04:42:19.953007",
     "exception": false,
     "start_time": "2023-06-21T04:42:19.935190",
     "status": "completed"
    },
    "tags": []
   },
   "outputs": [],
   "source": [
    "def create_model(old_train, quests, models, list_kol_f):\n",
    "    \n",
    "    kol_quest = len(quests)\n",
    "    # ITERATE THRU QUESTIONS\n",
    "    for q in quests:\n",
    "        print('### quest ', q, end='')\n",
    "        new_train = feature_engineer(old_train, list_kol_f[q])\n",
    "        train_x = feature_quest(new_train, old_train, q, list_kol_f[q])\n",
    "        print (' ---- ', 'train_q.shape = ', train_x.shape)\n",
    "           \n",
    "        # TRAIN DATA\n",
    "        train_users = train_x.index.values\n",
    "        train_y = targets.loc[targets.q==q].set_index('session').loc[train_users]\n",
    "\n",
    "        # TRAIN MODEL \n",
    "\n",
    "        model = CatBoostClassifier(\n",
    "            n_estimators = 300,\n",
    "            learning_rate= 0.045,\n",
    "            depth = 6\n",
    "        )\n",
    "        \n",
    "        model.fit(train_x.astype('float32'), train_y['correct'], verbose=False)\n",
    "\n",
    "        # SAVE MODEL, PREDICT VALID OOF\n",
    "        models[f'{q}'] = model\n",
    "    print('***')\n",
    "    \n",
    "    return models"
   ]
  },
  {
   "cell_type": "code",
   "execution_count": 14,
   "id": "0d2c0126",
   "metadata": {
    "execution": {
     "iopub.execute_input": "2023-06-21T04:42:19.971665Z",
     "iopub.status.busy": "2023-06-21T04:42:19.970985Z",
     "iopub.status.idle": "2023-06-21T04:42:19.975033Z",
     "shell.execute_reply": "2023-06-21T04:42:19.974269Z"
    },
    "papermill": {
     "duration": 0.015292,
     "end_time": "2023-06-21T04:42:19.976884",
     "exception": false,
     "start_time": "2023-06-21T04:42:19.961592",
     "status": "completed"
    },
    "tags": []
   },
   "outputs": [],
   "source": [
    "models = {}\n",
    "best_threshold = 0.63"
   ]
  },
  {
   "cell_type": "code",
   "execution_count": 15,
   "id": "a246ecc6",
   "metadata": {
    "execution": {
     "iopub.execute_input": "2023-06-21T04:42:19.995033Z",
     "iopub.status.busy": "2023-06-21T04:42:19.994370Z",
     "iopub.status.idle": "2023-06-21T04:42:19.998765Z",
     "shell.execute_reply": "2023-06-21T04:42:19.998036Z"
    },
    "papermill": {
     "duration": 0.015481,
     "end_time": "2023-06-21T04:42:20.000592",
     "exception": false,
     "start_time": "2023-06-21T04:42:19.985111",
     "status": "completed"
    },
    "tags": []
   },
   "outputs": [],
   "source": [
    "list_kol_f = {\n",
    "    1:140,3:110,\n",
    "    4:120, 5:220, 6:130, 7:110, 8:110, 9:100, 10:140, 11:120,\n",
    "    14: 160, 15:160, 16:130, 17:140             \n",
    "             }"
   ]
  },
  {
   "cell_type": "code",
   "execution_count": 16,
   "id": "f5551cbe",
   "metadata": {
    "execution": {
     "iopub.execute_input": "2023-06-21T04:42:20.020162Z",
     "iopub.status.busy": "2023-06-21T04:42:20.019269Z",
     "iopub.status.idle": "2023-06-21T04:42:20.023418Z",
     "shell.execute_reply": "2023-06-21T04:42:20.022671Z"
    },
    "papermill": {
     "duration": 0.016218,
     "end_time": "2023-06-21T04:42:20.025484",
     "exception": false,
     "start_time": "2023-06-21T04:42:20.009266",
     "status": "completed"
    },
    "tags": []
   },
   "outputs": [],
   "source": [
    "os.chdir(r'/kaggle/working/')"
   ]
  },
  {
   "cell_type": "code",
   "execution_count": 17,
   "id": "4b5cd7fe",
   "metadata": {
    "execution": {
     "iopub.execute_input": "2023-06-21T04:42:20.044133Z",
     "iopub.status.busy": "2023-06-21T04:42:20.043483Z",
     "iopub.status.idle": "2023-06-21T04:43:42.053536Z",
     "shell.execute_reply": "2023-06-21T04:43:42.052547Z"
    },
    "papermill": {
     "duration": 82.02185,
     "end_time": "2023-06-21T04:43:42.055882",
     "exception": false,
     "start_time": "2023-06-21T04:42:20.034032",
     "status": "completed"
    },
    "tags": []
   },
   "outputs": [
    {
     "name": "stdout",
     "output_type": "stream",
     "text": [
      "### quest  1 ----  train_q.shape =  (23562, 290)\n"
     ]
    },
    {
     "name": "stderr",
     "output_type": "stream",
     "text": [
      "TBB Warning: The number of workers is currently limited to 1. The request for 3 workers is ignored. Further requests for more workers will be silently ignored until the limit changes.\n",
      "\n"
     ]
    },
    {
     "name": "stdout",
     "output_type": "stream",
     "text": [
      "### quest  3 ----  train_q.shape =  (23562, 230)\n",
      "***\n"
     ]
    }
   ],
   "source": [
    "df0_4 = pd.read_csv('/kaggle/input/featur/train_0_4t.csv', dtype=dtypes) \n",
    "kol_lvl = (df0_4 .groupby(['session_id'])['level'].agg('nunique') < 5)\n",
    "list_session = kol_lvl[kol_lvl].index\n",
    "df0_4  = df0_4 [~df0_4 ['session_id'].isin(list_session)]\n",
    "df0_4 = delt_time_def(df0_4)\n",
    "\n",
    "quests_0_4 = [1, 3] \n",
    "# list_kol_f = {1:140,3:110}\n",
    "\n",
    "models = create_model(df0_4, quests_0_4, models, list_kol_f)\n",
    "del df0_4"
   ]
  },
  {
   "cell_type": "code",
   "execution_count": 18,
   "id": "bc0688c4",
   "metadata": {
    "execution": {
     "iopub.execute_input": "2023-06-21T04:43:42.075578Z",
     "iopub.status.busy": "2023-06-21T04:43:42.074935Z",
     "iopub.status.idle": "2023-06-21T04:50:47.076126Z",
     "shell.execute_reply": "2023-06-21T04:50:47.075342Z"
    },
    "papermill": {
     "duration": 425.022528,
     "end_time": "2023-06-21T04:50:47.087323",
     "exception": false,
     "start_time": "2023-06-21T04:43:42.064795",
     "status": "completed"
    },
    "tags": []
   },
   "outputs": [
    {
     "name": "stdout",
     "output_type": "stream",
     "text": [
      "### quest  4 ----  train_q.shape =  (23561, 250)\n",
      "### quest  5 ----  train_q.shape =  (23561, 450)\n",
      "### quest  6 ----  train_q.shape =  (23561, 270)\n",
      "### quest  7 ----  train_q.shape =  (23561, 230)\n",
      "### quest  8 ----  train_q.shape =  (23561, 230)\n",
      "### quest  9 ----  train_q.shape =  (23561, 210)\n",
      "### quest  10 ----  train_q.shape =  (23561, 290)\n",
      "### quest  11 ----  train_q.shape =  (23561, 250)\n",
      "***\n"
     ]
    }
   ],
   "source": [
    "df5_12 = pd.read_csv('/kaggle/input/featur/train_5_12t.csv', dtype=dtypes)\n",
    "kol_lvl = (df5_12.groupby(['session_id'])['level'].agg('nunique') < 8)\n",
    "list_session = kol_lvl[kol_lvl].index\n",
    "df5_12 = df5_12[~df5_12['session_id'].isin(list_session)]\n",
    "df5_12 = delt_time_def(df5_12)\n",
    "quests_5_12 = [4, 5, 6, 7, 8, 9, 10, 11] \n",
    "\n",
    "# list_kol_f = {4:110, 5:220, 6:120, 7:110, 8:110, 9:100, 10:140, 11:120}\n",
    "\n",
    "models = create_model(df5_12, quests_5_12, models, list_kol_f)\n",
    "del df5_12"
   ]
  },
  {
   "cell_type": "code",
   "execution_count": 19,
   "id": "ed4cb51d",
   "metadata": {
    "execution": {
     "iopub.execute_input": "2023-06-21T04:50:47.108421Z",
     "iopub.status.busy": "2023-06-21T04:50:47.107532Z",
     "iopub.status.idle": "2023-06-21T04:55:39.719353Z",
     "shell.execute_reply": "2023-06-21T04:55:39.718130Z"
    },
    "papermill": {
     "duration": 292.625197,
     "end_time": "2023-06-21T04:55:39.721961",
     "exception": false,
     "start_time": "2023-06-21T04:50:47.096764",
     "status": "completed"
    },
    "tags": []
   },
   "outputs": [
    {
     "name": "stdout",
     "output_type": "stream",
     "text": [
      "### quest  14 ----  train_q.shape =  (22986, 330)\n",
      "### quest  15 ----  train_q.shape =  (22986, 330)\n",
      "### quest  16 ----  train_q.shape =  (22986, 270)\n",
      "### quest  17 ----  train_q.shape =  (22986, 290)\n",
      "***\n"
     ]
    }
   ],
   "source": [
    "df13_22 = pd.read_csv('/kaggle/input/featur/train_13_22t.csv', dtype=dtypes) \n",
    "kol_lvl = (df13_22 .groupby(['session_id'])['level'].agg('nunique') < 10)\n",
    "list_session = kol_lvl[kol_lvl].index\n",
    "df13_22  = df13_22 [~df13_22 ['session_id'].isin(list_session)]\n",
    "df13_22 = delt_time_def(df13_22)\n",
    "\n",
    "quests_13_22 = [14, 15, 16, 17] \n",
    "# list_kol_f = {14: 160, 15:160, 16:105, 17:140}\n",
    "\n",
    "models = create_model(df13_22, quests_13_22, models, list_kol_f)\n"
   ]
  },
  {
   "cell_type": "code",
   "execution_count": 20,
   "id": "03d3c1e8",
   "metadata": {
    "execution": {
     "iopub.execute_input": "2023-06-21T04:55:39.744854Z",
     "iopub.status.busy": "2023-06-21T04:55:39.744190Z",
     "iopub.status.idle": "2023-06-21T04:55:39.748703Z",
     "shell.execute_reply": "2023-06-21T04:55:39.747861Z"
    },
    "papermill": {
     "duration": 0.018323,
     "end_time": "2023-06-21T04:55:39.750853",
     "exception": false,
     "start_time": "2023-06-21T04:55:39.732530",
     "status": "completed"
    },
    "tags": []
   },
   "outputs": [],
   "source": [
    "# # Saving a Model\n",
    "# import os\n",
    "# dr = '/kaggle/working/models'\n",
    "\n",
    "# if not os.path.exists(dr):\n",
    "#     os.mkdir(r'/kaggle/working/models')\n",
    "    \n",
    "# os.chdir(r'/kaggle/working/models')\n",
    "# # for q in quests_0_4 + quests_5_12 + quests_13_22:\n",
    "# #     print(q)\n",
    "# #     fadf\n",
    "# #     models[q].save_model(f'cat_model_{q}.bin')\n",
    "\n",
    "# qnx = ['1','3','4','5','6','7','8','9','10','11','14','15','16','17']\n",
    "\n",
    "# for q in qnx:\n",
    "#     models[q].save_model(f'cat_model_{q}.bin')\n",
    "    "
   ]
  },
  {
   "cell_type": "code",
   "execution_count": 21,
   "id": "e6e46443",
   "metadata": {
    "execution": {
     "iopub.execute_input": "2023-06-21T04:55:39.773582Z",
     "iopub.status.busy": "2023-06-21T04:55:39.772852Z",
     "iopub.status.idle": "2023-06-21T04:55:39.777245Z",
     "shell.execute_reply": "2023-06-21T04:55:39.776148Z"
    },
    "papermill": {
     "duration": 0.018012,
     "end_time": "2023-06-21T04:55:39.779394",
     "exception": false,
     "start_time": "2023-06-21T04:55:39.761382",
     "status": "completed"
    },
    "tags": []
   },
   "outputs": [],
   "source": [
    "#Model Reading\n",
    "# dir = '/kaggle/input/catbust/'\n",
    "# for q in quests_0_4 + quests_5_12 + quests_13_22:\n",
    "#     models[q] = CatBoostClassifier().load_model(dir+f'cat_model_{q}.bin')"
   ]
  },
  {
   "cell_type": "markdown",
   "id": "8a1ef7a0",
   "metadata": {
    "papermill": {
     "duration": 0.009879,
     "end_time": "2023-06-21T04:55:39.799751",
     "exception": false,
     "start_time": "2023-06-21T04:55:39.789872",
     "status": "completed"
    },
    "tags": []
   },
   "source": [
    "**Infer Test Data**"
   ]
  },
  {
   "cell_type": "code",
   "execution_count": 22,
   "id": "c77416ab",
   "metadata": {
    "execution": {
     "iopub.execute_input": "2023-06-21T04:55:39.823004Z",
     "iopub.status.busy": "2023-06-21T04:55:39.822265Z",
     "iopub.status.idle": "2023-06-21T04:55:39.826480Z",
     "shell.execute_reply": "2023-06-21T04:55:39.825679Z"
    },
    "papermill": {
     "duration": 0.018008,
     "end_time": "2023-06-21T04:55:39.828523",
     "exception": false,
     "start_time": "2023-06-21T04:55:39.810515",
     "status": "completed"
    },
    "tags": []
   },
   "outputs": [],
   "source": [
    "# import jo_wilder\n",
    "\n",
    "# try:\n",
    "#     jo_wilder.make_env.__called__ = False\n",
    "#     env.__called__ = False\n",
    "#     type(env)._state = type(type(env)._state).__dict__['INIT']\n",
    "# except:\n",
    "#     pass\n",
    "\n",
    "# env = jo_wilder.make_env()\n",
    "# iter_test = env.iter_test()    "
   ]
  },
  {
   "cell_type": "code",
   "execution_count": 23,
   "id": "dcb2cc1d",
   "metadata": {
    "execution": {
     "iopub.execute_input": "2023-06-21T04:55:39.851627Z",
     "iopub.status.busy": "2023-06-21T04:55:39.850816Z",
     "iopub.status.idle": "2023-06-21T04:55:39.855066Z",
     "shell.execute_reply": "2023-06-21T04:55:39.854049Z"
    },
    "papermill": {
     "duration": 0.018142,
     "end_time": "2023-06-21T04:55:39.857247",
     "exception": false,
     "start_time": "2023-06-21T04:55:39.839105",
     "status": "completed"
    },
    "tags": []
   },
   "outputs": [],
   "source": [
    "import time"
   ]
  },
  {
   "cell_type": "code",
   "execution_count": 24,
   "id": "89e38290",
   "metadata": {
    "execution": {
     "iopub.execute_input": "2023-06-21T04:55:39.880350Z",
     "iopub.status.busy": "2023-06-21T04:55:39.879683Z",
     "iopub.status.idle": "2023-06-21T04:55:39.885925Z",
     "shell.execute_reply": "2023-06-21T04:55:39.884981Z"
    },
    "papermill": {
     "duration": 0.020236,
     "end_time": "2023-06-21T04:55:39.888138",
     "exception": false,
     "start_time": "2023-06-21T04:55:39.867902",
     "status": "completed"
    },
    "tags": []
   },
   "outputs": [],
   "source": [
    "def convert_arr(dataset_df):\n",
    "     \n",
    "    max_rows = 200 #dataset_df['session_id'].value_counts().max()\n",
    "\n",
    "    # Create a list to store reshaped arrays\n",
    "#     df_arrays = []  \n",
    "    session_rows = dataset_df.head(max_rows)\n",
    "    session_rows.drop('session_id',inplace=True, axis=1)\n",
    "    \n",
    "#     session_rows.drop('index',inplace=True, axis=1)                \n",
    "\n",
    "    sc = StandardScaler()   \n",
    "    session_rows  = sc.fit_transform(session_rows) #[NUMERICAL]) \n",
    "    \n",
    "    num_rows = session_rows.shape[0]\n",
    "    pad_rows = max_rows - num_rows\n",
    "    padded_arr = np.pad(session_rows, ((0, pad_rows), (0, 0)), mode='constant')\n",
    "#     padded_arrays.append(padded_arr)\n",
    "\n",
    "\n",
    " \n",
    "    # Append the reshaped array to the list\n",
    "#     df_arrays.append(session_rows) \n",
    "\n",
    "    # Display the reshaped array\n",
    "#     print(len(df_arrays))\n",
    "    return np.array(padded_arr)"
   ]
  },
  {
   "cell_type": "code",
   "execution_count": 25,
   "id": "527b83af",
   "metadata": {
    "execution": {
     "iopub.execute_input": "2023-06-21T04:55:39.911655Z",
     "iopub.status.busy": "2023-06-21T04:55:39.910944Z",
     "iopub.status.idle": "2023-06-21T04:55:39.915008Z",
     "shell.execute_reply": "2023-06-21T04:55:39.914236Z"
    },
    "papermill": {
     "duration": 0.01832,
     "end_time": "2023-06-21T04:55:39.916974",
     "exception": false,
     "start_time": "2023-06-21T04:55:39.898654",
     "status": "completed"
    },
    "tags": []
   },
   "outputs": [],
   "source": [
    "# import numpy as np\n",
    "\n",
    "# def pad_arrays(arrays):\n",
    "#     max_rows = 200 #max(arr.shape[0] for arr in arrays)\n",
    "#     padded_arrays = []\n",
    "\n",
    "#     for arr in arrays:\n",
    "#         num_rows = arr.shape[0]\n",
    "#         pad_rows = max_rows - num_rows\n",
    "#         padded_arr = np.pad(arr, ((0, pad_rows), (0, 0)), mode='constant')\n",
    "#         padded_arrays.append(padded_arr)\n",
    "\n",
    "#     return np.array(padded_arrays)"
   ]
  },
  {
   "cell_type": "code",
   "execution_count": 26,
   "id": "a1c571c9",
   "metadata": {
    "execution": {
     "iopub.execute_input": "2023-06-21T04:55:39.940279Z",
     "iopub.status.busy": "2023-06-21T04:55:39.939560Z",
     "iopub.status.idle": "2023-06-21T04:55:39.946400Z",
     "shell.execute_reply": "2023-06-21T04:55:39.945582Z"
    },
    "papermill": {
     "duration": 0.021281,
     "end_time": "2023-06-21T04:55:39.948685",
     "exception": false,
     "start_time": "2023-06-21T04:55:39.927404",
     "status": "completed"
    },
    "tags": []
   },
   "outputs": [],
   "source": [
    "def feature_engineer1(test_df):\n",
    "    cols = ['session_id','elapsed_time','level','page','room_coor_x', 'room_coor_y', \n",
    "        'screen_coor_x', 'screen_coor_y', 'hover_duration',#'level_group',\n",
    "            'd_time','delt_time','delt_time_next']\n",
    "    test_df = test_df[cols]\n",
    "    \n",
    "    \n",
    "#     test_df.drop(['fullscreen','hq','music','text'],inplace=True, axis=1)\n",
    "#     test_object_columns = test_df.select_dtypes(include='object').columns\n",
    "#     test_object_columns = test_object_columns.drop('level_group')\n",
    "     \n",
    "#     test_df[test_object_columns] = test_df[test_object_columns].astype('category') \n",
    "    \n",
    "#     print(\"in fe \",test_df.columns)\n",
    "#     test_df = fillnull(test_df)\n",
    "#     print(\"after fillnull \",test_df.columns)\n",
    "#     test_df = pd.read_csv(f,usecols=cols)\n",
    "#     test_df = test_df[cols]\n",
    "#     test_df.fillna(0,inplace=True)\n",
    "    \n",
    "    \n",
    "#     test_df.drop('level_group',inplace=True, axis=1)\n",
    "    \n",
    "    test_df = test_df.reset_index(drop=True)\n",
    "#     print(\"in fe after ind 1\",test_df.columns)\n",
    "    test_df = test_df.set_index('session_id',drop=False)\n",
    "#     print(\"in fe after ind 2\",test_df.columns)\n",
    "#     df = \n",
    "    for column in cols:\n",
    "        if test_df[column].isna().sum()>0:\n",
    "            test_df[column].fillna(0,inplace=True,axis=0) \n",
    "    \n",
    "    df = convert_arr(test_df)\n",
    "    df = np.expand_dims(df, axis=0)\n",
    "#     test_data1 = pad_arrays(df)\n",
    "    \n",
    "            \n",
    "       \n",
    "    \n",
    "    \n",
    "    \n",
    "    return df"
   ]
  },
  {
   "cell_type": "code",
   "execution_count": 27,
   "id": "0c46ea39",
   "metadata": {
    "execution": {
     "iopub.execute_input": "2023-06-21T04:55:39.971418Z",
     "iopub.status.busy": "2023-06-21T04:55:39.970746Z",
     "iopub.status.idle": "2023-06-21T04:55:48.971248Z",
     "shell.execute_reply": "2023-06-21T04:55:48.970187Z"
    },
    "papermill": {
     "duration": 9.014339,
     "end_time": "2023-06-21T04:55:48.973446",
     "exception": false,
     "start_time": "2023-06-21T04:55:39.959107",
     "status": "completed"
    },
    "tags": []
   },
   "outputs": [
    {
     "name": "stderr",
     "output_type": "stream",
     "text": [
      "/opt/conda/lib/python3.10/site-packages/tensorflow_io/python/ops/__init__.py:98: UserWarning: unable to load libtensorflow_io_plugins.so: unable to open file: libtensorflow_io_plugins.so, from paths: ['/opt/conda/lib/python3.10/site-packages/tensorflow_io/python/ops/libtensorflow_io_plugins.so']\n",
      "caused by: ['/opt/conda/lib/python3.10/site-packages/tensorflow_io/python/ops/libtensorflow_io_plugins.so: undefined symbol: _ZN3tsl6StatusC1EN10tensorflow5error4CodeESt17basic_string_viewIcSt11char_traitsIcEENS_14SourceLocationE']\n",
      "  warnings.warn(f\"unable to load libtensorflow_io_plugins.so: {e}\")\n",
      "/opt/conda/lib/python3.10/site-packages/tensorflow_io/python/ops/__init__.py:104: UserWarning: file system plugins are not loaded: unable to open file: libtensorflow_io.so, from paths: ['/opt/conda/lib/python3.10/site-packages/tensorflow_io/python/ops/libtensorflow_io.so']\n",
      "caused by: ['/opt/conda/lib/python3.10/site-packages/tensorflow_io/python/ops/libtensorflow_io.so: undefined symbol: _ZTVN10tensorflow13GcsFileSystemE']\n",
      "  warnings.warn(f\"file system plugins are not loaded: {e}\")\n"
     ]
    }
   ],
   "source": [
    "from tensorflow import keras\n",
    "from tensorflow.keras import layers\n",
    "from sklearn.metrics import f1_score\n",
    "from keras.callbacks import Callback,ModelCheckpoint\n",
    "from keras.models import Sequential,load_model\n",
    "from keras.layers import Dense, Dropout\n",
    "from keras.wrappers.scikit_learn import KerasClassifier\n",
    "import keras.backend as K\n",
    "\n",
    "# def f1_score_metric(y_true, y_pred):\n",
    "#     y_pred_binary = tf.round(y_pred)  # Convert probabilities to binary predictions\n",
    "#     return f1_score(y_true, y_pred_binary)\n",
    "\n",
    "def get_f1(y_true, y_pred): #taken from old keras source code\n",
    "    true_positives = K.sum(K.round(K.clip(y_true * y_pred, 0, 1)))\n",
    "    possible_positives = K.sum(K.round(K.clip(y_true, 0, 1)))\n",
    "    predicted_positives = K.sum(K.round(K.clip(y_pred, 0, 1)))\n",
    "    precision = true_positives / (predicted_positives + K.epsilon())\n",
    "    recall = true_positives / (possible_positives + K.epsilon())\n",
    "    f1_val = 2*(precision*recall)/(precision+recall+K.epsilon())\n",
    "    return f1_val"
   ]
  },
  {
   "cell_type": "code",
   "execution_count": 28,
   "id": "810ca9dd",
   "metadata": {
    "execution": {
     "iopub.execute_input": "2023-06-21T04:55:48.996775Z",
     "iopub.status.busy": "2023-06-21T04:55:48.995563Z",
     "iopub.status.idle": "2023-06-21T04:56:07.829173Z",
     "shell.execute_reply": "2023-06-21T04:56:07.828171Z"
    },
    "papermill": {
     "duration": 18.847768,
     "end_time": "2023-06-21T04:56:07.831663",
     "exception": false,
     "start_time": "2023-06-21T04:55:48.983895",
     "status": "completed"
    },
    "tags": []
   },
   "outputs": [
    {
     "name": "stdout",
     "output_type": "stream",
     "text": [
      "This version of the API is not optimized and should not be used to estimate the runtime of your code on the hidden test set.\n"
     ]
    },
    {
     "name": "stderr",
     "output_type": "stream",
     "text": [
      "/tmp/ipykernel_18/1987045332.py:8: SettingWithCopyWarning: \n",
      "A value is trying to be set on a copy of a slice from a DataFrame\n",
      "\n",
      "See the caveats in the documentation: https://pandas.pydata.org/pandas-docs/stable/user_guide/indexing.html#returning-a-view-versus-a-copy\n",
      "  session_rows.drop('session_id',inplace=True, axis=1)\n",
      "/tmp/ipykernel_18/1987045332.py:8: SettingWithCopyWarning: \n",
      "A value is trying to be set on a copy of a slice from a DataFrame\n",
      "\n",
      "See the caveats in the documentation: https://pandas.pydata.org/pandas-docs/stable/user_guide/indexing.html#returning-a-view-versus-a-copy\n",
      "  session_rows.drop('session_id',inplace=True, axis=1)\n",
      "/tmp/ipykernel_18/1987045332.py:8: SettingWithCopyWarning: \n",
      "A value is trying to be set on a copy of a slice from a DataFrame\n",
      "\n",
      "See the caveats in the documentation: https://pandas.pydata.org/pandas-docs/stable/user_guide/indexing.html#returning-a-view-versus-a-copy\n",
      "  session_rows.drop('session_id',inplace=True, axis=1)\n"
     ]
    }
   ],
   "source": [
    "import os\n",
    "os.chdir(r'/kaggle/working/')\n",
    "\n",
    "import jo_wilder_310\n",
    "jo_wilder_310.make_env.func_dict['__called__'] = False\n",
    "env = jo_wilder_310.make_env()\n",
    "\n",
    "iter_test = env.iter_test()\n",
    "# g_end4 = 0\n",
    "# g_end5 = 0\n",
    "\n",
    "# print(\"dfasdfa\")\n",
    "\n",
    "quests_0_4 = [1,2,3]\n",
    "quests_5_12 = [4, 5, 6, 7, 8, 9, 10, 11] \n",
    "quests_13_22 = [14, 15, 16, 17] \n",
    "\n",
    "list_q = {'0-4':quests_0_4, '5-12':quests_5_12, '13-22':quests_13_22}\n",
    "for (test, sam_sub) in iter_test:\n",
    "#     print(test.shape)\n",
    "    sam_sub['question'] = [int(label.split('_')[1][1:]) for label in sam_sub['session_id']]    \n",
    "    grp = test.level_group.values[0]   \n",
    "    sam_sub['correct'] = 1\n",
    "    sam_sub.loc[sam_sub.question.isin([5, 8, 10, 13, 15]), 'correct'] = 0  \n",
    "    old_train = delt_time_def(test[test.level_group == grp])\n",
    "    \n",
    "    tpuqns = [1,2,3] #,14,15,16,17,18]\n",
    "    \n",
    "    if grp=='0-4':\n",
    "#         print(\"grp here \",grp)\n",
    "        test = delt_time_def(test)\n",
    "        test_data = feature_engineer1(test)  \n",
    "    \n",
    "#     print(\"dafasdfas\")\n",
    "       \n",
    "    for q in list_q[grp]:\n",
    "#         print('q here ',q)\n",
    "        \n",
    "#         start4 = time.time() \n",
    "        \n",
    "#         end4 = time.time() - start4\n",
    "#         g_end4 += end4\n",
    "        \n",
    "#         start5 = time.time()     \n",
    "        \n",
    "        if q in tpuqns:\n",
    "\n",
    "            os.chdir(r'/kaggle/input/std-pred-transformer-6a/models') \n",
    "            filename = 'tpu'+'_'+f'{grp}_{q}'\n",
    "#             print(\"file \",filename)\n",
    "\n",
    "            tr_model = pickle.load(open(filename, 'rb')) \n",
    "\n",
    "            pred= tr_model(test_data).numpy().ravel()\n",
    "\n",
    "\n",
    "            predictions = [1 if x > best_threshold else 0 for x in pred]\n",
    "#             print(\"prediccted for q \",q,\"using tpu model\")\n",
    "        else:\n",
    "            \n",
    "            new_train = feature_engineer(old_train, list_kol_f[q])\n",
    "            new_train = feature_quest_otvet(new_train, old_train, q, list_kol_f[q])\n",
    "        \n",
    "        \n",
    "            clf = models[f'{q}']\n",
    "            p = clf.predict_proba(new_train.astype('float32'))[:,1]   \n",
    "            predictions = [1 if x > best_threshold else 0 for x in p]\n",
    "#             print(\"predicted for q \",q,\"using cb model\")\n",
    "\n",
    "#             end5 = time.time() - start5\n",
    "#             g_end5 += end5\n",
    "\n",
    "\n",
    "        mask = sam_sub.question == q \n",
    "#         print(\"q before update\",q)\n",
    "#             x = int(p[0]>best_threshold)\n",
    "        sam_sub.loc[mask,'correct'] = predictions  \n",
    "        try:\n",
    "            del predictions\n",
    "        except NameError:\n",
    "            pass\n",
    "    try:\n",
    "        del test_data\n",
    "    except NameError:\n",
    "        pass\n",
    "\n",
    "        \n",
    "        \n",
    "    sam_sub = sam_sub[['session_id', 'correct']]  \n",
    "    os.chdir(r'/kaggle/working/')\n",
    "    env.predict(sam_sub)"
   ]
  },
  {
   "cell_type": "markdown",
   "id": "b53dfd0f",
   "metadata": {
    "papermill": {
     "duration": 0.010535,
     "end_time": "2023-06-21T04:56:07.852971",
     "exception": false,
     "start_time": "2023-06-21T04:56:07.842436",
     "status": "completed"
    },
    "tags": []
   },
   "source": [
    "# EDA submission.csv"
   ]
  },
  {
   "cell_type": "code",
   "execution_count": 29,
   "id": "f01bb3c1",
   "metadata": {
    "execution": {
     "iopub.execute_input": "2023-06-21T04:56:07.876565Z",
     "iopub.status.busy": "2023-06-21T04:56:07.875402Z",
     "iopub.status.idle": "2023-06-21T04:56:07.891194Z",
     "shell.execute_reply": "2023-06-21T04:56:07.890352Z"
    },
    "papermill": {
     "duration": 0.029665,
     "end_time": "2023-06-21T04:56:07.893046",
     "exception": false,
     "start_time": "2023-06-21T04:56:07.863381",
     "status": "completed"
    },
    "tags": []
   },
   "outputs": [
    {
     "name": "stdout",
     "output_type": "stream",
     "text": [
      "(54, 2)\n"
     ]
    },
    {
     "data": {
      "text/html": [
       "<div>\n",
       "<style scoped>\n",
       "    .dataframe tbody tr th:only-of-type {\n",
       "        vertical-align: middle;\n",
       "    }\n",
       "\n",
       "    .dataframe tbody tr th {\n",
       "        vertical-align: top;\n",
       "    }\n",
       "\n",
       "    .dataframe thead th {\n",
       "        text-align: right;\n",
       "    }\n",
       "</style>\n",
       "<table border=\"1\" class=\"dataframe\">\n",
       "  <thead>\n",
       "    <tr style=\"text-align: right;\">\n",
       "      <th></th>\n",
       "      <th>session_id</th>\n",
       "      <th>correct</th>\n",
       "    </tr>\n",
       "  </thead>\n",
       "  <tbody>\n",
       "    <tr>\n",
       "      <th>0</th>\n",
       "      <td>20090109393214576_q1</td>\n",
       "      <td>1</td>\n",
       "    </tr>\n",
       "    <tr>\n",
       "      <th>1</th>\n",
       "      <td>20090109393214576_q2</td>\n",
       "      <td>1</td>\n",
       "    </tr>\n",
       "    <tr>\n",
       "      <th>2</th>\n",
       "      <td>20090109393214576_q3</td>\n",
       "      <td>1</td>\n",
       "    </tr>\n",
       "    <tr>\n",
       "      <th>3</th>\n",
       "      <td>20090109393214576_q4</td>\n",
       "      <td>1</td>\n",
       "    </tr>\n",
       "    <tr>\n",
       "      <th>4</th>\n",
       "      <td>20090109393214576_q5</td>\n",
       "      <td>0</td>\n",
       "    </tr>\n",
       "    <tr>\n",
       "      <th>5</th>\n",
       "      <td>20090109393214576_q6</td>\n",
       "      <td>1</td>\n",
       "    </tr>\n",
       "    <tr>\n",
       "      <th>6</th>\n",
       "      <td>20090109393214576_q7</td>\n",
       "      <td>1</td>\n",
       "    </tr>\n",
       "    <tr>\n",
       "      <th>7</th>\n",
       "      <td>20090109393214576_q8</td>\n",
       "      <td>0</td>\n",
       "    </tr>\n",
       "    <tr>\n",
       "      <th>8</th>\n",
       "      <td>20090109393214576_q9</td>\n",
       "      <td>1</td>\n",
       "    </tr>\n",
       "    <tr>\n",
       "      <th>9</th>\n",
       "      <td>20090109393214576_q10</td>\n",
       "      <td>0</td>\n",
       "    </tr>\n",
       "    <tr>\n",
       "      <th>10</th>\n",
       "      <td>20090109393214576_q11</td>\n",
       "      <td>0</td>\n",
       "    </tr>\n",
       "    <tr>\n",
       "      <th>11</th>\n",
       "      <td>20090109393214576_q12</td>\n",
       "      <td>1</td>\n",
       "    </tr>\n",
       "    <tr>\n",
       "      <th>12</th>\n",
       "      <td>20090109393214576_q13</td>\n",
       "      <td>0</td>\n",
       "    </tr>\n",
       "    <tr>\n",
       "      <th>13</th>\n",
       "      <td>20090109393214576_q14</td>\n",
       "      <td>1</td>\n",
       "    </tr>\n",
       "    <tr>\n",
       "      <th>14</th>\n",
       "      <td>20090109393214576_q15</td>\n",
       "      <td>0</td>\n",
       "    </tr>\n",
       "    <tr>\n",
       "      <th>15</th>\n",
       "      <td>20090109393214576_q16</td>\n",
       "      <td>1</td>\n",
       "    </tr>\n",
       "    <tr>\n",
       "      <th>16</th>\n",
       "      <td>20090109393214576_q17</td>\n",
       "      <td>1</td>\n",
       "    </tr>\n",
       "    <tr>\n",
       "      <th>17</th>\n",
       "      <td>20090109393214576_q18</td>\n",
       "      <td>1</td>\n",
       "    </tr>\n",
       "    <tr>\n",
       "      <th>18</th>\n",
       "      <td>20090312143683264_q1</td>\n",
       "      <td>1</td>\n",
       "    </tr>\n",
       "    <tr>\n",
       "      <th>19</th>\n",
       "      <td>20090312143683264_q2</td>\n",
       "      <td>1</td>\n",
       "    </tr>\n",
       "    <tr>\n",
       "      <th>20</th>\n",
       "      <td>20090312143683264_q3</td>\n",
       "      <td>1</td>\n",
       "    </tr>\n",
       "    <tr>\n",
       "      <th>21</th>\n",
       "      <td>20090312143683264_q4</td>\n",
       "      <td>1</td>\n",
       "    </tr>\n",
       "    <tr>\n",
       "      <th>22</th>\n",
       "      <td>20090312143683264_q5</td>\n",
       "      <td>0</td>\n",
       "    </tr>\n",
       "    <tr>\n",
       "      <th>23</th>\n",
       "      <td>20090312143683264_q6</td>\n",
       "      <td>0</td>\n",
       "    </tr>\n",
       "    <tr>\n",
       "      <th>24</th>\n",
       "      <td>20090312143683264_q7</td>\n",
       "      <td>0</td>\n",
       "    </tr>\n",
       "    <tr>\n",
       "      <th>25</th>\n",
       "      <td>20090312143683264_q8</td>\n",
       "      <td>0</td>\n",
       "    </tr>\n",
       "    <tr>\n",
       "      <th>26</th>\n",
       "      <td>20090312143683264_q9</td>\n",
       "      <td>0</td>\n",
       "    </tr>\n",
       "    <tr>\n",
       "      <th>27</th>\n",
       "      <td>20090312143683264_q10</td>\n",
       "      <td>0</td>\n",
       "    </tr>\n",
       "    <tr>\n",
       "      <th>28</th>\n",
       "      <td>20090312143683264_q11</td>\n",
       "      <td>0</td>\n",
       "    </tr>\n",
       "    <tr>\n",
       "      <th>29</th>\n",
       "      <td>20090312143683264_q12</td>\n",
       "      <td>1</td>\n",
       "    </tr>\n",
       "    <tr>\n",
       "      <th>30</th>\n",
       "      <td>20090312143683264_q13</td>\n",
       "      <td>0</td>\n",
       "    </tr>\n",
       "    <tr>\n",
       "      <th>31</th>\n",
       "      <td>20090312143683264_q14</td>\n",
       "      <td>0</td>\n",
       "    </tr>\n",
       "    <tr>\n",
       "      <th>32</th>\n",
       "      <td>20090312143683264_q15</td>\n",
       "      <td>0</td>\n",
       "    </tr>\n",
       "    <tr>\n",
       "      <th>33</th>\n",
       "      <td>20090312143683264_q16</td>\n",
       "      <td>1</td>\n",
       "    </tr>\n",
       "    <tr>\n",
       "      <th>34</th>\n",
       "      <td>20090312143683264_q17</td>\n",
       "      <td>1</td>\n",
       "    </tr>\n",
       "    <tr>\n",
       "      <th>35</th>\n",
       "      <td>20090312143683264_q18</td>\n",
       "      <td>1</td>\n",
       "    </tr>\n",
       "    <tr>\n",
       "      <th>36</th>\n",
       "      <td>20090312331414616_q1</td>\n",
       "      <td>1</td>\n",
       "    </tr>\n",
       "    <tr>\n",
       "      <th>37</th>\n",
       "      <td>20090312331414616_q2</td>\n",
       "      <td>1</td>\n",
       "    </tr>\n",
       "    <tr>\n",
       "      <th>38</th>\n",
       "      <td>20090312331414616_q3</td>\n",
       "      <td>1</td>\n",
       "    </tr>\n",
       "    <tr>\n",
       "      <th>39</th>\n",
       "      <td>20090312331414616_q4</td>\n",
       "      <td>1</td>\n",
       "    </tr>\n",
       "    <tr>\n",
       "      <th>40</th>\n",
       "      <td>20090312331414616_q5</td>\n",
       "      <td>1</td>\n",
       "    </tr>\n",
       "    <tr>\n",
       "      <th>41</th>\n",
       "      <td>20090312331414616_q6</td>\n",
       "      <td>1</td>\n",
       "    </tr>\n",
       "    <tr>\n",
       "      <th>42</th>\n",
       "      <td>20090312331414616_q7</td>\n",
       "      <td>1</td>\n",
       "    </tr>\n",
       "    <tr>\n",
       "      <th>43</th>\n",
       "      <td>20090312331414616_q8</td>\n",
       "      <td>1</td>\n",
       "    </tr>\n",
       "    <tr>\n",
       "      <th>44</th>\n",
       "      <td>20090312331414616_q9</td>\n",
       "      <td>1</td>\n",
       "    </tr>\n",
       "    <tr>\n",
       "      <th>45</th>\n",
       "      <td>20090312331414616_q10</td>\n",
       "      <td>0</td>\n",
       "    </tr>\n",
       "    <tr>\n",
       "      <th>46</th>\n",
       "      <td>20090312331414616_q11</td>\n",
       "      <td>1</td>\n",
       "    </tr>\n",
       "    <tr>\n",
       "      <th>47</th>\n",
       "      <td>20090312331414616_q12</td>\n",
       "      <td>1</td>\n",
       "    </tr>\n",
       "    <tr>\n",
       "      <th>48</th>\n",
       "      <td>20090312331414616_q13</td>\n",
       "      <td>0</td>\n",
       "    </tr>\n",
       "    <tr>\n",
       "      <th>49</th>\n",
       "      <td>20090312331414616_q14</td>\n",
       "      <td>1</td>\n",
       "    </tr>\n",
       "    <tr>\n",
       "      <th>50</th>\n",
       "      <td>20090312331414616_q15</td>\n",
       "      <td>1</td>\n",
       "    </tr>\n",
       "    <tr>\n",
       "      <th>51</th>\n",
       "      <td>20090312331414616_q16</td>\n",
       "      <td>1</td>\n",
       "    </tr>\n",
       "    <tr>\n",
       "      <th>52</th>\n",
       "      <td>20090312331414616_q17</td>\n",
       "      <td>1</td>\n",
       "    </tr>\n",
       "    <tr>\n",
       "      <th>53</th>\n",
       "      <td>20090312331414616_q18</td>\n",
       "      <td>1</td>\n",
       "    </tr>\n",
       "  </tbody>\n",
       "</table>\n",
       "</div>"
      ],
      "text/plain": [
       "               session_id  correct\n",
       "0    20090109393214576_q1        1\n",
       "1    20090109393214576_q2        1\n",
       "2    20090109393214576_q3        1\n",
       "3    20090109393214576_q4        1\n",
       "4    20090109393214576_q5        0\n",
       "5    20090109393214576_q6        1\n",
       "6    20090109393214576_q7        1\n",
       "7    20090109393214576_q8        0\n",
       "8    20090109393214576_q9        1\n",
       "9   20090109393214576_q10        0\n",
       "10  20090109393214576_q11        0\n",
       "11  20090109393214576_q12        1\n",
       "12  20090109393214576_q13        0\n",
       "13  20090109393214576_q14        1\n",
       "14  20090109393214576_q15        0\n",
       "15  20090109393214576_q16        1\n",
       "16  20090109393214576_q17        1\n",
       "17  20090109393214576_q18        1\n",
       "18   20090312143683264_q1        1\n",
       "19   20090312143683264_q2        1\n",
       "20   20090312143683264_q3        1\n",
       "21   20090312143683264_q4        1\n",
       "22   20090312143683264_q5        0\n",
       "23   20090312143683264_q6        0\n",
       "24   20090312143683264_q7        0\n",
       "25   20090312143683264_q8        0\n",
       "26   20090312143683264_q9        0\n",
       "27  20090312143683264_q10        0\n",
       "28  20090312143683264_q11        0\n",
       "29  20090312143683264_q12        1\n",
       "30  20090312143683264_q13        0\n",
       "31  20090312143683264_q14        0\n",
       "32  20090312143683264_q15        0\n",
       "33  20090312143683264_q16        1\n",
       "34  20090312143683264_q17        1\n",
       "35  20090312143683264_q18        1\n",
       "36   20090312331414616_q1        1\n",
       "37   20090312331414616_q2        1\n",
       "38   20090312331414616_q3        1\n",
       "39   20090312331414616_q4        1\n",
       "40   20090312331414616_q5        1\n",
       "41   20090312331414616_q6        1\n",
       "42   20090312331414616_q7        1\n",
       "43   20090312331414616_q8        1\n",
       "44   20090312331414616_q9        1\n",
       "45  20090312331414616_q10        0\n",
       "46  20090312331414616_q11        1\n",
       "47  20090312331414616_q12        1\n",
       "48  20090312331414616_q13        0\n",
       "49  20090312331414616_q14        1\n",
       "50  20090312331414616_q15        1\n",
       "51  20090312331414616_q16        1\n",
       "52  20090312331414616_q17        1\n",
       "53  20090312331414616_q18        1"
      ]
     },
     "execution_count": 29,
     "metadata": {},
     "output_type": "execute_result"
    }
   ],
   "source": [
    "df = pd.read_csv('submission.csv')\n",
    "print( df.shape )\n",
    "df.iloc[-54:]"
   ]
  },
  {
   "cell_type": "code",
   "execution_count": null,
   "id": "815ea87c",
   "metadata": {
    "papermill": {
     "duration": 0.010489,
     "end_time": "2023-06-21T04:56:07.914571",
     "exception": false,
     "start_time": "2023-06-21T04:56:07.904082",
     "status": "completed"
    },
    "tags": []
   },
   "outputs": [],
   "source": []
  },
  {
   "cell_type": "code",
   "execution_count": null,
   "id": "c6ccd2ea",
   "metadata": {
    "papermill": {
     "duration": 0.010494,
     "end_time": "2023-06-21T04:56:07.936314",
     "exception": false,
     "start_time": "2023-06-21T04:56:07.925820",
     "status": "completed"
    },
    "tags": []
   },
   "outputs": [],
   "source": []
  },
  {
   "cell_type": "code",
   "execution_count": null,
   "id": "25c620d3",
   "metadata": {
    "papermill": {
     "duration": 0.010523,
     "end_time": "2023-06-21T04:56:07.957842",
     "exception": false,
     "start_time": "2023-06-21T04:56:07.947319",
     "status": "completed"
    },
    "tags": []
   },
   "outputs": [],
   "source": []
  },
  {
   "cell_type": "code",
   "execution_count": null,
   "id": "68f86864",
   "metadata": {
    "papermill": {
     "duration": 0.010625,
     "end_time": "2023-06-21T04:56:07.979990",
     "exception": false,
     "start_time": "2023-06-21T04:56:07.969365",
     "status": "completed"
    },
    "tags": []
   },
   "outputs": [],
   "source": []
  }
 ],
 "metadata": {
  "kernelspec": {
   "display_name": "Python 3",
   "language": "python",
   "name": "python3"
  },
  "language_info": {
   "codemirror_mode": {
    "name": "ipython",
    "version": 3
   },
   "file_extension": ".py",
   "mimetype": "text/x-python",
   "name": "python",
   "nbconvert_exporter": "python",
   "pygments_lexer": "ipython3",
   "version": "3.10.10"
  },
  "papermill": {
   "default_parameters": {},
   "duration": 844.860896,
   "end_time": "2023-06-21T04:56:11.296084",
   "environment_variables": {},
   "exception": null,
   "input_path": "__notebook__.ipynb",
   "output_path": "__notebook__.ipynb",
   "parameters": {},
   "start_time": "2023-06-21T04:42:06.435188",
   "version": "2.4.0"
  }
 },
 "nbformat": 4,
 "nbformat_minor": 5
}
