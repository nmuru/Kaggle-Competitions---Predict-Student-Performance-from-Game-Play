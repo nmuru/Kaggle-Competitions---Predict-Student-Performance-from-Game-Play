{
 "cells": [
  {
   "cell_type": "code",
   "execution_count": 1,
   "id": "180a157b",
   "metadata": {
    "execution": {
     "iopub.execute_input": "2023-06-26T13:22:57.120961Z",
     "iopub.status.busy": "2023-06-26T13:22:57.120554Z",
     "iopub.status.idle": "2023-06-26T13:22:58.905922Z",
     "shell.execute_reply": "2023-06-26T13:22:58.904932Z"
    },
    "papermill": {
     "duration": 1.801192,
     "end_time": "2023-06-26T13:22:58.908626",
     "exception": false,
     "start_time": "2023-06-26T13:22:57.107434",
     "status": "completed"
    },
    "tags": []
   },
   "outputs": [],
   "source": [
    "import pandas as pd, numpy as np\n",
    "from catboost import CatBoostClassifier\n",
    "from sklearn.preprocessing import StandardScaler\n",
    "import pickle\n",
    "import sys\n",
    "import os\n",
    "import gc"
   ]
  },
  {
   "cell_type": "markdown",
   "id": "2acfa748",
   "metadata": {
    "papermill": {
     "duration": 0.008553,
     "end_time": "2023-06-26T13:22:58.926277",
     "exception": false,
     "start_time": "2023-06-26T13:22:58.917724",
     "status": "completed"
    },
    "tags": []
   },
   "source": [
    "# Load Train Data and Labels"
   ]
  },
  {
   "cell_type": "code",
   "execution_count": 2,
   "id": "87a5b0ff",
   "metadata": {
    "execution": {
     "iopub.execute_input": "2023-06-26T13:22:58.945817Z",
     "iopub.status.busy": "2023-06-26T13:22:58.944909Z",
     "iopub.status.idle": "2023-06-26T13:22:58.953116Z",
     "shell.execute_reply": "2023-06-26T13:22:58.952069Z"
    },
    "papermill": {
     "duration": 0.020296,
     "end_time": "2023-06-26T13:22:58.955372",
     "exception": false,
     "start_time": "2023-06-26T13:22:58.935076",
     "status": "completed"
    },
    "tags": []
   },
   "outputs": [],
   "source": [
    "dtypes = {\"session_id\": 'int64',\n",
    "          \"index\": np.int16,\n",
    "          \"elapsed_time\": np.int32,\n",
    "          \"event_name\": 'category',\n",
    "          \"name\": 'category',\n",
    "          \"level\": np.int8,\n",
    "          \"page\": np.float16,\n",
    "          \"room_coor_x\": np.float16,\n",
    "          \"room_coor_y\": np.float16,\n",
    "          \"screen_coor_x\": np.float16,\n",
    "          \"screen_coor_y\": np.float16,\n",
    "          \"hover_duration\": np.float32,\n",
    "          \"text\": 'category',\n",
    "          \"fqid\": 'category',\n",
    "          \"room_fqid\": 'category',\n",
    "          \"text_fqid\": 'category',\n",
    "          \"fullscreen\": np.int8,\n",
    "          \"hq\": np.int8,\n",
    "          \"music\": np.int8,\n",
    "          \"level_group\": 'category'\n",
    "          }\n",
    "use_col = ['session_id', 'index', 'elapsed_time', 'event_name', 'name', 'level', 'page',\n",
    "           'room_coor_x', 'room_coor_y', 'hover_duration', 'text', 'fqid', 'room_fqid', 'text_fqid', 'level_group']"
   ]
  },
  {
   "cell_type": "code",
   "execution_count": 3,
   "id": "63532350",
   "metadata": {
    "execution": {
     "iopub.execute_input": "2023-06-26T13:22:58.976161Z",
     "iopub.status.busy": "2023-06-26T13:22:58.975449Z",
     "iopub.status.idle": "2023-06-26T13:23:00.597319Z",
     "shell.execute_reply": "2023-06-26T13:23:00.596208Z"
    },
    "papermill": {
     "duration": 1.635477,
     "end_time": "2023-06-26T13:23:00.600151",
     "exception": false,
     "start_time": "2023-06-26T13:22:58.964674",
     "status": "completed"
    },
    "tags": []
   },
   "outputs": [
    {
     "name": "stdout",
     "output_type": "stream",
     "text": [
      "(424116, 4)\n"
     ]
    },
    {
     "data": {
      "text/html": [
       "<div>\n",
       "<style scoped>\n",
       "    .dataframe tbody tr th:only-of-type {\n",
       "        vertical-align: middle;\n",
       "    }\n",
       "\n",
       "    .dataframe tbody tr th {\n",
       "        vertical-align: top;\n",
       "    }\n",
       "\n",
       "    .dataframe thead th {\n",
       "        text-align: right;\n",
       "    }\n",
       "</style>\n",
       "<table border=\"1\" class=\"dataframe\">\n",
       "  <thead>\n",
       "    <tr style=\"text-align: right;\">\n",
       "      <th></th>\n",
       "      <th>session_id</th>\n",
       "      <th>correct</th>\n",
       "      <th>session</th>\n",
       "      <th>q</th>\n",
       "    </tr>\n",
       "  </thead>\n",
       "  <tbody>\n",
       "    <tr>\n",
       "      <th>0</th>\n",
       "      <td>20090312431273200_q1</td>\n",
       "      <td>1</td>\n",
       "      <td>20090312431273200</td>\n",
       "      <td>1</td>\n",
       "    </tr>\n",
       "    <tr>\n",
       "      <th>1</th>\n",
       "      <td>20090312433251036_q1</td>\n",
       "      <td>0</td>\n",
       "      <td>20090312433251036</td>\n",
       "      <td>1</td>\n",
       "    </tr>\n",
       "    <tr>\n",
       "      <th>2</th>\n",
       "      <td>20090312455206810_q1</td>\n",
       "      <td>1</td>\n",
       "      <td>20090312455206810</td>\n",
       "      <td>1</td>\n",
       "    </tr>\n",
       "    <tr>\n",
       "      <th>3</th>\n",
       "      <td>20090313091715820_q1</td>\n",
       "      <td>0</td>\n",
       "      <td>20090313091715820</td>\n",
       "      <td>1</td>\n",
       "    </tr>\n",
       "    <tr>\n",
       "      <th>4</th>\n",
       "      <td>20090313571836404_q1</td>\n",
       "      <td>1</td>\n",
       "      <td>20090313571836404</td>\n",
       "      <td>1</td>\n",
       "    </tr>\n",
       "  </tbody>\n",
       "</table>\n",
       "</div>"
      ],
      "text/plain": [
       "             session_id  correct            session  q\n",
       "0  20090312431273200_q1        1  20090312431273200  1\n",
       "1  20090312433251036_q1        0  20090312433251036  1\n",
       "2  20090312455206810_q1        1  20090312455206810  1\n",
       "3  20090313091715820_q1        0  20090313091715820  1\n",
       "4  20090313571836404_q1        1  20090313571836404  1"
      ]
     },
     "execution_count": 3,
     "metadata": {},
     "output_type": "execute_result"
    }
   ],
   "source": [
    "targets = pd.read_csv('/kaggle/input/predict-student-performance-from-game-play/train_labels.csv')\n",
    "targets['session'] = targets.session_id.apply(lambda x: int(x.split('_')[0]) )\n",
    "targets['q'] = targets.session_id.apply(lambda x: int(x.split('_')[-1][1:]) )\n",
    "print( targets.shape )\n",
    "targets.head()"
   ]
  },
  {
   "cell_type": "code",
   "execution_count": 4,
   "id": "fb0ada26",
   "metadata": {
    "execution": {
     "iopub.execute_input": "2023-06-26T13:23:00.621480Z",
     "iopub.status.busy": "2023-06-26T13:23:00.620966Z",
     "iopub.status.idle": "2023-06-26T13:23:00.780205Z",
     "shell.execute_reply": "2023-06-26T13:23:00.779274Z"
    },
    "papermill": {
     "duration": 0.173596,
     "end_time": "2023-06-26T13:23:00.783147",
     "exception": false,
     "start_time": "2023-06-26T13:23:00.609551",
     "status": "completed"
    },
    "tags": []
   },
   "outputs": [],
   "source": [
    "feature_df = pd.read_csv('/kaggle/input/featur/feature_sort.csv')"
   ]
  },
  {
   "cell_type": "markdown",
   "id": "6c864a59",
   "metadata": {
    "papermill": {
     "duration": 0.009065,
     "end_time": "2023-06-26T13:23:00.801456",
     "exception": false,
     "start_time": "2023-06-26T13:23:00.792391",
     "status": "completed"
    },
    "tags": []
   },
   "source": [
    "# Feature Engineer"
   ]
  },
  {
   "cell_type": "code",
   "execution_count": 5,
   "id": "32805044",
   "metadata": {
    "execution": {
     "iopub.execute_input": "2023-06-26T13:23:00.822593Z",
     "iopub.status.busy": "2023-06-26T13:23:00.822199Z",
     "iopub.status.idle": "2023-06-26T13:23:00.828469Z",
     "shell.execute_reply": "2023-06-26T13:23:00.827684Z"
    },
    "papermill": {
     "duration": 0.019841,
     "end_time": "2023-06-26T13:23:00.830674",
     "exception": false,
     "start_time": "2023-06-26T13:23:00.810833",
     "status": "completed"
    },
    "tags": []
   },
   "outputs": [],
   "source": [
    "def delt_time_def(df):\n",
    "    df.sort_values(by=['session_id', 'elapsed_time'], inplace=True)\n",
    "    df['d_time'] = df['elapsed_time'].diff(1)\n",
    "    df['d_time'].fillna(0, inplace=True)\n",
    "    df['delt_time'] = df['d_time'].clip(0, 103000)\n",
    "    df['delt_time_next'] = df['delt_time'].shift(-1)\n",
    "    return df"
   ]
  },
  {
   "cell_type": "code",
   "execution_count": 6,
   "id": "1b12827c",
   "metadata": {
    "execution": {
     "iopub.execute_input": "2023-06-26T13:23:00.851427Z",
     "iopub.status.busy": "2023-06-26T13:23:00.850676Z",
     "iopub.status.idle": "2023-06-26T13:23:00.864799Z",
     "shell.execute_reply": "2023-06-26T13:23:00.863955Z"
    },
    "papermill": {
     "duration": 0.027088,
     "end_time": "2023-06-26T13:23:00.867149",
     "exception": false,
     "start_time": "2023-06-26T13:23:00.840061",
     "status": "completed"
    },
    "tags": []
   },
   "outputs": [],
   "source": [
    "def feature_engineer(train, kol_f):\n",
    "    global kol_col, kol_col_max\n",
    "    kol_col = 9\n",
    "    kol_col_max = 11+kol_f*2\n",
    "    col = [i for i in range(0,kol_col_max)]\n",
    "    new_train = pd.DataFrame(index=train['session_id'].unique(), columns=col, dtype=np.float16)  \n",
    "    new_train[10] = new_train.index # \"session_id\"    \n",
    "\n",
    "    new_train[0] = train.groupby(['session_id'])['d_time'].quantile(q=0.3)\n",
    "    new_train[1] = train.groupby(['session_id'])['d_time'].quantile(q=0.8)\n",
    "    new_train[2] = train.groupby(['session_id'])['d_time'].quantile(q=0.5)\n",
    "    new_train[3] = train.groupby(['session_id'])['d_time'].quantile(q=0.65)\n",
    "    new_train[4] = train.groupby(['session_id'])['hover_duration'].agg('mean')\n",
    "    new_train[5] = train.groupby(['session_id'])['hover_duration'].agg('std')    \n",
    "    new_train[6] = new_train[10].apply(lambda x: int(str(x)[:2])).astype(np.uint8) # \"year\"\n",
    "    new_train[7] = new_train[10].apply(lambda x: int(str(x)[2:4])+1).astype(np.uint8) # \"month\"\n",
    "    new_train[8] = new_train[10].apply(lambda x: int(str(x)[4:6])).astype(np.uint8) # \"day\"\n",
    "    new_train[9] = new_train[10].apply(lambda x: int(str(x)[6:8])).astype(np.uint8) + new_train[10].apply(lambda x: int(str(x)[8:10])).astype(np.uint8)/60\n",
    "    new_train[10] = 0\n",
    "    new_train = new_train.fillna(-1)\n",
    "    \n",
    "    return new_train"
   ]
  },
  {
   "cell_type": "code",
   "execution_count": 7,
   "id": "08367398",
   "metadata": {
    "execution": {
     "iopub.execute_input": "2023-06-26T13:23:00.887584Z",
     "iopub.status.busy": "2023-06-26T13:23:00.886915Z",
     "iopub.status.idle": "2023-06-26T13:23:00.896699Z",
     "shell.execute_reply": "2023-06-26T13:23:00.895933Z"
    },
    "papermill": {
     "duration": 0.022567,
     "end_time": "2023-06-26T13:23:00.898926",
     "exception": false,
     "start_time": "2023-06-26T13:23:00.876359",
     "status": "completed"
    },
    "tags": []
   },
   "outputs": [],
   "source": [
    "def feature_next_t(row_f, new_train, train, gran_1, gran_2, i):\n",
    "    global kol_col\n",
    "    kol_col +=1\n",
    "    col1 = row_f['col1']\n",
    "    val1 = row_f['val1']\n",
    "    maska = (train[col1] == val1)\n",
    "    if row_f['kol_col'] == 1:       \n",
    "        new_train[kol_col] = train[maska].groupby(['session_id'])['delt_time_next'].sum()\n",
    "        if gran_1:\n",
    "            kol_col +=1\n",
    "            new_train[kol_col] = train[maska].groupby(['session_id'])['delt_time'].mean()\n",
    "        if gran_2:\n",
    "            kol_col +=1\n",
    "            new_train[kol_col] = train[maska].groupby(['session_id'])['index'].count()          \n",
    "    elif row_f['kol_col'] == 2: \n",
    "        col2 = row_f['col2']\n",
    "        val2 = row_f['val2']\n",
    "        maska = maska & (train[col2] == val2)        \n",
    "        new_train[kol_col] = train[maska].groupby(['session_id'])['delt_time_next'].sum()\n",
    "        if gran_1:\n",
    "            kol_col +=1\n",
    "            new_train[kol_col] = train[maska].groupby(['session_id'])['delt_time'].mean()\n",
    "        if gran_2:\n",
    "            kol_col +=1\n",
    "            new_train[kol_col] = train[maska].groupby(['session_id'])['index'].count()\n",
    "    return new_train"
   ]
  },
  {
   "cell_type": "code",
   "execution_count": 8,
   "id": "c9e19fa3",
   "metadata": {
    "execution": {
     "iopub.execute_input": "2023-06-26T13:23:00.919365Z",
     "iopub.status.busy": "2023-06-26T13:23:00.918673Z",
     "iopub.status.idle": "2023-06-26T13:23:00.927795Z",
     "shell.execute_reply": "2023-06-26T13:23:00.926980Z"
    },
    "papermill": {
     "duration": 0.021855,
     "end_time": "2023-06-26T13:23:00.930017",
     "exception": false,
     "start_time": "2023-06-26T13:23:00.908162",
     "status": "completed"
    },
    "tags": []
   },
   "outputs": [],
   "source": [
    "def feature_next_t_otvet(row_f, new_train, train, gran_1, gran_2, i):\n",
    "    global kol_col\n",
    "    kol_col +=1\n",
    "    col1 = row_f['col1']\n",
    "    val1 = row_f['val1']\n",
    "    maska = (train[col1] == val1)\n",
    "    if row_f['kol_col'] == 1:      \n",
    "        new_train[kol_col] = train[maska]['delt_time_next'].sum()\n",
    "        if gran_1:\n",
    "            kol_col +=1\n",
    "            new_train[kol_col] = train[maska]['delt_time'].mean()\n",
    "        if gran_2:\n",
    "            kol_col +=1\n",
    "            new_train[kol_col] = train[maska]['index'].count()          \n",
    "    elif row_f['kol_col'] == 2: \n",
    "        col2 = row_f['col2']\n",
    "        val2 = row_f['val2']\n",
    "        maska = maska & (train[col2] == val2)        \n",
    "        new_train[kol_col] = train[maska]['delt_time_next'].sum()\n",
    "        if gran_1:\n",
    "            kol_col +=1\n",
    "            new_train[kol_col] = train[maska]['delt_time'].mean()\n",
    "        if gran_2:\n",
    "            kol_col +=1\n",
    "            new_train[kol_col] = train[maska]['index'].count()\n",
    "    return new_train"
   ]
  },
  {
   "cell_type": "code",
   "execution_count": 9,
   "id": "7c41919a",
   "metadata": {
    "execution": {
     "iopub.execute_input": "2023-06-26T13:23:00.950519Z",
     "iopub.status.busy": "2023-06-26T13:23:00.949857Z",
     "iopub.status.idle": "2023-06-26T13:23:00.958620Z",
     "shell.execute_reply": "2023-06-26T13:23:00.957826Z"
    },
    "papermill": {
     "duration": 0.021841,
     "end_time": "2023-06-26T13:23:00.961003",
     "exception": false,
     "start_time": "2023-06-26T13:23:00.939162",
     "status": "completed"
    },
    "tags": []
   },
   "outputs": [],
   "source": [
    "def experiment_feature_next_t_otvet(row_f, new_train, train, gran_1, gran_2, i):\n",
    "    global kol_col\n",
    "    kol_col +=1\n",
    "    if row_f['kol_col'] == 1: \n",
    "        maska = train[row_f['col1']] == row_f['val1']\n",
    "        new_train[kol_col] = train[maska]['delt_time_next'].sum()\n",
    "        if gran_1:\n",
    "            kol_col +=1\n",
    "            new_train[kol_col] = train[maska]['delt_time'].mean()\n",
    "        if gran_2:\n",
    "            kol_col +=1\n",
    "            new_train[kol_col] = train[maska]['index'].count()          \n",
    "    elif row_f['kol_col'] == 2: \n",
    "        col2 = row_f['col2']\n",
    "        val2 = row_f['val2']\n",
    "        maska = (train[col1] == val1) & (train[col2] == val2)        \n",
    "        new_train[kol_col] = train[maska]['delt_time_next'].sum()\n",
    "        if gran_1:\n",
    "            kol_col +=1\n",
    "            new_train[kol_col] = train[maska]['delt_time'].mean()\n",
    "        if gran_2:\n",
    "            kol_col +=1\n",
    "            new_train[kol_col] = train[maska]['index'].count()\n",
    "    return new_train"
   ]
  },
  {
   "cell_type": "code",
   "execution_count": 10,
   "id": "3cc10bdf",
   "metadata": {
    "execution": {
     "iopub.execute_input": "2023-06-26T13:23:00.981836Z",
     "iopub.status.busy": "2023-06-26T13:23:00.981093Z",
     "iopub.status.idle": "2023-06-26T13:23:00.988599Z",
     "shell.execute_reply": "2023-06-26T13:23:00.987664Z"
    },
    "papermill": {
     "duration": 0.020656,
     "end_time": "2023-06-26T13:23:00.991028",
     "exception": false,
     "start_time": "2023-06-26T13:23:00.970372",
     "status": "completed"
    },
    "tags": []
   },
   "outputs": [],
   "source": [
    "def feature_quest_otvet(new_train, train, quest, kol_f):\n",
    "    global kol_col\n",
    "    kol_col = 9\n",
    "    g1 = 0.7 \n",
    "    g2 = 0.3 \n",
    "\n",
    "    feature_q = feature_df[feature_df['quest'] == quest].copy()\n",
    "    feature_q.reset_index(drop=True, inplace=True)\n",
    "    \n",
    "    gran1 = round(kol_f * g1)\n",
    "    gran2 = round(kol_f * g2)    \n",
    "    for i in range(0, kol_f):         \n",
    "        row_f = feature_q.loc[i]\n",
    "        new_train = feature_next_t_otvet(row_f, new_train, train, i < gran1, i <  gran2, i) \n",
    "    col = [i for i in range(0,kol_col+1)]\n",
    "    return new_train[col]"
   ]
  },
  {
   "cell_type": "code",
   "execution_count": 11,
   "id": "caee157e",
   "metadata": {
    "execution": {
     "iopub.execute_input": "2023-06-26T13:23:01.011980Z",
     "iopub.status.busy": "2023-06-26T13:23:01.011218Z",
     "iopub.status.idle": "2023-06-26T13:23:01.017127Z",
     "shell.execute_reply": "2023-06-26T13:23:01.016344Z"
    },
    "papermill": {
     "duration": 0.01913,
     "end_time": "2023-06-26T13:23:01.019392",
     "exception": false,
     "start_time": "2023-06-26T13:23:01.000262",
     "status": "completed"
    },
    "tags": []
   },
   "outputs": [],
   "source": [
    "def feature_engineer_new(new_train, train, feature_q, kol_f):\n",
    "    g1 = 0.7 \n",
    "    g2 = 0.3 \n",
    "    gran1 = round(kol_f * g1)\n",
    "    gran2 = round(kol_f * g2)    \n",
    "    for i in range(0, kol_f): \n",
    "        row_f = feature_q.loc[i]       \n",
    "        new_train = feature_next_t(row_f, new_train, train, i < gran1, i <  gran2, i)         \n",
    "    return new_train"
   ]
  },
  {
   "cell_type": "code",
   "execution_count": 12,
   "id": "7d43a62f",
   "metadata": {
    "execution": {
     "iopub.execute_input": "2023-06-26T13:23:01.040313Z",
     "iopub.status.busy": "2023-06-26T13:23:01.039587Z",
     "iopub.status.idle": "2023-06-26T13:23:01.045569Z",
     "shell.execute_reply": "2023-06-26T13:23:01.044820Z"
    },
    "papermill": {
     "duration": 0.018984,
     "end_time": "2023-06-26T13:23:01.047711",
     "exception": false,
     "start_time": "2023-06-26T13:23:01.028727",
     "status": "completed"
    },
    "tags": []
   },
   "outputs": [],
   "source": [
    "def feature_quest(new_train, train, quest, kol_f):\n",
    "    global kol_col\n",
    "    kol_col = 9\n",
    "    feature_q = feature_df[feature_df['quest'] == quest].copy()\n",
    "    feature_q.reset_index(drop=True, inplace=True)\n",
    "    new_train = feature_engineer_new(new_train, train, feature_q, kol_f)\n",
    "    col = [i for i in range(0,kol_col+1)]\n",
    "    return new_train[col]"
   ]
  },
  {
   "cell_type": "code",
   "execution_count": 13,
   "id": "a3362ac9",
   "metadata": {
    "execution": {
     "iopub.execute_input": "2023-06-26T13:23:01.068227Z",
     "iopub.status.busy": "2023-06-26T13:23:01.067538Z",
     "iopub.status.idle": "2023-06-26T13:23:01.071585Z",
     "shell.execute_reply": "2023-06-26T13:23:01.070784Z"
    },
    "papermill": {
     "duration": 0.016752,
     "end_time": "2023-06-26T13:23:01.073638",
     "exception": false,
     "start_time": "2023-06-26T13:23:01.056886",
     "status": "completed"
    },
    "tags": []
   },
   "outputs": [],
   "source": [
    "# params = {'learning_rate': 0.18611630919419395, 'iterations': 399, 'depth': 8, \n",
    "#           'random_strength': 71.11420208846125, #'bagging_temperature': 54.595216183492724,\n",
    "#           'l2_leaf_reg': 5.906726208791711e-05, 'min_data_in_leaf': 501,\n",
    "#           'colsample_bylevel': 0.7088201337781473, 'bootstrap_type': 'No',\n",
    "#          'random_seed': 1123}"
   ]
  },
  {
   "cell_type": "code",
   "execution_count": 14,
   "id": "72eaf81d",
   "metadata": {
    "execution": {
     "iopub.execute_input": "2023-06-26T13:23:01.095595Z",
     "iopub.status.busy": "2023-06-26T13:23:01.094909Z",
     "iopub.status.idle": "2023-06-26T13:23:01.099711Z",
     "shell.execute_reply": "2023-06-26T13:23:01.098982Z"
    },
    "papermill": {
     "duration": 0.017643,
     "end_time": "2023-06-26T13:23:01.101864",
     "exception": false,
     "start_time": "2023-06-26T13:23:01.084221",
     "status": "completed"
    },
    "tags": []
   },
   "outputs": [],
   "source": [
    "# def create_model(old_train, quests, models, list_kol_f):\n",
    "    \n",
    "#     kol_quest = len(quests)\n",
    "#     # ITERATE THRU QUESTIONS\n",
    "#     for q in quests:\n",
    "#         print('### quest ', q, end='')\n",
    "#         new_train = feature_engineer(old_train, list_kol_f[q])\n",
    "#         train_x = feature_quest(new_train, old_train, q, list_kol_f[q])\n",
    "#         print (' ---- ', 'train_q.shape = ', train_x.shape)\n",
    "           \n",
    "#         # TRAIN DATA\n",
    "#         train_users = train_x.index.values\n",
    "#         train_y = targets.loc[targets.q==q].set_index('session').loc[train_users]\n",
    "\n",
    "#         # TRAIN MODEL \n",
    "        \n",
    "# #         model = CatBoostClassifier(**params)\n",
    "\n",
    "#         model = CatBoostClassifier(\n",
    "#             n_estimators = 300,\n",
    "#             learning_rate= 0.045,\n",
    "#             depth = 6\n",
    "#         )\n",
    "        \n",
    "#         model.fit(train_x.astype('float32'), train_y['correct'], verbose=False)\n",
    "\n",
    "#         # SAVE MODEL, PREDICT VALID OOF\n",
    "#         models[f'{q}'] = model\n",
    "#     print('***')\n",
    "    \n",
    "#     return models"
   ]
  },
  {
   "cell_type": "code",
   "execution_count": 15,
   "id": "6ff6e834",
   "metadata": {
    "execution": {
     "iopub.execute_input": "2023-06-26T13:23:01.122416Z",
     "iopub.status.busy": "2023-06-26T13:23:01.121689Z",
     "iopub.status.idle": "2023-06-26T13:23:01.125501Z",
     "shell.execute_reply": "2023-06-26T13:23:01.124805Z"
    },
    "papermill": {
     "duration": 0.016522,
     "end_time": "2023-06-26T13:23:01.127570",
     "exception": false,
     "start_time": "2023-06-26T13:23:01.111048",
     "status": "completed"
    },
    "tags": []
   },
   "outputs": [],
   "source": [
    "# models = {}\n",
    "best_threshold = 0.63"
   ]
  },
  {
   "cell_type": "code",
   "execution_count": 16,
   "id": "70c7669f",
   "metadata": {
    "execution": {
     "iopub.execute_input": "2023-06-26T13:23:01.148296Z",
     "iopub.status.busy": "2023-06-26T13:23:01.147494Z",
     "iopub.status.idle": "2023-06-26T13:23:01.153011Z",
     "shell.execute_reply": "2023-06-26T13:23:01.152211Z"
    },
    "papermill": {
     "duration": 0.018437,
     "end_time": "2023-06-26T13:23:01.155138",
     "exception": false,
     "start_time": "2023-06-26T13:23:01.136701",
     "status": "completed"
    },
    "tags": []
   },
   "outputs": [],
   "source": [
    "list_kol_f = {\n",
    "    1:140,3:110,\n",
    "    4:120, 5:220, 6:130, 7:110, 8:110, 9:100, 10:140, 11:120,\n",
    "    14: 160, 15:160, 16:130, 17:140,\n",
    "    2:100,12:100,13:100,18:100\n",
    "             }"
   ]
  },
  {
   "cell_type": "code",
   "execution_count": 17,
   "id": "498bfd63",
   "metadata": {
    "execution": {
     "iopub.execute_input": "2023-06-26T13:23:01.175572Z",
     "iopub.status.busy": "2023-06-26T13:23:01.174877Z",
     "iopub.status.idle": "2023-06-26T13:23:01.179192Z",
     "shell.execute_reply": "2023-06-26T13:23:01.178203Z"
    },
    "papermill": {
     "duration": 0.017164,
     "end_time": "2023-06-26T13:23:01.181376",
     "exception": false,
     "start_time": "2023-06-26T13:23:01.164212",
     "status": "completed"
    },
    "tags": []
   },
   "outputs": [],
   "source": [
    "os.chdir(r'/kaggle/working/')"
   ]
  },
  {
   "cell_type": "code",
   "execution_count": 18,
   "id": "31094ef0",
   "metadata": {
    "execution": {
     "iopub.execute_input": "2023-06-26T13:23:01.201646Z",
     "iopub.status.busy": "2023-06-26T13:23:01.200967Z",
     "iopub.status.idle": "2023-06-26T13:23:01.205359Z",
     "shell.execute_reply": "2023-06-26T13:23:01.204293Z"
    },
    "papermill": {
     "duration": 0.017048,
     "end_time": "2023-06-26T13:23:01.207512",
     "exception": false,
     "start_time": "2023-06-26T13:23:01.190464",
     "status": "completed"
    },
    "tags": []
   },
   "outputs": [],
   "source": [
    "# df0_4 = pd.read_csv('/kaggle/input/featur/train_0_4t.csv', dtype=dtypes) \n",
    "# kol_lvl = (df0_4 .groupby(['session_id'])['level'].agg('nunique') < 5)\n",
    "# list_session = kol_lvl[kol_lvl].index\n",
    "# df0_4  = df0_4 [~df0_4 ['session_id'].isin(list_session)]\n",
    "# df0_4 = delt_time_def(df0_4)\n",
    "\n",
    "# quests_0_4 = [1,2,3] \n",
    "# # list_kol_f = {1:140,3:110}\n",
    "\n",
    "# models = create_model(df0_4, quests_0_4, models, list_kol_f)\n",
    "# del df0_4"
   ]
  },
  {
   "cell_type": "code",
   "execution_count": 19,
   "id": "84dfc53a",
   "metadata": {
    "execution": {
     "iopub.execute_input": "2023-06-26T13:23:01.228065Z",
     "iopub.status.busy": "2023-06-26T13:23:01.227260Z",
     "iopub.status.idle": "2023-06-26T13:23:01.231541Z",
     "shell.execute_reply": "2023-06-26T13:23:01.230812Z"
    },
    "papermill": {
     "duration": 0.017183,
     "end_time": "2023-06-26T13:23:01.233692",
     "exception": false,
     "start_time": "2023-06-26T13:23:01.216509",
     "status": "completed"
    },
    "tags": []
   },
   "outputs": [],
   "source": [
    "# df5_12 = pd.read_csv('/kaggle/input/featur/train_5_12t.csv', dtype=dtypes)\n",
    "# kol_lvl = (df5_12.groupby(['session_id'])['level'].agg('nunique') < 8)\n",
    "# list_session = kol_lvl[kol_lvl].index\n",
    "# df5_12 = df5_12[~df5_12['session_id'].isin(list_session)]\n",
    "# df5_12 = delt_time_def(df5_12)\n",
    "# quests_5_12 = [4, 5, 6, 7, 8, 9, 10, 11,12,13] \n",
    "\n",
    "# # list_kol_f = {4:110, 5:220, 6:120, 7:110, 8:110, 9:100, 10:140, 11:120}\n",
    "\n",
    "# models = create_model(df5_12, quests_5_12, models, list_kol_f)\n",
    "# del df5_12"
   ]
  },
  {
   "cell_type": "code",
   "execution_count": 20,
   "id": "47d7e8ba",
   "metadata": {
    "execution": {
     "iopub.execute_input": "2023-06-26T13:23:01.254355Z",
     "iopub.status.busy": "2023-06-26T13:23:01.253570Z",
     "iopub.status.idle": "2023-06-26T13:23:01.257886Z",
     "shell.execute_reply": "2023-06-26T13:23:01.257076Z"
    },
    "papermill": {
     "duration": 0.01724,
     "end_time": "2023-06-26T13:23:01.260078",
     "exception": false,
     "start_time": "2023-06-26T13:23:01.242838",
     "status": "completed"
    },
    "tags": []
   },
   "outputs": [],
   "source": [
    "# df13_22 = pd.read_csv('/kaggle/input/featur/train_13_22t.csv', dtype=dtypes) \n",
    "# kol_lvl = (df13_22 .groupby(['session_id'])['level'].agg('nunique') < 10)\n",
    "# list_session = kol_lvl[kol_lvl].index\n",
    "# df13_22  = df13_22 [~df13_22 ['session_id'].isin(list_session)]\n",
    "# df13_22 = delt_time_def(df13_22)\n",
    "\n",
    "# quests_13_22 = [14, 15, 16, 17,18] \n",
    "# # list_kol_f = {14: 160, 15:160, 16:105, 17:140}\n",
    "\n",
    "# models = create_model(df13_22, quests_13_22, models, list_kol_f)\n"
   ]
  },
  {
   "cell_type": "code",
   "execution_count": 21,
   "id": "861d90a9",
   "metadata": {
    "execution": {
     "iopub.execute_input": "2023-06-26T13:23:01.281327Z",
     "iopub.status.busy": "2023-06-26T13:23:01.280617Z",
     "iopub.status.idle": "2023-06-26T13:23:01.285109Z",
     "shell.execute_reply": "2023-06-26T13:23:01.284310Z"
    },
    "papermill": {
     "duration": 0.018132,
     "end_time": "2023-06-26T13:23:01.287385",
     "exception": false,
     "start_time": "2023-06-26T13:23:01.269253",
     "status": "completed"
    },
    "tags": []
   },
   "outputs": [],
   "source": [
    "# # Saving a Model\n",
    "# import os\n",
    "# dr = '/kaggle/working/models'\n",
    "\n",
    "# if not os.path.exists(dr):\n",
    "#     os.mkdir(r'/kaggle/working/models')\n",
    "    \n",
    "# os.chdir(r'/kaggle/working/models')\n",
    "# # for q in quests_0_4 + quests_5_12 + quests_13_22:\n",
    "# #     print(q)\n",
    "# #     fadf\n",
    "# #     models[q].save_model(f'cat_model_{q}.bin')\n",
    "\n",
    " \n",
    "# import pickle\n",
    "# for q in range(1,19):\n",
    "    \n",
    "#     filename = str('cat_model_'+f'{q}'+'.bin')\n",
    "\n",
    "#     pickle.dump(models[f'{q}'], open(filename, 'wb'))\n",
    "      \n",
    "# #     models[q].save_model('cat_model_'+f'{q}'+'.bin')\n",
    "    "
   ]
  },
  {
   "cell_type": "code",
   "execution_count": 22,
   "id": "46eb2f5a",
   "metadata": {
    "execution": {
     "iopub.execute_input": "2023-06-26T13:23:01.308721Z",
     "iopub.status.busy": "2023-06-26T13:23:01.307969Z",
     "iopub.status.idle": "2023-06-26T13:23:15.142370Z",
     "shell.execute_reply": "2023-06-26T13:23:15.141202Z"
    },
    "papermill": {
     "duration": 13.848144,
     "end_time": "2023-06-26T13:23:15.145088",
     "exception": false,
     "start_time": "2023-06-26T13:23:01.296944",
     "status": "completed"
    },
    "tags": []
   },
   "outputs": [
    {
     "name": "stdout",
     "output_type": "stream",
     "text": [
      "This version of the API is not optimized and should not be used to estimate the runtime of your code on the hidden test set.\n"
     ]
    },
    {
     "name": "stderr",
     "output_type": "stream",
     "text": [
      "TBB Warning: The number of workers is currently limited to 1. The request for 3 workers is ignored. Further requests for more workers will be silently ignored until the limit changes.\n",
      "\n"
     ]
    }
   ],
   "source": [
    "import os\n",
    "os.chdir(r'/kaggle/working/')\n",
    "\n",
    "import jo_wilder_310\n",
    "jo_wilder_310.make_env.func_dict['__called__'] = False\n",
    "env = jo_wilder_310.make_env()\n",
    "\n",
    "iter_test = env.iter_test()\n",
    "\n",
    "quests_0_4 = [1,2,3]\n",
    "quests_5_12 = [4, 5, 6, 7, 8, 9, 10, 11,12,13] \n",
    "quests_13_22 = [14, 15, 16, 17,18] \n",
    "\n",
    "list_q = {'0-4':quests_0_4, '5-12':quests_5_12, '13-22':quests_13_22}\n",
    "for (test, sam_sub) in iter_test:\n",
    "    test = test.sort_values(by = 'index')\n",
    "    sam_sub['question'] = [int(label.split('_')[1][1:]) for label in sam_sub['session_id']]    \n",
    "    grp = test.level_group.values[0]   \n",
    "#     sam_sub['correct'] = 1\n",
    "#     sam_sub.loc[sam_sub.question.isin([5, 8, 10, 13, 15]), 'correct'] = 0  \n",
    "    old_train = delt_time_def(test[test.level_group == grp])\n",
    "       \n",
    "    for q in list_q[grp]:\n",
    "        \n",
    "#         start4 = time.time()\n",
    "        new_train = feature_engineer(old_train, list_kol_f[q])\n",
    "        new_train = feature_quest_otvet(new_train, old_train, q, list_kol_f[q])\n",
    "#         new_train = feature_quest(new_train, old_train, q, kol_f)\n",
    "        os.chdir(r'/kaggle/input/nm-std-perf-pred-cb-2a/models') \n",
    "    \n",
    "        filename = str('cat_model_'+f'{q}'+'.bin') \n",
    "\n",
    "        clf = pickle.load(open(filename, 'rb'))  \n",
    "\n",
    "        p = clf.predict_proba(new_train.astype('float32'))[:,1] \n",
    "        \n",
    "#         clf = models[f'{q}']\n",
    "#         p = clf.predict_proba(new_train.astype('float32'))[:,1]        \n",
    "        \n",
    "         \n",
    "             \n",
    "        \n",
    "        mask = sam_sub.question == q \n",
    "        x = int(p[0]>best_threshold)\n",
    "        sam_sub.loc[mask,'correct'] = x      \n",
    "        \n",
    "        \n",
    "    sam_sub = sam_sub[['session_id', 'correct']]  \n",
    "    os.chdir('/kaggle/working/')\n",
    "    env.predict(sam_sub)"
   ]
  },
  {
   "cell_type": "code",
   "execution_count": 23,
   "id": "91b36c2c",
   "metadata": {
    "execution": {
     "iopub.execute_input": "2023-06-26T13:23:15.166017Z",
     "iopub.status.busy": "2023-06-26T13:23:15.164935Z",
     "iopub.status.idle": "2023-06-26T13:23:16.276018Z",
     "shell.execute_reply": "2023-06-26T13:23:16.274843Z"
    },
    "papermill": {
     "duration": 1.124241,
     "end_time": "2023-06-26T13:23:16.278689",
     "exception": false,
     "start_time": "2023-06-26T13:23:15.154448",
     "status": "completed"
    },
    "tags": []
   },
   "outputs": [
    {
     "name": "stdout",
     "output_type": "stream",
     "text": [
      "session_id,correct\r\n",
      "20090109393214576_q1,1\r\n",
      "20090109393214576_q2,1\r\n",
      "20090109393214576_q3,1\r\n",
      "20090109393214576_q4,1\r\n",
      "20090109393214576_q5,0\r\n",
      "20090109393214576_q6,1\r\n",
      "20090109393214576_q7,1\r\n",
      "20090109393214576_q8,0\r\n",
      "20090109393214576_q9,1\r\n"
     ]
    }
   ],
   "source": [
    "! head submission.csv"
   ]
  },
  {
   "cell_type": "code",
   "execution_count": 24,
   "id": "fee7f145",
   "metadata": {
    "execution": {
     "iopub.execute_input": "2023-06-26T13:23:16.301053Z",
     "iopub.status.busy": "2023-06-26T13:23:16.300341Z",
     "iopub.status.idle": "2023-06-26T13:23:16.319837Z",
     "shell.execute_reply": "2023-06-26T13:23:16.319010Z"
    },
    "papermill": {
     "duration": 0.032959,
     "end_time": "2023-06-26T13:23:16.321969",
     "exception": false,
     "start_time": "2023-06-26T13:23:16.289010",
     "status": "completed"
    },
    "tags": []
   },
   "outputs": [
    {
     "name": "stdout",
     "output_type": "stream",
     "text": [
      "(54, 2)\n"
     ]
    },
    {
     "data": {
      "text/html": [
       "<div>\n",
       "<style scoped>\n",
       "    .dataframe tbody tr th:only-of-type {\n",
       "        vertical-align: middle;\n",
       "    }\n",
       "\n",
       "    .dataframe tbody tr th {\n",
       "        vertical-align: top;\n",
       "    }\n",
       "\n",
       "    .dataframe thead th {\n",
       "        text-align: right;\n",
       "    }\n",
       "</style>\n",
       "<table border=\"1\" class=\"dataframe\">\n",
       "  <thead>\n",
       "    <tr style=\"text-align: right;\">\n",
       "      <th></th>\n",
       "      <th>session_id</th>\n",
       "      <th>correct</th>\n",
       "    </tr>\n",
       "  </thead>\n",
       "  <tbody>\n",
       "    <tr>\n",
       "      <th>0</th>\n",
       "      <td>20090109393214576_q1</td>\n",
       "      <td>1</td>\n",
       "    </tr>\n",
       "    <tr>\n",
       "      <th>1</th>\n",
       "      <td>20090109393214576_q2</td>\n",
       "      <td>1</td>\n",
       "    </tr>\n",
       "    <tr>\n",
       "      <th>2</th>\n",
       "      <td>20090109393214576_q3</td>\n",
       "      <td>1</td>\n",
       "    </tr>\n",
       "    <tr>\n",
       "      <th>3</th>\n",
       "      <td>20090109393214576_q4</td>\n",
       "      <td>1</td>\n",
       "    </tr>\n",
       "    <tr>\n",
       "      <th>4</th>\n",
       "      <td>20090109393214576_q5</td>\n",
       "      <td>0</td>\n",
       "    </tr>\n",
       "    <tr>\n",
       "      <th>5</th>\n",
       "      <td>20090109393214576_q6</td>\n",
       "      <td>1</td>\n",
       "    </tr>\n",
       "    <tr>\n",
       "      <th>6</th>\n",
       "      <td>20090109393214576_q7</td>\n",
       "      <td>1</td>\n",
       "    </tr>\n",
       "    <tr>\n",
       "      <th>7</th>\n",
       "      <td>20090109393214576_q8</td>\n",
       "      <td>0</td>\n",
       "    </tr>\n",
       "    <tr>\n",
       "      <th>8</th>\n",
       "      <td>20090109393214576_q9</td>\n",
       "      <td>1</td>\n",
       "    </tr>\n",
       "    <tr>\n",
       "      <th>9</th>\n",
       "      <td>20090109393214576_q10</td>\n",
       "      <td>0</td>\n",
       "    </tr>\n",
       "    <tr>\n",
       "      <th>10</th>\n",
       "      <td>20090109393214576_q11</td>\n",
       "      <td>0</td>\n",
       "    </tr>\n",
       "    <tr>\n",
       "      <th>11</th>\n",
       "      <td>20090109393214576_q12</td>\n",
       "      <td>1</td>\n",
       "    </tr>\n",
       "    <tr>\n",
       "      <th>12</th>\n",
       "      <td>20090109393214576_q13</td>\n",
       "      <td>0</td>\n",
       "    </tr>\n",
       "    <tr>\n",
       "      <th>13</th>\n",
       "      <td>20090109393214576_q14</td>\n",
       "      <td>1</td>\n",
       "    </tr>\n",
       "    <tr>\n",
       "      <th>14</th>\n",
       "      <td>20090109393214576_q15</td>\n",
       "      <td>0</td>\n",
       "    </tr>\n",
       "    <tr>\n",
       "      <th>15</th>\n",
       "      <td>20090109393214576_q16</td>\n",
       "      <td>1</td>\n",
       "    </tr>\n",
       "    <tr>\n",
       "      <th>16</th>\n",
       "      <td>20090109393214576_q17</td>\n",
       "      <td>1</td>\n",
       "    </tr>\n",
       "    <tr>\n",
       "      <th>17</th>\n",
       "      <td>20090109393214576_q18</td>\n",
       "      <td>1</td>\n",
       "    </tr>\n",
       "    <tr>\n",
       "      <th>18</th>\n",
       "      <td>20090312143683264_q1</td>\n",
       "      <td>0</td>\n",
       "    </tr>\n",
       "    <tr>\n",
       "      <th>19</th>\n",
       "      <td>20090312143683264_q2</td>\n",
       "      <td>1</td>\n",
       "    </tr>\n",
       "    <tr>\n",
       "      <th>20</th>\n",
       "      <td>20090312143683264_q3</td>\n",
       "      <td>1</td>\n",
       "    </tr>\n",
       "    <tr>\n",
       "      <th>21</th>\n",
       "      <td>20090312143683264_q4</td>\n",
       "      <td>1</td>\n",
       "    </tr>\n",
       "    <tr>\n",
       "      <th>22</th>\n",
       "      <td>20090312143683264_q5</td>\n",
       "      <td>0</td>\n",
       "    </tr>\n",
       "    <tr>\n",
       "      <th>23</th>\n",
       "      <td>20090312143683264_q6</td>\n",
       "      <td>0</td>\n",
       "    </tr>\n",
       "    <tr>\n",
       "      <th>24</th>\n",
       "      <td>20090312143683264_q7</td>\n",
       "      <td>0</td>\n",
       "    </tr>\n",
       "    <tr>\n",
       "      <th>25</th>\n",
       "      <td>20090312143683264_q8</td>\n",
       "      <td>0</td>\n",
       "    </tr>\n",
       "    <tr>\n",
       "      <th>26</th>\n",
       "      <td>20090312143683264_q9</td>\n",
       "      <td>0</td>\n",
       "    </tr>\n",
       "    <tr>\n",
       "      <th>27</th>\n",
       "      <td>20090312143683264_q10</td>\n",
       "      <td>0</td>\n",
       "    </tr>\n",
       "    <tr>\n",
       "      <th>28</th>\n",
       "      <td>20090312143683264_q11</td>\n",
       "      <td>0</td>\n",
       "    </tr>\n",
       "    <tr>\n",
       "      <th>29</th>\n",
       "      <td>20090312143683264_q12</td>\n",
       "      <td>1</td>\n",
       "    </tr>\n",
       "    <tr>\n",
       "      <th>30</th>\n",
       "      <td>20090312143683264_q13</td>\n",
       "      <td>0</td>\n",
       "    </tr>\n",
       "    <tr>\n",
       "      <th>31</th>\n",
       "      <td>20090312143683264_q14</td>\n",
       "      <td>0</td>\n",
       "    </tr>\n",
       "    <tr>\n",
       "      <th>32</th>\n",
       "      <td>20090312143683264_q15</td>\n",
       "      <td>0</td>\n",
       "    </tr>\n",
       "    <tr>\n",
       "      <th>33</th>\n",
       "      <td>20090312143683264_q16</td>\n",
       "      <td>1</td>\n",
       "    </tr>\n",
       "    <tr>\n",
       "      <th>34</th>\n",
       "      <td>20090312143683264_q17</td>\n",
       "      <td>1</td>\n",
       "    </tr>\n",
       "    <tr>\n",
       "      <th>35</th>\n",
       "      <td>20090312143683264_q18</td>\n",
       "      <td>1</td>\n",
       "    </tr>\n",
       "    <tr>\n",
       "      <th>36</th>\n",
       "      <td>20090312331414616_q1</td>\n",
       "      <td>1</td>\n",
       "    </tr>\n",
       "    <tr>\n",
       "      <th>37</th>\n",
       "      <td>20090312331414616_q2</td>\n",
       "      <td>1</td>\n",
       "    </tr>\n",
       "    <tr>\n",
       "      <th>38</th>\n",
       "      <td>20090312331414616_q3</td>\n",
       "      <td>1</td>\n",
       "    </tr>\n",
       "    <tr>\n",
       "      <th>39</th>\n",
       "      <td>20090312331414616_q4</td>\n",
       "      <td>1</td>\n",
       "    </tr>\n",
       "    <tr>\n",
       "      <th>40</th>\n",
       "      <td>20090312331414616_q5</td>\n",
       "      <td>1</td>\n",
       "    </tr>\n",
       "    <tr>\n",
       "      <th>41</th>\n",
       "      <td>20090312331414616_q6</td>\n",
       "      <td>1</td>\n",
       "    </tr>\n",
       "    <tr>\n",
       "      <th>42</th>\n",
       "      <td>20090312331414616_q7</td>\n",
       "      <td>1</td>\n",
       "    </tr>\n",
       "    <tr>\n",
       "      <th>43</th>\n",
       "      <td>20090312331414616_q8</td>\n",
       "      <td>1</td>\n",
       "    </tr>\n",
       "    <tr>\n",
       "      <th>44</th>\n",
       "      <td>20090312331414616_q9</td>\n",
       "      <td>1</td>\n",
       "    </tr>\n",
       "    <tr>\n",
       "      <th>45</th>\n",
       "      <td>20090312331414616_q10</td>\n",
       "      <td>0</td>\n",
       "    </tr>\n",
       "    <tr>\n",
       "      <th>46</th>\n",
       "      <td>20090312331414616_q11</td>\n",
       "      <td>1</td>\n",
       "    </tr>\n",
       "    <tr>\n",
       "      <th>47</th>\n",
       "      <td>20090312331414616_q12</td>\n",
       "      <td>1</td>\n",
       "    </tr>\n",
       "    <tr>\n",
       "      <th>48</th>\n",
       "      <td>20090312331414616_q13</td>\n",
       "      <td>0</td>\n",
       "    </tr>\n",
       "    <tr>\n",
       "      <th>49</th>\n",
       "      <td>20090312331414616_q14</td>\n",
       "      <td>1</td>\n",
       "    </tr>\n",
       "    <tr>\n",
       "      <th>50</th>\n",
       "      <td>20090312331414616_q15</td>\n",
       "      <td>1</td>\n",
       "    </tr>\n",
       "    <tr>\n",
       "      <th>51</th>\n",
       "      <td>20090312331414616_q16</td>\n",
       "      <td>1</td>\n",
       "    </tr>\n",
       "    <tr>\n",
       "      <th>52</th>\n",
       "      <td>20090312331414616_q17</td>\n",
       "      <td>1</td>\n",
       "    </tr>\n",
       "    <tr>\n",
       "      <th>53</th>\n",
       "      <td>20090312331414616_q18</td>\n",
       "      <td>1</td>\n",
       "    </tr>\n",
       "  </tbody>\n",
       "</table>\n",
       "</div>"
      ],
      "text/plain": [
       "               session_id  correct\n",
       "0    20090109393214576_q1        1\n",
       "1    20090109393214576_q2        1\n",
       "2    20090109393214576_q3        1\n",
       "3    20090109393214576_q4        1\n",
       "4    20090109393214576_q5        0\n",
       "5    20090109393214576_q6        1\n",
       "6    20090109393214576_q7        1\n",
       "7    20090109393214576_q8        0\n",
       "8    20090109393214576_q9        1\n",
       "9   20090109393214576_q10        0\n",
       "10  20090109393214576_q11        0\n",
       "11  20090109393214576_q12        1\n",
       "12  20090109393214576_q13        0\n",
       "13  20090109393214576_q14        1\n",
       "14  20090109393214576_q15        0\n",
       "15  20090109393214576_q16        1\n",
       "16  20090109393214576_q17        1\n",
       "17  20090109393214576_q18        1\n",
       "18   20090312143683264_q1        0\n",
       "19   20090312143683264_q2        1\n",
       "20   20090312143683264_q3        1\n",
       "21   20090312143683264_q4        1\n",
       "22   20090312143683264_q5        0\n",
       "23   20090312143683264_q6        0\n",
       "24   20090312143683264_q7        0\n",
       "25   20090312143683264_q8        0\n",
       "26   20090312143683264_q9        0\n",
       "27  20090312143683264_q10        0\n",
       "28  20090312143683264_q11        0\n",
       "29  20090312143683264_q12        1\n",
       "30  20090312143683264_q13        0\n",
       "31  20090312143683264_q14        0\n",
       "32  20090312143683264_q15        0\n",
       "33  20090312143683264_q16        1\n",
       "34  20090312143683264_q17        1\n",
       "35  20090312143683264_q18        1\n",
       "36   20090312331414616_q1        1\n",
       "37   20090312331414616_q2        1\n",
       "38   20090312331414616_q3        1\n",
       "39   20090312331414616_q4        1\n",
       "40   20090312331414616_q5        1\n",
       "41   20090312331414616_q6        1\n",
       "42   20090312331414616_q7        1\n",
       "43   20090312331414616_q8        1\n",
       "44   20090312331414616_q9        1\n",
       "45  20090312331414616_q10        0\n",
       "46  20090312331414616_q11        1\n",
       "47  20090312331414616_q12        1\n",
       "48  20090312331414616_q13        0\n",
       "49  20090312331414616_q14        1\n",
       "50  20090312331414616_q15        1\n",
       "51  20090312331414616_q16        1\n",
       "52  20090312331414616_q17        1\n",
       "53  20090312331414616_q18        1"
      ]
     },
     "execution_count": 24,
     "metadata": {},
     "output_type": "execute_result"
    }
   ],
   "source": [
    "df = pd.read_csv('submission.csv')\n",
    "print( df.shape )\n",
    "df.iloc[-54:]"
   ]
  },
  {
   "cell_type": "code",
   "execution_count": null,
   "id": "2349800d",
   "metadata": {
    "papermill": {
     "duration": 0.009608,
     "end_time": "2023-06-26T13:23:16.341695",
     "exception": false,
     "start_time": "2023-06-26T13:23:16.332087",
     "status": "completed"
    },
    "tags": []
   },
   "outputs": [],
   "source": []
  }
 ],
 "metadata": {
  "kernelspec": {
   "display_name": "Python 3",
   "language": "python",
   "name": "python3"
  },
  "language_info": {
   "codemirror_mode": {
    "name": "ipython",
    "version": 3
   },
   "file_extension": ".py",
   "mimetype": "text/x-python",
   "name": "python",
   "nbconvert_exporter": "python",
   "pygments_lexer": "ipython3",
   "version": "3.10.10"
  },
  "papermill": {
   "default_parameters": {},
   "duration": 32.678868,
   "end_time": "2023-06-26T13:23:17.477789",
   "environment_variables": {},
   "exception": null,
   "input_path": "__notebook__.ipynb",
   "output_path": "__notebook__.ipynb",
   "parameters": {},
   "start_time": "2023-06-26T13:22:44.798921",
   "version": "2.4.0"
  }
 },
 "nbformat": 4,
 "nbformat_minor": 5
}
