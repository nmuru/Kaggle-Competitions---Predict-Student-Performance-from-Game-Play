{
 "cells": [
  {
   "cell_type": "code",
   "execution_count": 1,
   "id": "45230ad0",
   "metadata": {
    "execution": {
     "iopub.execute_input": "2023-06-19T23:23:59.815753Z",
     "iopub.status.busy": "2023-06-19T23:23:59.815093Z",
     "iopub.status.idle": "2023-06-19T23:24:01.179813Z",
     "shell.execute_reply": "2023-06-19T23:24:01.178423Z"
    },
    "papermill": {
     "duration": 1.378379,
     "end_time": "2023-06-19T23:24:01.182626",
     "exception": false,
     "start_time": "2023-06-19T23:23:59.804247",
     "status": "completed"
    },
    "tags": []
   },
   "outputs": [],
   "source": [
    "import pandas as pd, numpy as np\n",
    "from catboost import CatBoostClassifier\n",
    "import pickle\n",
    "import sys"
   ]
  },
  {
   "cell_type": "markdown",
   "id": "e8be787f",
   "metadata": {
    "papermill": {
     "duration": 0.005969,
     "end_time": "2023-06-19T23:24:01.195298",
     "exception": false,
     "start_time": "2023-06-19T23:24:01.189329",
     "status": "completed"
    },
    "tags": []
   },
   "source": [
    "# Load Train Data and Labels"
   ]
  },
  {
   "cell_type": "code",
   "execution_count": 2,
   "id": "b4379599",
   "metadata": {
    "execution": {
     "iopub.execute_input": "2023-06-19T23:24:01.209482Z",
     "iopub.status.busy": "2023-06-19T23:24:01.208933Z",
     "iopub.status.idle": "2023-06-19T23:24:01.215086Z",
     "shell.execute_reply": "2023-06-19T23:24:01.214476Z"
    },
    "papermill": {
     "duration": 0.01584,
     "end_time": "2023-06-19T23:24:01.217192",
     "exception": false,
     "start_time": "2023-06-19T23:24:01.201352",
     "status": "completed"
    },
    "tags": []
   },
   "outputs": [],
   "source": [
    "dtypes = {\"session_id\": 'int64',\n",
    "          \"index\": np.int16,\n",
    "          \"elapsed_time\": np.int32,\n",
    "          \"event_name\": 'category',\n",
    "          \"name\": 'category',\n",
    "          \"level\": np.int8,\n",
    "          \"page\": np.float16,\n",
    "          \"room_coor_x\": np.float16,\n",
    "          \"room_coor_y\": np.float16,\n",
    "          \"screen_coor_x\": np.float16,\n",
    "          \"screen_coor_y\": np.float16,\n",
    "          \"hover_duration\": np.float32,\n",
    "          \"text\": 'category',\n",
    "          \"fqid\": 'category',\n",
    "          \"room_fqid\": 'category',\n",
    "          \"text_fqid\": 'category',\n",
    "          \"fullscreen\": np.int8,\n",
    "          \"hq\": np.int8,\n",
    "          \"music\": np.int8,\n",
    "          \"level_group\": 'category'\n",
    "          }\n",
    "use_col = ['session_id', 'index', 'elapsed_time', 'event_name', 'name', 'level', 'page',\n",
    "           'room_coor_x', 'room_coor_y', 'hover_duration', 'text', 'fqid', 'room_fqid', 'text_fqid', 'level_group']"
   ]
  },
  {
   "cell_type": "code",
   "execution_count": 3,
   "id": "5eeb465b",
   "metadata": {
    "execution": {
     "iopub.execute_input": "2023-06-19T23:24:01.231267Z",
     "iopub.status.busy": "2023-06-19T23:24:01.230750Z",
     "iopub.status.idle": "2023-06-19T23:24:02.189216Z",
     "shell.execute_reply": "2023-06-19T23:24:02.188438Z"
    },
    "papermill": {
     "duration": 0.968425,
     "end_time": "2023-06-19T23:24:02.191972",
     "exception": false,
     "start_time": "2023-06-19T23:24:01.223547",
     "status": "completed"
    },
    "tags": []
   },
   "outputs": [
    {
     "name": "stdout",
     "output_type": "stream",
     "text": [
      "(424116, 4)\n"
     ]
    },
    {
     "data": {
      "text/html": [
       "<div>\n",
       "<style scoped>\n",
       "    .dataframe tbody tr th:only-of-type {\n",
       "        vertical-align: middle;\n",
       "    }\n",
       "\n",
       "    .dataframe tbody tr th {\n",
       "        vertical-align: top;\n",
       "    }\n",
       "\n",
       "    .dataframe thead th {\n",
       "        text-align: right;\n",
       "    }\n",
       "</style>\n",
       "<table border=\"1\" class=\"dataframe\">\n",
       "  <thead>\n",
       "    <tr style=\"text-align: right;\">\n",
       "      <th></th>\n",
       "      <th>session_id</th>\n",
       "      <th>correct</th>\n",
       "      <th>session</th>\n",
       "      <th>q</th>\n",
       "    </tr>\n",
       "  </thead>\n",
       "  <tbody>\n",
       "    <tr>\n",
       "      <th>0</th>\n",
       "      <td>20090312431273200_q1</td>\n",
       "      <td>1</td>\n",
       "      <td>20090312431273200</td>\n",
       "      <td>1</td>\n",
       "    </tr>\n",
       "    <tr>\n",
       "      <th>1</th>\n",
       "      <td>20090312433251036_q1</td>\n",
       "      <td>0</td>\n",
       "      <td>20090312433251036</td>\n",
       "      <td>1</td>\n",
       "    </tr>\n",
       "    <tr>\n",
       "      <th>2</th>\n",
       "      <td>20090312455206810_q1</td>\n",
       "      <td>1</td>\n",
       "      <td>20090312455206810</td>\n",
       "      <td>1</td>\n",
       "    </tr>\n",
       "    <tr>\n",
       "      <th>3</th>\n",
       "      <td>20090313091715820_q1</td>\n",
       "      <td>0</td>\n",
       "      <td>20090313091715820</td>\n",
       "      <td>1</td>\n",
       "    </tr>\n",
       "    <tr>\n",
       "      <th>4</th>\n",
       "      <td>20090313571836404_q1</td>\n",
       "      <td>1</td>\n",
       "      <td>20090313571836404</td>\n",
       "      <td>1</td>\n",
       "    </tr>\n",
       "  </tbody>\n",
       "</table>\n",
       "</div>"
      ],
      "text/plain": [
       "             session_id  correct            session  q\n",
       "0  20090312431273200_q1        1  20090312431273200  1\n",
       "1  20090312433251036_q1        0  20090312433251036  1\n",
       "2  20090312455206810_q1        1  20090312455206810  1\n",
       "3  20090313091715820_q1        0  20090313091715820  1\n",
       "4  20090313571836404_q1        1  20090313571836404  1"
      ]
     },
     "execution_count": 3,
     "metadata": {},
     "output_type": "execute_result"
    }
   ],
   "source": [
    "targets = pd.read_csv('/kaggle/input/predict-student-performance-from-game-play/train_labels.csv')\n",
    "targets['session'] = targets.session_id.apply(lambda x: int(x.split('_')[0]) )\n",
    "targets['q'] = targets.session_id.apply(lambda x: int(x.split('_')[-1][1:]) )\n",
    "print( targets.shape )\n",
    "targets.head()"
   ]
  },
  {
   "cell_type": "code",
   "execution_count": 4,
   "id": "c2d0a0b8",
   "metadata": {
    "execution": {
     "iopub.execute_input": "2023-06-19T23:24:02.207023Z",
     "iopub.status.busy": "2023-06-19T23:24:02.206422Z",
     "iopub.status.idle": "2023-06-19T23:24:02.323944Z",
     "shell.execute_reply": "2023-06-19T23:24:02.322933Z"
    },
    "papermill": {
     "duration": 0.127896,
     "end_time": "2023-06-19T23:24:02.326485",
     "exception": false,
     "start_time": "2023-06-19T23:24:02.198589",
     "status": "completed"
    },
    "tags": []
   },
   "outputs": [],
   "source": [
    "feature_df = pd.read_csv('/kaggle/input/featur/feature_sort.csv')"
   ]
  },
  {
   "cell_type": "markdown",
   "id": "37766681",
   "metadata": {
    "papermill": {
     "duration": 0.006325,
     "end_time": "2023-06-19T23:24:02.339653",
     "exception": false,
     "start_time": "2023-06-19T23:24:02.333328",
     "status": "completed"
    },
    "tags": []
   },
   "source": [
    "# Feature Engineer"
   ]
  },
  {
   "cell_type": "code",
   "execution_count": 5,
   "id": "d8f8584c",
   "metadata": {
    "execution": {
     "iopub.execute_input": "2023-06-19T23:24:02.354707Z",
     "iopub.status.busy": "2023-06-19T23:24:02.354367Z",
     "iopub.status.idle": "2023-06-19T23:24:02.361069Z",
     "shell.execute_reply": "2023-06-19T23:24:02.360275Z"
    },
    "papermill": {
     "duration": 0.016581,
     "end_time": "2023-06-19T23:24:02.362652",
     "exception": false,
     "start_time": "2023-06-19T23:24:02.346071",
     "status": "completed"
    },
    "tags": []
   },
   "outputs": [],
   "source": [
    "def delt_time_def(df):\n",
    "    df.sort_values(by=['session_id', 'elapsed_time'], inplace=True)\n",
    "    df['d_time'] = df['elapsed_time'].diff(1)\n",
    "    df['d_time'].fillna(0, inplace=True)\n",
    "    df['delt_time'] = df['d_time'].clip(0, 103000)\n",
    "    df['delt_time_next'] = df['delt_time'].shift(-1)\n",
    "    return df"
   ]
  },
  {
   "cell_type": "code",
   "execution_count": 6,
   "id": "26045833",
   "metadata": {
    "execution": {
     "iopub.execute_input": "2023-06-19T23:24:02.377460Z",
     "iopub.status.busy": "2023-06-19T23:24:02.376822Z",
     "iopub.status.idle": "2023-06-19T23:24:02.387550Z",
     "shell.execute_reply": "2023-06-19T23:24:02.386566Z"
    },
    "papermill": {
     "duration": 0.020067,
     "end_time": "2023-06-19T23:24:02.389460",
     "exception": false,
     "start_time": "2023-06-19T23:24:02.369393",
     "status": "completed"
    },
    "tags": []
   },
   "outputs": [],
   "source": [
    "def feature_engineer(train, kol_f):\n",
    "    global kol_col, kol_col_max\n",
    "    kol_col = 9\n",
    "    kol_col_max = 11+kol_f*2\n",
    "    col = [i for i in range(0,kol_col_max)]\n",
    "    new_train = pd.DataFrame(index=train['session_id'].unique(), columns=col, dtype=np.float16)  \n",
    "    new_train[10] = new_train.index # \"session_id\"    \n",
    "\n",
    "    new_train[0] = train.groupby(['session_id'])['d_time'].quantile(q=0.3)\n",
    "    new_train[1] = train.groupby(['session_id'])['d_time'].quantile(q=0.8)\n",
    "    new_train[2] = train.groupby(['session_id'])['d_time'].quantile(q=0.5)\n",
    "    new_train[3] = train.groupby(['session_id'])['d_time'].quantile(q=0.65)\n",
    "    new_train[4] = train.groupby(['session_id'])['hover_duration'].agg('mean')\n",
    "    new_train[5] = train.groupby(['session_id'])['hover_duration'].agg('std')    \n",
    "    new_train[6] = new_train[10].apply(lambda x: int(str(x)[:2])).astype(np.uint8) # \"year\"\n",
    "    new_train[7] = new_train[10].apply(lambda x: int(str(x)[2:4])+1).astype(np.uint8) # \"month\"\n",
    "    new_train[8] = new_train[10].apply(lambda x: int(str(x)[4:6])).astype(np.uint8) # \"day\"\n",
    "    new_train[9] = new_train[10].apply(lambda x: int(str(x)[6:8])).astype(np.uint8) + new_train[10].apply(lambda x: int(str(x)[8:10])).astype(np.uint8)/60\n",
    "    new_train[10] = 0\n",
    "    new_train = new_train.fillna(-1)\n",
    "    \n",
    "    return new_train"
   ]
  },
  {
   "cell_type": "code",
   "execution_count": 7,
   "id": "8fa9ffbf",
   "metadata": {
    "execution": {
     "iopub.execute_input": "2023-06-19T23:24:02.403811Z",
     "iopub.status.busy": "2023-06-19T23:24:02.403456Z",
     "iopub.status.idle": "2023-06-19T23:24:02.412177Z",
     "shell.execute_reply": "2023-06-19T23:24:02.411402Z"
    },
    "papermill": {
     "duration": 0.018075,
     "end_time": "2023-06-19T23:24:02.413984",
     "exception": false,
     "start_time": "2023-06-19T23:24:02.395909",
     "status": "completed"
    },
    "tags": []
   },
   "outputs": [],
   "source": [
    "def feature_next_t(row_f, new_train, train, gran_1, gran_2, i):\n",
    "    global kol_col\n",
    "    kol_col +=1\n",
    "    col1 = row_f['col1']\n",
    "    val1 = row_f['val1']\n",
    "    maska = (train[col1] == val1)\n",
    "    if row_f['kol_col'] == 1:       \n",
    "        new_train[kol_col] = train[maska].groupby(['session_id'])['delt_time_next'].sum()\n",
    "        if gran_1:\n",
    "            kol_col +=1\n",
    "            new_train[kol_col] = train[maska].groupby(['session_id'])['delt_time'].mean()\n",
    "        if gran_2:\n",
    "            kol_col +=1\n",
    "            new_train[kol_col] = train[maska].groupby(['session_id'])['index'].count()          \n",
    "    elif row_f['kol_col'] == 2: \n",
    "        col2 = row_f['col2']\n",
    "        val2 = row_f['val2']\n",
    "        maska = maska & (train[col2] == val2)        \n",
    "        new_train[kol_col] = train[maska].groupby(['session_id'])['delt_time_next'].sum()\n",
    "        if gran_1:\n",
    "            kol_col +=1\n",
    "            new_train[kol_col] = train[maska].groupby(['session_id'])['delt_time'].mean()\n",
    "        if gran_2:\n",
    "            kol_col +=1\n",
    "            new_train[kol_col] = train[maska].groupby(['session_id'])['index'].count()\n",
    "    return new_train"
   ]
  },
  {
   "cell_type": "code",
   "execution_count": 8,
   "id": "9957bef6",
   "metadata": {
    "execution": {
     "iopub.execute_input": "2023-06-19T23:24:02.428552Z",
     "iopub.status.busy": "2023-06-19T23:24:02.428143Z",
     "iopub.status.idle": "2023-06-19T23:24:02.437706Z",
     "shell.execute_reply": "2023-06-19T23:24:02.436827Z"
    },
    "papermill": {
     "duration": 0.019374,
     "end_time": "2023-06-19T23:24:02.439938",
     "exception": false,
     "start_time": "2023-06-19T23:24:02.420564",
     "status": "completed"
    },
    "tags": []
   },
   "outputs": [],
   "source": [
    "def feature_next_t_otvet(row_f, new_train, train, gran_1, gran_2, i):\n",
    "    global kol_col\n",
    "    kol_col +=1\n",
    "    col1 = row_f['col1']\n",
    "    val1 = row_f['val1']\n",
    "    maska = (train[col1] == val1)\n",
    "    if row_f['kol_col'] == 1:      \n",
    "        new_train[kol_col] = train[maska]['delt_time_next'].sum()\n",
    "        if gran_1:\n",
    "            kol_col +=1\n",
    "            new_train[kol_col] = train[maska]['delt_time'].mean()\n",
    "        if gran_2:\n",
    "            kol_col +=1\n",
    "            new_train[kol_col] = train[maska]['index'].count()          \n",
    "    elif row_f['kol_col'] == 2: \n",
    "        col2 = row_f['col2']\n",
    "        val2 = row_f['val2']\n",
    "        maska = maska & (train[col2] == val2)        \n",
    "        new_train[kol_col] = train[maska]['delt_time_next'].sum()\n",
    "        if gran_1:\n",
    "            kol_col +=1\n",
    "            new_train[kol_col] = train[maska]['delt_time'].mean()\n",
    "        if gran_2:\n",
    "            kol_col +=1\n",
    "            new_train[kol_col] = train[maska]['index'].count()\n",
    "    return new_train"
   ]
  },
  {
   "cell_type": "code",
   "execution_count": 9,
   "id": "a1c501d8",
   "metadata": {
    "execution": {
     "iopub.execute_input": "2023-06-19T23:24:02.454727Z",
     "iopub.status.busy": "2023-06-19T23:24:02.454355Z",
     "iopub.status.idle": "2023-06-19T23:24:02.463546Z",
     "shell.execute_reply": "2023-06-19T23:24:02.462740Z"
    },
    "papermill": {
     "duration": 0.018847,
     "end_time": "2023-06-19T23:24:02.465665",
     "exception": false,
     "start_time": "2023-06-19T23:24:02.446818",
     "status": "completed"
    },
    "tags": []
   },
   "outputs": [],
   "source": [
    "def experiment_feature_next_t_otvet(row_f, new_train, train, gran_1, gran_2, i):\n",
    "    global kol_col\n",
    "    kol_col +=1\n",
    "    if row_f['kol_col'] == 1: \n",
    "        maska = train[row_f['col1']] == row_f['val1']\n",
    "        new_train[kol_col] = train[maska]['delt_time_next'].sum()\n",
    "        if gran_1:\n",
    "            kol_col +=1\n",
    "            new_train[kol_col] = train[maska]['delt_time'].mean()\n",
    "        if gran_2:\n",
    "            kol_col +=1\n",
    "            new_train[kol_col] = train[maska]['index'].count()          \n",
    "    elif row_f['kol_col'] == 2: \n",
    "        col2 = row_f['col2']\n",
    "        val2 = row_f['val2']\n",
    "        maska = (train[col1] == val1) & (train[col2] == val2)        \n",
    "        new_train[kol_col] = train[maska]['delt_time_next'].sum()\n",
    "        if gran_1:\n",
    "            kol_col +=1\n",
    "            new_train[kol_col] = train[maska]['delt_time'].mean()\n",
    "        if gran_2:\n",
    "            kol_col +=1\n",
    "            new_train[kol_col] = train[maska]['index'].count()\n",
    "    return new_train"
   ]
  },
  {
   "cell_type": "code",
   "execution_count": 10,
   "id": "29af4d74",
   "metadata": {
    "execution": {
     "iopub.execute_input": "2023-06-19T23:24:02.481244Z",
     "iopub.status.busy": "2023-06-19T23:24:02.480668Z",
     "iopub.status.idle": "2023-06-19T23:24:02.486753Z",
     "shell.execute_reply": "2023-06-19T23:24:02.486114Z"
    },
    "papermill": {
     "duration": 0.015867,
     "end_time": "2023-06-19T23:24:02.488377",
     "exception": false,
     "start_time": "2023-06-19T23:24:02.472510",
     "status": "completed"
    },
    "tags": []
   },
   "outputs": [],
   "source": [
    "def feature_quest_otvet(new_train, train, quest, kol_f):\n",
    "    global kol_col\n",
    "    kol_col = 9\n",
    "    g1 = 0.7 \n",
    "    g2 = 0.3 \n",
    "\n",
    "    feature_q = feature_df[feature_df['quest'] == quest].copy()\n",
    "    feature_q.reset_index(drop=True, inplace=True)\n",
    "    \n",
    "    gran1 = round(kol_f * g1)\n",
    "    gran2 = round(kol_f * g2)    \n",
    "    for i in range(0, kol_f):         \n",
    "        row_f = feature_q.loc[i]\n",
    "        new_train = feature_next_t_otvet(row_f, new_train, train, i < gran1, i <  gran2, i) \n",
    "    col = [i for i in range(0,kol_col+1)]\n",
    "    return new_train[col]"
   ]
  },
  {
   "cell_type": "code",
   "execution_count": 11,
   "id": "8a0cb510",
   "metadata": {
    "execution": {
     "iopub.execute_input": "2023-06-19T23:24:02.502768Z",
     "iopub.status.busy": "2023-06-19T23:24:02.502176Z",
     "iopub.status.idle": "2023-06-19T23:24:02.507547Z",
     "shell.execute_reply": "2023-06-19T23:24:02.506725Z"
    },
    "papermill": {
     "duration": 0.014476,
     "end_time": "2023-06-19T23:24:02.509291",
     "exception": false,
     "start_time": "2023-06-19T23:24:02.494815",
     "status": "completed"
    },
    "tags": []
   },
   "outputs": [],
   "source": [
    "def feature_engineer_new(new_train, train, feature_q, kol_f):\n",
    "    g1 = 0.7 \n",
    "    g2 = 0.3 \n",
    "    gran1 = round(kol_f * g1)\n",
    "    gran2 = round(kol_f * g2)    \n",
    "    for i in range(0, kol_f): \n",
    "        row_f = feature_q.loc[i]       \n",
    "        new_train = feature_next_t(row_f, new_train, train, i < gran1, i <  gran2, i)         \n",
    "    return new_train"
   ]
  },
  {
   "cell_type": "code",
   "execution_count": 12,
   "id": "f5a8c411",
   "metadata": {
    "execution": {
     "iopub.execute_input": "2023-06-19T23:24:02.523499Z",
     "iopub.status.busy": "2023-06-19T23:24:02.523108Z",
     "iopub.status.idle": "2023-06-19T23:24:02.529677Z",
     "shell.execute_reply": "2023-06-19T23:24:02.528751Z"
    },
    "papermill": {
     "duration": 0.016406,
     "end_time": "2023-06-19T23:24:02.531962",
     "exception": false,
     "start_time": "2023-06-19T23:24:02.515556",
     "status": "completed"
    },
    "tags": []
   },
   "outputs": [],
   "source": [
    "def feature_quest(new_train, train, quest, kol_f):\n",
    "    global kol_col\n",
    "    kol_col = 9\n",
    "    feature_q = feature_df[feature_df['quest'] == quest].copy()\n",
    "    feature_q.reset_index(drop=True, inplace=True)\n",
    "    new_train = feature_engineer_new(new_train, train, feature_q, kol_f)\n",
    "    col = [i for i in range(0,kol_col+1)]\n",
    "    return new_train[col]"
   ]
  },
  {
   "cell_type": "code",
   "execution_count": 13,
   "id": "aa6e37cd",
   "metadata": {
    "execution": {
     "iopub.execute_input": "2023-06-19T23:24:02.546803Z",
     "iopub.status.busy": "2023-06-19T23:24:02.546202Z",
     "iopub.status.idle": "2023-06-19T23:24:02.553286Z",
     "shell.execute_reply": "2023-06-19T23:24:02.552160Z"
    },
    "papermill": {
     "duration": 0.017404,
     "end_time": "2023-06-19T23:24:02.556072",
     "exception": false,
     "start_time": "2023-06-19T23:24:02.538668",
     "status": "completed"
    },
    "tags": []
   },
   "outputs": [],
   "source": [
    "def create_model(old_train, quests, models, list_kol_f):\n",
    "    \n",
    "    kol_quest = len(quests)\n",
    "    # ITERATE THRU QUESTIONS\n",
    "    for q in quests:\n",
    "        print('### quest ', q, end='')\n",
    "        new_train = feature_engineer(old_train, list_kol_f[q])\n",
    "        train_x = feature_quest(new_train, old_train, q, list_kol_f[q])\n",
    "        print (' ---- ', 'train_q.shape = ', train_x.shape)\n",
    "           \n",
    "        # TRAIN DATA\n",
    "        train_users = train_x.index.values\n",
    "        train_y = targets.loc[targets.q==q].set_index('session').loc[train_users]\n",
    "\n",
    "        # TRAIN MODEL \n",
    "\n",
    "        model = CatBoostClassifier(\n",
    "            n_estimators = 300,\n",
    "            learning_rate= 0.045,\n",
    "            depth = 6\n",
    "        )\n",
    "        \n",
    "        model.fit(train_x.astype('float32'), train_y['correct'], verbose=False)\n",
    "\n",
    "        # SAVE MODEL, PREDICT VALID OOF\n",
    "        models[f'{q}'] = model\n",
    "    print('***')\n",
    "    \n",
    "    return models"
   ]
  },
  {
   "cell_type": "code",
   "execution_count": 14,
   "id": "87e462c0",
   "metadata": {
    "execution": {
     "iopub.execute_input": "2023-06-19T23:24:02.570727Z",
     "iopub.status.busy": "2023-06-19T23:24:02.570291Z",
     "iopub.status.idle": "2023-06-19T23:24:02.574434Z",
     "shell.execute_reply": "2023-06-19T23:24:02.573612Z"
    },
    "papermill": {
     "duration": 0.013552,
     "end_time": "2023-06-19T23:24:02.576185",
     "exception": false,
     "start_time": "2023-06-19T23:24:02.562633",
     "status": "completed"
    },
    "tags": []
   },
   "outputs": [],
   "source": [
    "models = {}\n",
    "best_threshold = 0.63"
   ]
  },
  {
   "cell_type": "code",
   "execution_count": 15,
   "id": "998dc4e6",
   "metadata": {
    "execution": {
     "iopub.execute_input": "2023-06-19T23:24:02.591351Z",
     "iopub.status.busy": "2023-06-19T23:24:02.590717Z",
     "iopub.status.idle": "2023-06-19T23:24:02.595056Z",
     "shell.execute_reply": "2023-06-19T23:24:02.594452Z"
    },
    "papermill": {
     "duration": 0.014343,
     "end_time": "2023-06-19T23:24:02.597249",
     "exception": false,
     "start_time": "2023-06-19T23:24:02.582906",
     "status": "completed"
    },
    "tags": []
   },
   "outputs": [],
   "source": [
    "list_kol_f = {\n",
    "    1:140,3:110,\n",
    "    4:120, 5:220, 6:130, 7:110, 8:110, 9:100, 10:140, 11:120,\n",
    "    14: 160, 15:160, 16:130, 17:140             \n",
    "             }"
   ]
  },
  {
   "cell_type": "code",
   "execution_count": 16,
   "id": "d09cec32",
   "metadata": {
    "execution": {
     "iopub.execute_input": "2023-06-19T23:24:02.612180Z",
     "iopub.status.busy": "2023-06-19T23:24:02.611543Z",
     "iopub.status.idle": "2023-06-19T23:25:11.929810Z",
     "shell.execute_reply": "2023-06-19T23:25:11.928763Z"
    },
    "papermill": {
     "duration": 69.328278,
     "end_time": "2023-06-19T23:25:11.932106",
     "exception": false,
     "start_time": "2023-06-19T23:24:02.603828",
     "status": "completed"
    },
    "tags": []
   },
   "outputs": [
    {
     "name": "stdout",
     "output_type": "stream",
     "text": [
      "### quest  1 ----  train_q.shape =  (23562, 290)\n",
      "### quest  3 ----  train_q.shape =  (23562, 230)\n",
      "***\n"
     ]
    }
   ],
   "source": [
    "df0_4 = pd.read_csv('/kaggle/input/featur/train_0_4t.csv', dtype=dtypes) \n",
    "kol_lvl = (df0_4 .groupby(['session_id'])['level'].agg('nunique') < 5)\n",
    "list_session = kol_lvl[kol_lvl].index\n",
    "df0_4  = df0_4 [~df0_4 ['session_id'].isin(list_session)]\n",
    "df0_4 = delt_time_def(df0_4)\n",
    "\n",
    "quests_0_4 = [1, 3] \n",
    "# list_kol_f = {1:140,3:110}\n",
    "\n",
    "models = create_model(df0_4, quests_0_4, models, list_kol_f)\n",
    "del df0_4"
   ]
  },
  {
   "cell_type": "code",
   "execution_count": 17,
   "id": "059e6db3",
   "metadata": {
    "execution": {
     "iopub.execute_input": "2023-06-19T23:25:11.948483Z",
     "iopub.status.busy": "2023-06-19T23:25:11.947511Z",
     "iopub.status.idle": "2023-06-19T23:31:16.175537Z",
     "shell.execute_reply": "2023-06-19T23:31:16.174633Z"
    },
    "papermill": {
     "duration": 364.244632,
     "end_time": "2023-06-19T23:31:16.184079",
     "exception": false,
     "start_time": "2023-06-19T23:25:11.939447",
     "status": "completed"
    },
    "tags": []
   },
   "outputs": [
    {
     "name": "stdout",
     "output_type": "stream",
     "text": [
      "### quest  4 ----  train_q.shape =  (23561, 250)\n",
      "### quest  5 ----  train_q.shape =  (23561, 450)\n",
      "### quest  6 ----  train_q.shape =  (23561, 270)\n",
      "### quest  7 ----  train_q.shape =  (23561, 230)\n",
      "### quest  8 ----  train_q.shape =  (23561, 230)\n",
      "### quest  9 ----  train_q.shape =  (23561, 210)\n",
      "### quest  10 ----  train_q.shape =  (23561, 290)\n",
      "### quest  11 ----  train_q.shape =  (23561, 250)\n",
      "***\n"
     ]
    }
   ],
   "source": [
    "df5_12 = pd.read_csv('/kaggle/input/featur/train_5_12t.csv', dtype=dtypes)\n",
    "kol_lvl = (df5_12.groupby(['session_id'])['level'].agg('nunique') < 8)\n",
    "list_session = kol_lvl[kol_lvl].index\n",
    "df5_12 = df5_12[~df5_12['session_id'].isin(list_session)]\n",
    "df5_12 = delt_time_def(df5_12)\n",
    "quests_5_12 = [4, 5, 6, 7, 8, 9, 10, 11] \n",
    "\n",
    "# list_kol_f = {4:110, 5:220, 6:120, 7:110, 8:110, 9:100, 10:140, 11:120}\n",
    "\n",
    "models = create_model(df5_12, quests_5_12, models, list_kol_f)\n",
    "del df5_12"
   ]
  },
  {
   "cell_type": "code",
   "execution_count": 18,
   "id": "a974b189",
   "metadata": {
    "execution": {
     "iopub.execute_input": "2023-06-19T23:31:16.200745Z",
     "iopub.status.busy": "2023-06-19T23:31:16.200225Z",
     "iopub.status.idle": "2023-06-19T23:35:25.503998Z",
     "shell.execute_reply": "2023-06-19T23:35:25.502655Z"
    },
    "papermill": {
     "duration": 249.314912,
     "end_time": "2023-06-19T23:35:25.506451",
     "exception": false,
     "start_time": "2023-06-19T23:31:16.191539",
     "status": "completed"
    },
    "tags": []
   },
   "outputs": [
    {
     "name": "stdout",
     "output_type": "stream",
     "text": [
      "### quest  14 ----  train_q.shape =  (22986, 330)\n",
      "### quest  15 ----  train_q.shape =  (22986, 330)\n",
      "### quest  16 ----  train_q.shape =  (22986, 270)\n",
      "### quest  17 ----  train_q.shape =  (22986, 290)\n",
      "***\n"
     ]
    }
   ],
   "source": [
    "df13_22 = pd.read_csv('/kaggle/input/featur/train_13_22t.csv', dtype=dtypes) \n",
    "kol_lvl = (df13_22 .groupby(['session_id'])['level'].agg('nunique') < 10)\n",
    "list_session = kol_lvl[kol_lvl].index\n",
    "df13_22  = df13_22 [~df13_22 ['session_id'].isin(list_session)]\n",
    "df13_22 = delt_time_def(df13_22)\n",
    "\n",
    "quests_13_22 = [14, 15, 16, 17] \n",
    "# list_kol_f = {14: 160, 15:160, 16:105, 17:140}\n",
    "\n",
    "models = create_model(df13_22, quests_13_22, models, list_kol_f)\n"
   ]
  },
  {
   "cell_type": "code",
   "execution_count": 19,
   "id": "b3fdfc62",
   "metadata": {
    "execution": {
     "iopub.execute_input": "2023-06-19T23:35:25.527119Z",
     "iopub.status.busy": "2023-06-19T23:35:25.525608Z",
     "iopub.status.idle": "2023-06-19T23:35:25.646848Z",
     "shell.execute_reply": "2023-06-19T23:35:25.645252Z"
    },
    "papermill": {
     "duration": 0.135435,
     "end_time": "2023-06-19T23:35:25.650416",
     "exception": false,
     "start_time": "2023-06-19T23:35:25.514981",
     "status": "completed"
    },
    "tags": []
   },
   "outputs": [],
   "source": [
    "# Saving a Model\n",
    "import os\n",
    "dr = '/kaggle/working/models'\n",
    "\n",
    "if not os.path.exists(dr):\n",
    "    os.mkdir(r'/kaggle/working/models')\n",
    "    \n",
    "os.chdir(r'/kaggle/working/models')\n",
    "# for q in quests_0_4 + quests_5_12 + quests_13_22:\n",
    "#     print(q)\n",
    "#     fadf\n",
    "#     models[q].save_model(f'cat_model_{q}.bin')\n",
    "\n",
    "qnx = ['1','3','4','5','6','7','8','9','10','11','14','15','16','17']\n",
    "\n",
    "for q in qnx:\n",
    "    models[q].save_model(f'cat_model_{q}.bin')\n",
    "    "
   ]
  },
  {
   "cell_type": "code",
   "execution_count": 20,
   "id": "d767173b",
   "metadata": {
    "execution": {
     "iopub.execute_input": "2023-06-19T23:35:25.668977Z",
     "iopub.status.busy": "2023-06-19T23:35:25.668583Z",
     "iopub.status.idle": "2023-06-19T23:35:25.674790Z",
     "shell.execute_reply": "2023-06-19T23:35:25.673574Z"
    },
    "papermill": {
     "duration": 0.018413,
     "end_time": "2023-06-19T23:35:25.677298",
     "exception": false,
     "start_time": "2023-06-19T23:35:25.658885",
     "status": "completed"
    },
    "tags": []
   },
   "outputs": [],
   "source": [
    "#Model Reading\n",
    "# dir = '/kaggle/input/catbust/'\n",
    "# for q in quests_0_4 + quests_5_12 + quests_13_22:\n",
    "#     models[q] = CatBoostClassifier().load_model(dir+f'cat_model_{q}.bin')"
   ]
  },
  {
   "cell_type": "markdown",
   "id": "cb0f15e5",
   "metadata": {
    "papermill": {
     "duration": 0.00891,
     "end_time": "2023-06-19T23:35:25.694812",
     "exception": false,
     "start_time": "2023-06-19T23:35:25.685902",
     "status": "completed"
    },
    "tags": []
   },
   "source": [
    "**Infer Test Data**"
   ]
  },
  {
   "cell_type": "code",
   "execution_count": 21,
   "id": "7346e0d0",
   "metadata": {
    "execution": {
     "iopub.execute_input": "2023-06-19T23:35:25.714161Z",
     "iopub.status.busy": "2023-06-19T23:35:25.713447Z",
     "iopub.status.idle": "2023-06-19T23:35:25.717077Z",
     "shell.execute_reply": "2023-06-19T23:35:25.716468Z"
    },
    "papermill": {
     "duration": 0.015771,
     "end_time": "2023-06-19T23:35:25.718835",
     "exception": false,
     "start_time": "2023-06-19T23:35:25.703064",
     "status": "completed"
    },
    "tags": []
   },
   "outputs": [],
   "source": [
    "# import jo_wilder\n",
    "\n",
    "# try:\n",
    "#     jo_wilder.make_env.__called__ = False\n",
    "#     env.__called__ = False\n",
    "#     type(env)._state = type(type(env)._state).__dict__['INIT']\n",
    "# except:\n",
    "#     pass\n",
    "\n",
    "# env = jo_wilder.make_env()\n",
    "# iter_test = env.iter_test()    "
   ]
  },
  {
   "cell_type": "code",
   "execution_count": 22,
   "id": "99cb31ac",
   "metadata": {
    "execution": {
     "iopub.execute_input": "2023-06-19T23:35:25.738228Z",
     "iopub.status.busy": "2023-06-19T23:35:25.737249Z",
     "iopub.status.idle": "2023-06-19T23:35:25.742126Z",
     "shell.execute_reply": "2023-06-19T23:35:25.740961Z"
    },
    "papermill": {
     "duration": 0.016812,
     "end_time": "2023-06-19T23:35:25.744313",
     "exception": false,
     "start_time": "2023-06-19T23:35:25.727501",
     "status": "completed"
    },
    "tags": []
   },
   "outputs": [],
   "source": [
    "import time"
   ]
  },
  {
   "cell_type": "code",
   "execution_count": 23,
   "id": "9f157639",
   "metadata": {
    "execution": {
     "iopub.execute_input": "2023-06-19T23:35:25.763659Z",
     "iopub.status.busy": "2023-06-19T23:35:25.763168Z",
     "iopub.status.idle": "2023-06-19T23:35:34.909507Z",
     "shell.execute_reply": "2023-06-19T23:35:34.908328Z"
    },
    "papermill": {
     "duration": 9.158723,
     "end_time": "2023-06-19T23:35:34.911912",
     "exception": false,
     "start_time": "2023-06-19T23:35:25.753189",
     "status": "completed"
    },
    "tags": []
   },
   "outputs": [
    {
     "name": "stdout",
     "output_type": "stream",
     "text": [
      "This version of the API is not optimized and should not be used to estimate the runtime of your code on the hidden test set.\n"
     ]
    }
   ],
   "source": [
    "import jo_wilder\n",
    "jo_wilder.make_env.func_dict['__called__'] = False\n",
    "env = jo_wilder.make_env()\n",
    "\n",
    "iter_test = env.iter_test()\n",
    "\n",
    "g_end4 = 0\n",
    "g_end5 = 0\n",
    "\n",
    "# print(\"dfasdfa\")\n",
    "\n",
    "list_q = {'0-4':quests_0_4, '5-12':quests_5_12, '13-22':quests_13_22}\n",
    "for (test, sam_sub) in iter_test:\n",
    "#     print(test.shape)\n",
    "    sam_sub['question'] = [int(label.split('_')[1][1:]) for label in sam_sub['session_id']]    \n",
    "    grp = test.level_group.values[0]   \n",
    "    sam_sub['correct'] = 1\n",
    "    sam_sub.loc[sam_sub.question.isin([5, 8, 10, 13, 15]), 'correct'] = 0  \n",
    "    old_train = delt_time_def(test[test.level_group == grp])\n",
    "    \n",
    "#     print(\"dafasdfas\")\n",
    "       \n",
    "    for q in list_q[grp]:\n",
    "        \n",
    "#         print(q)\n",
    "        \n",
    "        start4 = time.time()\n",
    "        new_train = feature_engineer(old_train, list_kol_f[q])\n",
    "        new_train = feature_quest_otvet(new_train, old_train, q, list_kol_f[q])\n",
    "#         new_train = feature_quest(new_train, old_train, q, kol_f)\n",
    "        \n",
    "        end4 = time.time() - start4\n",
    "        g_end4 += end4\n",
    "        \n",
    "        start5 = time.time()        \n",
    "        \n",
    "        clf = models[f'{q}']\n",
    "        p = clf.predict_proba(new_train.astype('float32'))[:,1]        \n",
    "        \n",
    "        end5 = time.time() - start5\n",
    "        g_end5 += end5\n",
    "             \n",
    "        \n",
    "        mask = sam_sub.question == q \n",
    "        x = int(p[0]>best_threshold)\n",
    "        sam_sub.loc[mask,'correct'] = x      \n",
    "        \n",
    "        \n",
    "    sam_sub = sam_sub[['session_id', 'correct']]      \n",
    "    env.predict(sam_sub)"
   ]
  },
  {
   "cell_type": "markdown",
   "id": "a59f0044",
   "metadata": {
    "papermill": {
     "duration": 0.007834,
     "end_time": "2023-06-19T23:35:34.928169",
     "exception": false,
     "start_time": "2023-06-19T23:35:34.920335",
     "status": "completed"
    },
    "tags": []
   },
   "source": [
    "# EDA submission.csv"
   ]
  },
  {
   "cell_type": "code",
   "execution_count": 24,
   "id": "6aba7add",
   "metadata": {
    "execution": {
     "iopub.execute_input": "2023-06-19T23:35:34.945993Z",
     "iopub.status.busy": "2023-06-19T23:35:34.945625Z",
     "iopub.status.idle": "2023-06-19T23:35:34.959249Z",
     "shell.execute_reply": "2023-06-19T23:35:34.958606Z"
    },
    "papermill": {
     "duration": 0.02494,
     "end_time": "2023-06-19T23:35:34.961048",
     "exception": false,
     "start_time": "2023-06-19T23:35:34.936108",
     "status": "completed"
    },
    "tags": []
   },
   "outputs": [
    {
     "name": "stdout",
     "output_type": "stream",
     "text": [
      "(54, 2)\n"
     ]
    },
    {
     "data": {
      "text/html": [
       "<div>\n",
       "<style scoped>\n",
       "    .dataframe tbody tr th:only-of-type {\n",
       "        vertical-align: middle;\n",
       "    }\n",
       "\n",
       "    .dataframe tbody tr th {\n",
       "        vertical-align: top;\n",
       "    }\n",
       "\n",
       "    .dataframe thead th {\n",
       "        text-align: right;\n",
       "    }\n",
       "</style>\n",
       "<table border=\"1\" class=\"dataframe\">\n",
       "  <thead>\n",
       "    <tr style=\"text-align: right;\">\n",
       "      <th></th>\n",
       "      <th>session_id</th>\n",
       "      <th>correct</th>\n",
       "    </tr>\n",
       "  </thead>\n",
       "  <tbody>\n",
       "    <tr>\n",
       "      <th>0</th>\n",
       "      <td>20090109393214576_q1</td>\n",
       "      <td>1</td>\n",
       "    </tr>\n",
       "    <tr>\n",
       "      <th>1</th>\n",
       "      <td>20090109393214576_q2</td>\n",
       "      <td>1</td>\n",
       "    </tr>\n",
       "    <tr>\n",
       "      <th>2</th>\n",
       "      <td>20090109393214576_q3</td>\n",
       "      <td>1</td>\n",
       "    </tr>\n",
       "    <tr>\n",
       "      <th>3</th>\n",
       "      <td>20090109393214576_q4</td>\n",
       "      <td>1</td>\n",
       "    </tr>\n",
       "    <tr>\n",
       "      <th>4</th>\n",
       "      <td>20090109393214576_q5</td>\n",
       "      <td>0</td>\n",
       "    </tr>\n",
       "    <tr>\n",
       "      <th>5</th>\n",
       "      <td>20090109393214576_q6</td>\n",
       "      <td>1</td>\n",
       "    </tr>\n",
       "    <tr>\n",
       "      <th>6</th>\n",
       "      <td>20090109393214576_q7</td>\n",
       "      <td>1</td>\n",
       "    </tr>\n",
       "    <tr>\n",
       "      <th>7</th>\n",
       "      <td>20090109393214576_q8</td>\n",
       "      <td>0</td>\n",
       "    </tr>\n",
       "    <tr>\n",
       "      <th>8</th>\n",
       "      <td>20090109393214576_q9</td>\n",
       "      <td>1</td>\n",
       "    </tr>\n",
       "    <tr>\n",
       "      <th>9</th>\n",
       "      <td>20090109393214576_q10</td>\n",
       "      <td>0</td>\n",
       "    </tr>\n",
       "    <tr>\n",
       "      <th>10</th>\n",
       "      <td>20090109393214576_q11</td>\n",
       "      <td>0</td>\n",
       "    </tr>\n",
       "    <tr>\n",
       "      <th>11</th>\n",
       "      <td>20090109393214576_q12</td>\n",
       "      <td>1</td>\n",
       "    </tr>\n",
       "    <tr>\n",
       "      <th>12</th>\n",
       "      <td>20090109393214576_q13</td>\n",
       "      <td>0</td>\n",
       "    </tr>\n",
       "    <tr>\n",
       "      <th>13</th>\n",
       "      <td>20090109393214576_q14</td>\n",
       "      <td>1</td>\n",
       "    </tr>\n",
       "    <tr>\n",
       "      <th>14</th>\n",
       "      <td>20090109393214576_q15</td>\n",
       "      <td>0</td>\n",
       "    </tr>\n",
       "    <tr>\n",
       "      <th>15</th>\n",
       "      <td>20090109393214576_q16</td>\n",
       "      <td>1</td>\n",
       "    </tr>\n",
       "    <tr>\n",
       "      <th>16</th>\n",
       "      <td>20090109393214576_q17</td>\n",
       "      <td>1</td>\n",
       "    </tr>\n",
       "    <tr>\n",
       "      <th>17</th>\n",
       "      <td>20090109393214576_q18</td>\n",
       "      <td>1</td>\n",
       "    </tr>\n",
       "    <tr>\n",
       "      <th>18</th>\n",
       "      <td>20090312143683264_q1</td>\n",
       "      <td>0</td>\n",
       "    </tr>\n",
       "    <tr>\n",
       "      <th>19</th>\n",
       "      <td>20090312143683264_q2</td>\n",
       "      <td>1</td>\n",
       "    </tr>\n",
       "    <tr>\n",
       "      <th>20</th>\n",
       "      <td>20090312143683264_q3</td>\n",
       "      <td>1</td>\n",
       "    </tr>\n",
       "    <tr>\n",
       "      <th>21</th>\n",
       "      <td>20090312143683264_q4</td>\n",
       "      <td>1</td>\n",
       "    </tr>\n",
       "    <tr>\n",
       "      <th>22</th>\n",
       "      <td>20090312143683264_q5</td>\n",
       "      <td>0</td>\n",
       "    </tr>\n",
       "    <tr>\n",
       "      <th>23</th>\n",
       "      <td>20090312143683264_q6</td>\n",
       "      <td>0</td>\n",
       "    </tr>\n",
       "    <tr>\n",
       "      <th>24</th>\n",
       "      <td>20090312143683264_q7</td>\n",
       "      <td>0</td>\n",
       "    </tr>\n",
       "    <tr>\n",
       "      <th>25</th>\n",
       "      <td>20090312143683264_q8</td>\n",
       "      <td>0</td>\n",
       "    </tr>\n",
       "    <tr>\n",
       "      <th>26</th>\n",
       "      <td>20090312143683264_q9</td>\n",
       "      <td>0</td>\n",
       "    </tr>\n",
       "    <tr>\n",
       "      <th>27</th>\n",
       "      <td>20090312143683264_q10</td>\n",
       "      <td>0</td>\n",
       "    </tr>\n",
       "    <tr>\n",
       "      <th>28</th>\n",
       "      <td>20090312143683264_q11</td>\n",
       "      <td>0</td>\n",
       "    </tr>\n",
       "    <tr>\n",
       "      <th>29</th>\n",
       "      <td>20090312143683264_q12</td>\n",
       "      <td>1</td>\n",
       "    </tr>\n",
       "    <tr>\n",
       "      <th>30</th>\n",
       "      <td>20090312143683264_q13</td>\n",
       "      <td>0</td>\n",
       "    </tr>\n",
       "    <tr>\n",
       "      <th>31</th>\n",
       "      <td>20090312143683264_q14</td>\n",
       "      <td>0</td>\n",
       "    </tr>\n",
       "    <tr>\n",
       "      <th>32</th>\n",
       "      <td>20090312143683264_q15</td>\n",
       "      <td>0</td>\n",
       "    </tr>\n",
       "    <tr>\n",
       "      <th>33</th>\n",
       "      <td>20090312143683264_q16</td>\n",
       "      <td>1</td>\n",
       "    </tr>\n",
       "    <tr>\n",
       "      <th>34</th>\n",
       "      <td>20090312143683264_q17</td>\n",
       "      <td>1</td>\n",
       "    </tr>\n",
       "    <tr>\n",
       "      <th>35</th>\n",
       "      <td>20090312143683264_q18</td>\n",
       "      <td>1</td>\n",
       "    </tr>\n",
       "    <tr>\n",
       "      <th>36</th>\n",
       "      <td>20090312331414616_q1</td>\n",
       "      <td>1</td>\n",
       "    </tr>\n",
       "    <tr>\n",
       "      <th>37</th>\n",
       "      <td>20090312331414616_q2</td>\n",
       "      <td>1</td>\n",
       "    </tr>\n",
       "    <tr>\n",
       "      <th>38</th>\n",
       "      <td>20090312331414616_q3</td>\n",
       "      <td>1</td>\n",
       "    </tr>\n",
       "    <tr>\n",
       "      <th>39</th>\n",
       "      <td>20090312331414616_q4</td>\n",
       "      <td>1</td>\n",
       "    </tr>\n",
       "    <tr>\n",
       "      <th>40</th>\n",
       "      <td>20090312331414616_q5</td>\n",
       "      <td>1</td>\n",
       "    </tr>\n",
       "    <tr>\n",
       "      <th>41</th>\n",
       "      <td>20090312331414616_q6</td>\n",
       "      <td>1</td>\n",
       "    </tr>\n",
       "    <tr>\n",
       "      <th>42</th>\n",
       "      <td>20090312331414616_q7</td>\n",
       "      <td>1</td>\n",
       "    </tr>\n",
       "    <tr>\n",
       "      <th>43</th>\n",
       "      <td>20090312331414616_q8</td>\n",
       "      <td>1</td>\n",
       "    </tr>\n",
       "    <tr>\n",
       "      <th>44</th>\n",
       "      <td>20090312331414616_q9</td>\n",
       "      <td>1</td>\n",
       "    </tr>\n",
       "    <tr>\n",
       "      <th>45</th>\n",
       "      <td>20090312331414616_q10</td>\n",
       "      <td>0</td>\n",
       "    </tr>\n",
       "    <tr>\n",
       "      <th>46</th>\n",
       "      <td>20090312331414616_q11</td>\n",
       "      <td>1</td>\n",
       "    </tr>\n",
       "    <tr>\n",
       "      <th>47</th>\n",
       "      <td>20090312331414616_q12</td>\n",
       "      <td>1</td>\n",
       "    </tr>\n",
       "    <tr>\n",
       "      <th>48</th>\n",
       "      <td>20090312331414616_q13</td>\n",
       "      <td>0</td>\n",
       "    </tr>\n",
       "    <tr>\n",
       "      <th>49</th>\n",
       "      <td>20090312331414616_q14</td>\n",
       "      <td>1</td>\n",
       "    </tr>\n",
       "    <tr>\n",
       "      <th>50</th>\n",
       "      <td>20090312331414616_q15</td>\n",
       "      <td>1</td>\n",
       "    </tr>\n",
       "    <tr>\n",
       "      <th>51</th>\n",
       "      <td>20090312331414616_q16</td>\n",
       "      <td>1</td>\n",
       "    </tr>\n",
       "    <tr>\n",
       "      <th>52</th>\n",
       "      <td>20090312331414616_q17</td>\n",
       "      <td>1</td>\n",
       "    </tr>\n",
       "    <tr>\n",
       "      <th>53</th>\n",
       "      <td>20090312331414616_q18</td>\n",
       "      <td>1</td>\n",
       "    </tr>\n",
       "  </tbody>\n",
       "</table>\n",
       "</div>"
      ],
      "text/plain": [
       "               session_id  correct\n",
       "0    20090109393214576_q1        1\n",
       "1    20090109393214576_q2        1\n",
       "2    20090109393214576_q3        1\n",
       "3    20090109393214576_q4        1\n",
       "4    20090109393214576_q5        0\n",
       "5    20090109393214576_q6        1\n",
       "6    20090109393214576_q7        1\n",
       "7    20090109393214576_q8        0\n",
       "8    20090109393214576_q9        1\n",
       "9   20090109393214576_q10        0\n",
       "10  20090109393214576_q11        0\n",
       "11  20090109393214576_q12        1\n",
       "12  20090109393214576_q13        0\n",
       "13  20090109393214576_q14        1\n",
       "14  20090109393214576_q15        0\n",
       "15  20090109393214576_q16        1\n",
       "16  20090109393214576_q17        1\n",
       "17  20090109393214576_q18        1\n",
       "18   20090312143683264_q1        0\n",
       "19   20090312143683264_q2        1\n",
       "20   20090312143683264_q3        1\n",
       "21   20090312143683264_q4        1\n",
       "22   20090312143683264_q5        0\n",
       "23   20090312143683264_q6        0\n",
       "24   20090312143683264_q7        0\n",
       "25   20090312143683264_q8        0\n",
       "26   20090312143683264_q9        0\n",
       "27  20090312143683264_q10        0\n",
       "28  20090312143683264_q11        0\n",
       "29  20090312143683264_q12        1\n",
       "30  20090312143683264_q13        0\n",
       "31  20090312143683264_q14        0\n",
       "32  20090312143683264_q15        0\n",
       "33  20090312143683264_q16        1\n",
       "34  20090312143683264_q17        1\n",
       "35  20090312143683264_q18        1\n",
       "36   20090312331414616_q1        1\n",
       "37   20090312331414616_q2        1\n",
       "38   20090312331414616_q3        1\n",
       "39   20090312331414616_q4        1\n",
       "40   20090312331414616_q5        1\n",
       "41   20090312331414616_q6        1\n",
       "42   20090312331414616_q7        1\n",
       "43   20090312331414616_q8        1\n",
       "44   20090312331414616_q9        1\n",
       "45  20090312331414616_q10        0\n",
       "46  20090312331414616_q11        1\n",
       "47  20090312331414616_q12        1\n",
       "48  20090312331414616_q13        0\n",
       "49  20090312331414616_q14        1\n",
       "50  20090312331414616_q15        1\n",
       "51  20090312331414616_q16        1\n",
       "52  20090312331414616_q17        1\n",
       "53  20090312331414616_q18        1"
      ]
     },
     "execution_count": 24,
     "metadata": {},
     "output_type": "execute_result"
    }
   ],
   "source": [
    "df = pd.read_csv('submission.csv')\n",
    "print( df.shape )\n",
    "df.iloc[-54:]"
   ]
  },
  {
   "cell_type": "code",
   "execution_count": null,
   "id": "4e49a0fb",
   "metadata": {
    "papermill": {
     "duration": 0.008096,
     "end_time": "2023-06-19T23:35:34.978109",
     "exception": false,
     "start_time": "2023-06-19T23:35:34.970013",
     "status": "completed"
    },
    "tags": []
   },
   "outputs": [],
   "source": []
  }
 ],
 "metadata": {
  "kernelspec": {
   "display_name": "Python 3",
   "language": "python",
   "name": "python3"
  },
  "language_info": {
   "codemirror_mode": {
    "name": "ipython",
    "version": 3
   },
   "file_extension": ".py",
   "mimetype": "text/x-python",
   "name": "python",
   "nbconvert_exporter": "python",
   "pygments_lexer": "ipython3",
   "version": "3.7.12"
  },
  "papermill": {
   "default_parameters": {},
   "duration": 704.488237,
   "end_time": "2023-06-19T23:35:35.911910",
   "environment_variables": {},
   "exception": null,
   "input_path": "__notebook__.ipynb",
   "output_path": "__notebook__.ipynb",
   "parameters": {},
   "start_time": "2023-06-19T23:23:51.423673",
   "version": "2.3.4"
  }
 },
 "nbformat": 4,
 "nbformat_minor": 5
}
