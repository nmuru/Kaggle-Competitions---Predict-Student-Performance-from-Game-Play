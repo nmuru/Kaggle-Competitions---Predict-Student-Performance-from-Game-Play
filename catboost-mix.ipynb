{
 "cells": [
  {
   "cell_type": "code",
   "execution_count": 1,
   "id": "8f621cbd",
   "metadata": {
    "execution": {
     "iopub.execute_input": "2023-06-13T01:32:35.748784Z",
     "iopub.status.busy": "2023-06-13T01:32:35.747977Z",
     "iopub.status.idle": "2023-06-13T01:32:37.316442Z",
     "shell.execute_reply": "2023-06-13T01:32:37.315015Z"
    },
    "papermill": {
     "duration": 1.591105,
     "end_time": "2023-06-13T01:32:37.320602",
     "exception": false,
     "start_time": "2023-06-13T01:32:35.729497",
     "status": "completed"
    },
    "tags": []
   },
   "outputs": [],
   "source": [
    "import pandas as pd, numpy as np\n",
    "from catboost import CatBoostClassifier\n",
    "import pickle\n",
    "import sys"
   ]
  },
  {
   "cell_type": "markdown",
   "id": "e1d41f6f",
   "metadata": {
    "papermill": {
     "duration": 0.010668,
     "end_time": "2023-06-13T01:32:37.344822",
     "exception": false,
     "start_time": "2023-06-13T01:32:37.334154",
     "status": "completed"
    },
    "tags": []
   },
   "source": [
    "# Load Train Data and Labels"
   ]
  },
  {
   "cell_type": "code",
   "execution_count": 2,
   "id": "8ede6060",
   "metadata": {
    "execution": {
     "iopub.execute_input": "2023-06-13T01:32:37.369890Z",
     "iopub.status.busy": "2023-06-13T01:32:37.369154Z",
     "iopub.status.idle": "2023-06-13T01:32:37.377774Z",
     "shell.execute_reply": "2023-06-13T01:32:37.376915Z"
    },
    "papermill": {
     "duration": 0.023959,
     "end_time": "2023-06-13T01:32:37.380418",
     "exception": false,
     "start_time": "2023-06-13T01:32:37.356459",
     "status": "completed"
    },
    "tags": []
   },
   "outputs": [],
   "source": [
    "dtypes = {\"session_id\": 'int64',\n",
    "          \"index\": np.int16,\n",
    "          \"elapsed_time\": np.int32,\n",
    "          \"event_name\": 'category',\n",
    "          \"name\": 'category',\n",
    "          \"level\": np.int8,\n",
    "          \"page\": np.float16,\n",
    "          \"room_coor_x\": np.float16,\n",
    "          \"room_coor_y\": np.float16,\n",
    "          \"screen_coor_x\": np.float16,\n",
    "          \"screen_coor_y\": np.float16,\n",
    "          \"hover_duration\": np.float32,\n",
    "          \"text\": 'category',\n",
    "          \"fqid\": 'category',\n",
    "          \"room_fqid\": 'category',\n",
    "          \"text_fqid\": 'category',\n",
    "          \"fullscreen\": np.int8,\n",
    "          \"hq\": np.int8,\n",
    "          \"music\": np.int8,\n",
    "          \"level_group\": 'category'\n",
    "          }\n",
    "use_col = ['session_id', 'index', 'elapsed_time', 'event_name', 'name', 'level', 'page',\n",
    "           'room_coor_x', 'room_coor_y', 'hover_duration', 'text', 'fqid', 'room_fqid', 'text_fqid', 'level_group']"
   ]
  },
  {
   "cell_type": "code",
   "execution_count": 3,
   "id": "867a555f",
   "metadata": {
    "execution": {
     "iopub.execute_input": "2023-06-13T01:32:37.404968Z",
     "iopub.status.busy": "2023-06-13T01:32:37.404260Z",
     "iopub.status.idle": "2023-06-13T01:32:39.045297Z",
     "shell.execute_reply": "2023-06-13T01:32:39.044207Z"
    },
    "papermill": {
     "duration": 1.656333,
     "end_time": "2023-06-13T01:32:39.047816",
     "exception": false,
     "start_time": "2023-06-13T01:32:37.391483",
     "status": "completed"
    },
    "tags": []
   },
   "outputs": [
    {
     "name": "stdout",
     "output_type": "stream",
     "text": [
      "(424116, 4)\n"
     ]
    },
    {
     "data": {
      "text/html": [
       "<div>\n",
       "<style scoped>\n",
       "    .dataframe tbody tr th:only-of-type {\n",
       "        vertical-align: middle;\n",
       "    }\n",
       "\n",
       "    .dataframe tbody tr th {\n",
       "        vertical-align: top;\n",
       "    }\n",
       "\n",
       "    .dataframe thead th {\n",
       "        text-align: right;\n",
       "    }\n",
       "</style>\n",
       "<table border=\"1\" class=\"dataframe\">\n",
       "  <thead>\n",
       "    <tr style=\"text-align: right;\">\n",
       "      <th></th>\n",
       "      <th>session_id</th>\n",
       "      <th>correct</th>\n",
       "      <th>session</th>\n",
       "      <th>q</th>\n",
       "    </tr>\n",
       "  </thead>\n",
       "  <tbody>\n",
       "    <tr>\n",
       "      <th>0</th>\n",
       "      <td>20090312431273200_q1</td>\n",
       "      <td>1</td>\n",
       "      <td>20090312431273200</td>\n",
       "      <td>1</td>\n",
       "    </tr>\n",
       "    <tr>\n",
       "      <th>1</th>\n",
       "      <td>20090312433251036_q1</td>\n",
       "      <td>0</td>\n",
       "      <td>20090312433251036</td>\n",
       "      <td>1</td>\n",
       "    </tr>\n",
       "    <tr>\n",
       "      <th>2</th>\n",
       "      <td>20090312455206810_q1</td>\n",
       "      <td>1</td>\n",
       "      <td>20090312455206810</td>\n",
       "      <td>1</td>\n",
       "    </tr>\n",
       "    <tr>\n",
       "      <th>3</th>\n",
       "      <td>20090313091715820_q1</td>\n",
       "      <td>0</td>\n",
       "      <td>20090313091715820</td>\n",
       "      <td>1</td>\n",
       "    </tr>\n",
       "    <tr>\n",
       "      <th>4</th>\n",
       "      <td>20090313571836404_q1</td>\n",
       "      <td>1</td>\n",
       "      <td>20090313571836404</td>\n",
       "      <td>1</td>\n",
       "    </tr>\n",
       "  </tbody>\n",
       "</table>\n",
       "</div>"
      ],
      "text/plain": [
       "             session_id  correct            session  q\n",
       "0  20090312431273200_q1        1  20090312431273200  1\n",
       "1  20090312433251036_q1        0  20090312433251036  1\n",
       "2  20090312455206810_q1        1  20090312455206810  1\n",
       "3  20090313091715820_q1        0  20090313091715820  1\n",
       "4  20090313571836404_q1        1  20090313571836404  1"
      ]
     },
     "execution_count": 3,
     "metadata": {},
     "output_type": "execute_result"
    }
   ],
   "source": [
    "targets = pd.read_csv('/kaggle/input/predict-student-performance-from-game-play/train_labels.csv')\n",
    "targets['session'] = targets.session_id.apply(lambda x: int(x.split('_')[0]) )\n",
    "targets['q'] = targets.session_id.apply(lambda x: int(x.split('_')[-1][1:]) )\n",
    "print( targets.shape )\n",
    "targets.head()"
   ]
  },
  {
   "cell_type": "code",
   "execution_count": 4,
   "id": "2389f2ea",
   "metadata": {
    "execution": {
     "iopub.execute_input": "2023-06-13T01:32:39.073528Z",
     "iopub.status.busy": "2023-06-13T01:32:39.072676Z",
     "iopub.status.idle": "2023-06-13T01:32:39.271950Z",
     "shell.execute_reply": "2023-06-13T01:32:39.270478Z"
    },
    "papermill": {
     "duration": 0.215795,
     "end_time": "2023-06-13T01:32:39.275074",
     "exception": false,
     "start_time": "2023-06-13T01:32:39.059279",
     "status": "completed"
    },
    "tags": []
   },
   "outputs": [],
   "source": [
    "feature_df = pd.read_csv('/kaggle/input/featur/feature_sort.csv')"
   ]
  },
  {
   "cell_type": "markdown",
   "id": "318852a2",
   "metadata": {
    "papermill": {
     "duration": 0.011702,
     "end_time": "2023-06-13T01:32:39.298346",
     "exception": false,
     "start_time": "2023-06-13T01:32:39.286644",
     "status": "completed"
    },
    "tags": []
   },
   "source": [
    "# Feature Engineer"
   ]
  },
  {
   "cell_type": "code",
   "execution_count": 5,
   "id": "d76fcd94",
   "metadata": {
    "execution": {
     "iopub.execute_input": "2023-06-13T01:32:39.324096Z",
     "iopub.status.busy": "2023-06-13T01:32:39.323144Z",
     "iopub.status.idle": "2023-06-13T01:32:39.332828Z",
     "shell.execute_reply": "2023-06-13T01:32:39.330753Z"
    },
    "papermill": {
     "duration": 0.027132,
     "end_time": "2023-06-13T01:32:39.336960",
     "exception": false,
     "start_time": "2023-06-13T01:32:39.309828",
     "status": "completed"
    },
    "tags": []
   },
   "outputs": [],
   "source": [
    "def delt_time_def(df):\n",
    "    df.sort_values(by=['session_id', 'elapsed_time'], inplace=True)\n",
    "    df['d_time'] = df['elapsed_time'].diff(1)\n",
    "    df['d_time'].fillna(0, inplace=True)\n",
    "    df['delt_time'] = df['d_time'].clip(0, 103000)\n",
    "    df['delt_time_next'] = df['delt_time'].shift(-1)\n",
    "    return df"
   ]
  },
  {
   "cell_type": "code",
   "execution_count": 6,
   "id": "79bd9a88",
   "metadata": {
    "execution": {
     "iopub.execute_input": "2023-06-13T01:32:39.363245Z",
     "iopub.status.busy": "2023-06-13T01:32:39.362486Z",
     "iopub.status.idle": "2023-06-13T01:32:39.377836Z",
     "shell.execute_reply": "2023-06-13T01:32:39.376940Z"
    },
    "papermill": {
     "duration": 0.031581,
     "end_time": "2023-06-13T01:32:39.380937",
     "exception": false,
     "start_time": "2023-06-13T01:32:39.349356",
     "status": "completed"
    },
    "tags": []
   },
   "outputs": [],
   "source": [
    "def feature_engineer(train, kol_f):\n",
    "    global kol_col, kol_col_max\n",
    "    kol_col = 9\n",
    "    kol_col_max = 11+kol_f*2\n",
    "    col = [i for i in range(0,kol_col_max)]\n",
    "    new_train = pd.DataFrame(index=train['session_id'].unique(), columns=col, dtype=np.float16)  \n",
    "    new_train[10] = new_train.index # \"session_id\"    \n",
    "\n",
    "    new_train[0] = train.groupby(['session_id'])['d_time'].quantile(q=0.3)\n",
    "    new_train[1] = train.groupby(['session_id'])['d_time'].quantile(q=0.8)\n",
    "    new_train[2] = train.groupby(['session_id'])['d_time'].quantile(q=0.5)\n",
    "    new_train[3] = train.groupby(['session_id'])['d_time'].quantile(q=0.65)\n",
    "    new_train[4] = train.groupby(['session_id'])['hover_duration'].agg('mean')\n",
    "    new_train[5] = train.groupby(['session_id'])['hover_duration'].agg('std')    \n",
    "    new_train[6] = new_train[10].apply(lambda x: int(str(x)[:2])).astype(np.uint8) # \"year\"\n",
    "    new_train[7] = new_train[10].apply(lambda x: int(str(x)[2:4])+1).astype(np.uint8) # \"month\"\n",
    "    new_train[8] = new_train[10].apply(lambda x: int(str(x)[4:6])).astype(np.uint8) # \"day\"\n",
    "    new_train[9] = new_train[10].apply(lambda x: int(str(x)[6:8])).astype(np.uint8) + new_train[10].apply(lambda x: int(str(x)[8:10])).astype(np.uint8)/60\n",
    "    new_train[10] = 0\n",
    "    new_train = new_train.fillna(-1)\n",
    "    \n",
    "    return new_train"
   ]
  },
  {
   "cell_type": "code",
   "execution_count": 7,
   "id": "3e91b780",
   "metadata": {
    "execution": {
     "iopub.execute_input": "2023-06-13T01:32:39.406245Z",
     "iopub.status.busy": "2023-06-13T01:32:39.405477Z",
     "iopub.status.idle": "2023-06-13T01:32:39.418060Z",
     "shell.execute_reply": "2023-06-13T01:32:39.417083Z"
    },
    "papermill": {
     "duration": 0.028475,
     "end_time": "2023-06-13T01:32:39.421041",
     "exception": false,
     "start_time": "2023-06-13T01:32:39.392566",
     "status": "completed"
    },
    "tags": []
   },
   "outputs": [],
   "source": [
    "def feature_next_t(row_f, new_train, train, gran_1, gran_2, i):\n",
    "    global kol_col\n",
    "    kol_col +=1\n",
    "    col1 = row_f['col1']\n",
    "    val1 = row_f['val1']\n",
    "    maska = (train[col1] == val1)\n",
    "    if row_f['kol_col'] == 1:       \n",
    "        new_train[kol_col] = train[maska].groupby(['session_id'])['delt_time_next'].sum()\n",
    "        if gran_1:\n",
    "            kol_col +=1\n",
    "            new_train[kol_col] = train[maska].groupby(['session_id'])['delt_time'].mean()\n",
    "        if gran_2:\n",
    "            kol_col +=1\n",
    "            new_train[kol_col] = train[maska].groupby(['session_id'])['index'].count()          \n",
    "    elif row_f['kol_col'] == 2: \n",
    "        col2 = row_f['col2']\n",
    "        val2 = row_f['val2']\n",
    "        maska = maska & (train[col2] == val2)        \n",
    "        new_train[kol_col] = train[maska].groupby(['session_id'])['delt_time_next'].sum()\n",
    "        if gran_1:\n",
    "            kol_col +=1\n",
    "            new_train[kol_col] = train[maska].groupby(['session_id'])['delt_time'].mean()\n",
    "        if gran_2:\n",
    "            kol_col +=1\n",
    "            new_train[kol_col] = train[maska].groupby(['session_id'])['index'].count()\n",
    "    return new_train"
   ]
  },
  {
   "cell_type": "code",
   "execution_count": 8,
   "id": "6c650e99",
   "metadata": {
    "execution": {
     "iopub.execute_input": "2023-06-13T01:32:39.446156Z",
     "iopub.status.busy": "2023-06-13T01:32:39.445407Z",
     "iopub.status.idle": "2023-06-13T01:32:39.456168Z",
     "shell.execute_reply": "2023-06-13T01:32:39.455286Z"
    },
    "papermill": {
     "duration": 0.026267,
     "end_time": "2023-06-13T01:32:39.458712",
     "exception": false,
     "start_time": "2023-06-13T01:32:39.432445",
     "status": "completed"
    },
    "tags": []
   },
   "outputs": [],
   "source": [
    "def feature_next_t_otvet(row_f, new_train, train, gran_1, gran_2, i):\n",
    "    global kol_col\n",
    "    kol_col +=1\n",
    "    col1 = row_f['col1']\n",
    "    val1 = row_f['val1']\n",
    "    maska = (train[col1] == val1)\n",
    "    if row_f['kol_col'] == 1:      \n",
    "        new_train[kol_col] = train[maska]['delt_time_next'].sum()\n",
    "        if gran_1:\n",
    "            kol_col +=1\n",
    "            new_train[kol_col] = train[maska]['delt_time'].mean()\n",
    "        if gran_2:\n",
    "            kol_col +=1\n",
    "            new_train[kol_col] = train[maska]['index'].count()          \n",
    "    elif row_f['kol_col'] == 2: \n",
    "        col2 = row_f['col2']\n",
    "        val2 = row_f['val2']\n",
    "        maska = maska & (train[col2] == val2)        \n",
    "        new_train[kol_col] = train[maska]['delt_time_next'].sum()\n",
    "        if gran_1:\n",
    "            kol_col +=1\n",
    "            new_train[kol_col] = train[maska]['delt_time'].mean()\n",
    "        if gran_2:\n",
    "            kol_col +=1\n",
    "            new_train[kol_col] = train[maska]['index'].count()\n",
    "    return new_train"
   ]
  },
  {
   "cell_type": "code",
   "execution_count": 9,
   "id": "e6bfb04a",
   "metadata": {
    "execution": {
     "iopub.execute_input": "2023-06-13T01:32:39.483934Z",
     "iopub.status.busy": "2023-06-13T01:32:39.483118Z",
     "iopub.status.idle": "2023-06-13T01:32:39.494033Z",
     "shell.execute_reply": "2023-06-13T01:32:39.493099Z"
    },
    "papermill": {
     "duration": 0.026901,
     "end_time": "2023-06-13T01:32:39.496781",
     "exception": false,
     "start_time": "2023-06-13T01:32:39.469880",
     "status": "completed"
    },
    "tags": []
   },
   "outputs": [],
   "source": [
    "def experiment_feature_next_t_otvet(row_f, new_train, train, gran_1, gran_2, i):\n",
    "    global kol_col\n",
    "    kol_col +=1\n",
    "    if row_f['kol_col'] == 1: \n",
    "        maska = train[row_f['col1']] == row_f['val1']\n",
    "        new_train[kol_col] = train[maska]['delt_time_next'].sum()\n",
    "        if gran_1:\n",
    "            kol_col +=1\n",
    "            new_train[kol_col] = train[maska]['delt_time'].mean()\n",
    "        if gran_2:\n",
    "            kol_col +=1\n",
    "            new_train[kol_col] = train[maska]['index'].count()          \n",
    "    elif row_f['kol_col'] == 2: \n",
    "        col2 = row_f['col2']\n",
    "        val2 = row_f['val2']\n",
    "        maska = (train[col1] == val1) & (train[col2] == val2)        \n",
    "        new_train[kol_col] = train[maska]['delt_time_next'].sum()\n",
    "        if gran_1:\n",
    "            kol_col +=1\n",
    "            new_train[kol_col] = train[maska]['delt_time'].mean()\n",
    "        if gran_2:\n",
    "            kol_col +=1\n",
    "            new_train[kol_col] = train[maska]['index'].count()\n",
    "    return new_train"
   ]
  },
  {
   "cell_type": "code",
   "execution_count": 10,
   "id": "15c95b00",
   "metadata": {
    "execution": {
     "iopub.execute_input": "2023-06-13T01:32:39.522706Z",
     "iopub.status.busy": "2023-06-13T01:32:39.521689Z",
     "iopub.status.idle": "2023-06-13T01:32:39.530264Z",
     "shell.execute_reply": "2023-06-13T01:32:39.529346Z"
    },
    "papermill": {
     "duration": 0.024106,
     "end_time": "2023-06-13T01:32:39.532861",
     "exception": false,
     "start_time": "2023-06-13T01:32:39.508755",
     "status": "completed"
    },
    "tags": []
   },
   "outputs": [],
   "source": [
    "def feature_quest_otvet(new_train, train, quest, kol_f):\n",
    "    global kol_col\n",
    "    kol_col = 9\n",
    "    g1 = 0.7 \n",
    "    g2 = 0.3 \n",
    "\n",
    "    feature_q = feature_df[feature_df['quest'] == quest].copy()\n",
    "    feature_q.reset_index(drop=True, inplace=True)\n",
    "    \n",
    "    gran1 = round(kol_f * g1)\n",
    "    gran2 = round(kol_f * g2)    \n",
    "    for i in range(0, kol_f):         \n",
    "        row_f = feature_q.loc[i]\n",
    "        new_train = feature_next_t_otvet(row_f, new_train, train, i < gran1, i <  gran2, i) \n",
    "    col = [i for i in range(0,kol_col+1)]\n",
    "    return new_train[col]"
   ]
  },
  {
   "cell_type": "code",
   "execution_count": 11,
   "id": "c8bbb909",
   "metadata": {
    "execution": {
     "iopub.execute_input": "2023-06-13T01:32:39.558719Z",
     "iopub.status.busy": "2023-06-13T01:32:39.557984Z",
     "iopub.status.idle": "2023-06-13T01:32:39.564593Z",
     "shell.execute_reply": "2023-06-13T01:32:39.563734Z"
    },
    "papermill": {
     "duration": 0.022678,
     "end_time": "2023-06-13T01:32:39.567119",
     "exception": false,
     "start_time": "2023-06-13T01:32:39.544441",
     "status": "completed"
    },
    "tags": []
   },
   "outputs": [],
   "source": [
    "def feature_engineer_new(new_train, train, feature_q, kol_f):\n",
    "    g1 = 0.7 \n",
    "    g2 = 0.3 \n",
    "    gran1 = round(kol_f * g1)\n",
    "    gran2 = round(kol_f * g2)    \n",
    "    for i in range(0, kol_f): \n",
    "        row_f = feature_q.loc[i]       \n",
    "        new_train = feature_next_t(row_f, new_train, train, i < gran1, i <  gran2, i)         \n",
    "    return new_train"
   ]
  },
  {
   "cell_type": "code",
   "execution_count": 12,
   "id": "ac725a2b",
   "metadata": {
    "execution": {
     "iopub.execute_input": "2023-06-13T01:32:39.592949Z",
     "iopub.status.busy": "2023-06-13T01:32:39.591649Z",
     "iopub.status.idle": "2023-06-13T01:32:39.598839Z",
     "shell.execute_reply": "2023-06-13T01:32:39.598042Z"
    },
    "papermill": {
     "duration": 0.02235,
     "end_time": "2023-06-13T01:32:39.601169",
     "exception": false,
     "start_time": "2023-06-13T01:32:39.578819",
     "status": "completed"
    },
    "tags": []
   },
   "outputs": [],
   "source": [
    "def feature_quest(new_train, train, quest, kol_f):\n",
    "    global kol_col\n",
    "    kol_col = 9\n",
    "    feature_q = feature_df[feature_df['quest'] == quest].copy()\n",
    "    feature_q.reset_index(drop=True, inplace=True)\n",
    "    new_train = feature_engineer_new(new_train, train, feature_q, kol_f)\n",
    "    col = [i for i in range(0,kol_col+1)]\n",
    "    return new_train[col]"
   ]
  },
  {
   "cell_type": "code",
   "execution_count": 13,
   "id": "c1bdaa05",
   "metadata": {
    "execution": {
     "iopub.execute_input": "2023-06-13T01:32:39.626564Z",
     "iopub.status.busy": "2023-06-13T01:32:39.625143Z",
     "iopub.status.idle": "2023-06-13T01:32:39.630856Z",
     "shell.execute_reply": "2023-06-13T01:32:39.630065Z"
    },
    "papermill": {
     "duration": 0.020769,
     "end_time": "2023-06-13T01:32:39.633190",
     "exception": false,
     "start_time": "2023-06-13T01:32:39.612421",
     "status": "completed"
    },
    "tags": []
   },
   "outputs": [],
   "source": [
    "import xgboost as xgb"
   ]
  },
  {
   "cell_type": "code",
   "execution_count": 14,
   "id": "88470ca8",
   "metadata": {
    "execution": {
     "iopub.execute_input": "2023-06-13T01:32:39.658220Z",
     "iopub.status.busy": "2023-06-13T01:32:39.657259Z",
     "iopub.status.idle": "2023-06-13T01:32:39.668370Z",
     "shell.execute_reply": "2023-06-13T01:32:39.667456Z"
    },
    "papermill": {
     "duration": 0.026479,
     "end_time": "2023-06-13T01:32:39.670947",
     "exception": false,
     "start_time": "2023-06-13T01:32:39.644468",
     "status": "completed"
    },
    "tags": []
   },
   "outputs": [],
   "source": [
    "def create_model(old_train, quests, models, list_kol_f):\n",
    "    \n",
    "    kol_quest = len(quests)\n",
    "    # ITERATE THRU QUESTIONS\n",
    "    for q in quests:\n",
    "        print('### quest ', q, end='')\n",
    "        new_train = feature_engineer(old_train, list_kol_f[q])\n",
    "        train_x = feature_quest(new_train, old_train, q, list_kol_f[q])\n",
    "        print (' ---- ', 'train_q.shape = ', train_x.shape)\n",
    "           \n",
    "        # TRAIN DATA\n",
    "        train_users = train_x.index.values\n",
    "        train_y = targets.loc[targets.q==q].set_index('session').loc[train_users]\n",
    "\n",
    "        # TRAIN MODEL \n",
    "        \n",
    "        best_params_ = {\n",
    "    'objective' : 'binary:logistic',\n",
    "    'eval_metric':'logloss',\n",
    "    'learning_rate': 0.05,\n",
    "    'max_depth': 6,\n",
    "    'n_estimators': 300,\n",
    "#     'early_stopping_rounds': 100,\n",
    "    'tree_method':'hist',\n",
    "    'subsample':0.8,\n",
    "    'colsample_bytree': 0.4,\n",
    "    'use_label_encoder' : False}\n",
    "\n",
    "        model = xgb.XGBClassifier(**best_params_)\n",
    "\n",
    "#         model = CatBoostClassifier(\n",
    "#             n_estimators = 300,\n",
    "#             learning_rate= 0.045,\n",
    "#             depth = 6\n",
    "#         )\n",
    "        \n",
    "        model.fit(train_x.astype('float32'), train_y['correct'], verbose=False)\n",
    "\n",
    "        # SAVE MODEL, PREDICT VALID OOF\n",
    "        models[f'{q}'] = model\n",
    "    print('***')\n",
    "    \n",
    "    return models"
   ]
  },
  {
   "cell_type": "code",
   "execution_count": 15,
   "id": "5e5512bc",
   "metadata": {
    "execution": {
     "iopub.execute_input": "2023-06-13T01:32:39.696363Z",
     "iopub.status.busy": "2023-06-13T01:32:39.695666Z",
     "iopub.status.idle": "2023-06-13T01:32:39.700417Z",
     "shell.execute_reply": "2023-06-13T01:32:39.699473Z"
    },
    "papermill": {
     "duration": 0.020053,
     "end_time": "2023-06-13T01:32:39.702674",
     "exception": false,
     "start_time": "2023-06-13T01:32:39.682621",
     "status": "completed"
    },
    "tags": []
   },
   "outputs": [],
   "source": [
    "models = {}\n",
    "best_threshold = 0.63"
   ]
  },
  {
   "cell_type": "code",
   "execution_count": 16,
   "id": "38dbc23f",
   "metadata": {
    "execution": {
     "iopub.execute_input": "2023-06-13T01:32:39.727279Z",
     "iopub.status.busy": "2023-06-13T01:32:39.726863Z",
     "iopub.status.idle": "2023-06-13T01:32:39.732766Z",
     "shell.execute_reply": "2023-06-13T01:32:39.731544Z"
    },
    "papermill": {
     "duration": 0.021242,
     "end_time": "2023-06-13T01:32:39.735172",
     "exception": false,
     "start_time": "2023-06-13T01:32:39.713930",
     "status": "completed"
    },
    "tags": []
   },
   "outputs": [],
   "source": [
    "list_kol_f = {\n",
    "    1:140,3:110,\n",
    "    4:120, 5:220, 6:130, 7:110, 8:110, 9:100, 10:140, 11:120,\n",
    "    14: 160, 15:160, 16:130, 17:140             \n",
    "             }"
   ]
  },
  {
   "cell_type": "code",
   "execution_count": 17,
   "id": "3f673b17",
   "metadata": {
    "execution": {
     "iopub.execute_input": "2023-06-13T01:32:39.760092Z",
     "iopub.status.busy": "2023-06-13T01:32:39.759351Z",
     "iopub.status.idle": "2023-06-13T01:33:53.450428Z",
     "shell.execute_reply": "2023-06-13T01:33:53.449436Z"
    },
    "papermill": {
     "duration": 73.707198,
     "end_time": "2023-06-13T01:33:53.453698",
     "exception": false,
     "start_time": "2023-06-13T01:32:39.746500",
     "status": "completed"
    },
    "tags": []
   },
   "outputs": [
    {
     "name": "stdout",
     "output_type": "stream",
     "text": [
      "### quest  1 ----  train_q.shape =  (23562, 290)\n",
      "### quest  3 ----  train_q.shape =  (23562, 230)\n",
      "***\n"
     ]
    }
   ],
   "source": [
    "df0_4 = pd.read_csv('/kaggle/input/featur/train_0_4t.csv', dtype=dtypes) \n",
    "kol_lvl = (df0_4 .groupby(['session_id'])['level'].agg('nunique') < 5)\n",
    "list_session = kol_lvl[kol_lvl].index\n",
    "df0_4  = df0_4 [~df0_4 ['session_id'].isin(list_session)]\n",
    "df0_4 = delt_time_def(df0_4)\n",
    "\n",
    "quests_0_4 = [1, 3] \n",
    "# list_kol_f = {1:140,3:110}\n",
    "\n",
    "models = create_model(df0_4, quests_0_4, models, list_kol_f)\n",
    "del df0_4"
   ]
  },
  {
   "cell_type": "code",
   "execution_count": 18,
   "id": "d14081dd",
   "metadata": {
    "execution": {
     "iopub.execute_input": "2023-06-13T01:33:53.479145Z",
     "iopub.status.busy": "2023-06-13T01:33:53.478658Z",
     "iopub.status.idle": "2023-06-13T01:40:31.171157Z",
     "shell.execute_reply": "2023-06-13T01:40:31.170082Z"
    },
    "papermill": {
     "duration": 397.708485,
     "end_time": "2023-06-13T01:40:31.173877",
     "exception": false,
     "start_time": "2023-06-13T01:33:53.465392",
     "status": "completed"
    },
    "tags": []
   },
   "outputs": [
    {
     "name": "stdout",
     "output_type": "stream",
     "text": [
      "### quest  4 ----  train_q.shape =  (23561, 250)\n",
      "### quest  5 ----  train_q.shape =  (23561, 450)\n",
      "### quest  6 ----  train_q.shape =  (23561, 270)\n",
      "### quest  7 ----  train_q.shape =  (23561, 230)\n",
      "### quest  8 ----  train_q.shape =  (23561, 230)\n",
      "### quest  9 ----  train_q.shape =  (23561, 210)\n",
      "### quest  10 ----  train_q.shape =  (23561, 290)\n",
      "### quest  11 ----  train_q.shape =  (23561, 250)\n",
      "***\n"
     ]
    }
   ],
   "source": [
    "df5_12 = pd.read_csv('/kaggle/input/featur/train_5_12t.csv', dtype=dtypes)\n",
    "kol_lvl = (df5_12.groupby(['session_id'])['level'].agg('nunique') < 8)\n",
    "list_session = kol_lvl[kol_lvl].index\n",
    "df5_12 = df5_12[~df5_12['session_id'].isin(list_session)]\n",
    "df5_12 = delt_time_def(df5_12)\n",
    "quests_5_12 = [4, 5, 6, 7, 8, 9, 10, 11] \n",
    "\n",
    "# list_kol_f = {4:110, 5:220, 6:120, 7:110, 8:110, 9:100, 10:140, 11:120}\n",
    "\n",
    "models = create_model(df5_12, quests_5_12, models, list_kol_f)\n",
    "del df5_12"
   ]
  },
  {
   "cell_type": "code",
   "execution_count": 19,
   "id": "fc81eeda",
   "metadata": {
    "execution": {
     "iopub.execute_input": "2023-06-13T01:40:31.202235Z",
     "iopub.status.busy": "2023-06-13T01:40:31.201317Z",
     "iopub.status.idle": "2023-06-13T01:45:23.832660Z",
     "shell.execute_reply": "2023-06-13T01:45:23.831044Z"
    },
    "papermill": {
     "duration": 292.648918,
     "end_time": "2023-06-13T01:45:23.835518",
     "exception": false,
     "start_time": "2023-06-13T01:40:31.186600",
     "status": "completed"
    },
    "tags": []
   },
   "outputs": [
    {
     "name": "stdout",
     "output_type": "stream",
     "text": [
      "### quest  14 ----  train_q.shape =  (22986, 330)\n",
      "### quest  15 ----  train_q.shape =  (22986, 330)\n",
      "### quest  16 ----  train_q.shape =  (22986, 270)\n",
      "### quest  17 ----  train_q.shape =  (22986, 290)\n",
      "***\n"
     ]
    }
   ],
   "source": [
    "df13_22 = pd.read_csv('/kaggle/input/featur/train_13_22t.csv', dtype=dtypes) \n",
    "kol_lvl = (df13_22 .groupby(['session_id'])['level'].agg('nunique') < 10)\n",
    "list_session = kol_lvl[kol_lvl].index\n",
    "df13_22  = df13_22 [~df13_22 ['session_id'].isin(list_session)]\n",
    "df13_22 = delt_time_def(df13_22)\n",
    "\n",
    "quests_13_22 = [14, 15, 16, 17] \n",
    "# list_kol_f = {14: 160, 15:160, 16:105, 17:140}\n",
    "\n",
    "models = create_model(df13_22, quests_13_22, models, list_kol_f)\n"
   ]
  },
  {
   "cell_type": "code",
   "execution_count": 20,
   "id": "302385a7",
   "metadata": {
    "execution": {
     "iopub.execute_input": "2023-06-13T01:45:23.866815Z",
     "iopub.status.busy": "2023-06-13T01:45:23.865868Z",
     "iopub.status.idle": "2023-06-13T01:45:23.871050Z",
     "shell.execute_reply": "2023-06-13T01:45:23.870105Z"
    },
    "papermill": {
     "duration": 0.023721,
     "end_time": "2023-06-13T01:45:23.873291",
     "exception": false,
     "start_time": "2023-06-13T01:45:23.849570",
     "status": "completed"
    },
    "tags": []
   },
   "outputs": [],
   "source": [
    "#Saving a Model\n",
    "# for q in quests_0_4 + quests_5_12 + quests_13_22:\n",
    "#     models[q].save_model(f'cat_model_{q}.bin')"
   ]
  },
  {
   "cell_type": "code",
   "execution_count": 21,
   "id": "3287dcbb",
   "metadata": {
    "execution": {
     "iopub.execute_input": "2023-06-13T01:45:23.902948Z",
     "iopub.status.busy": "2023-06-13T01:45:23.902130Z",
     "iopub.status.idle": "2023-06-13T01:45:23.906571Z",
     "shell.execute_reply": "2023-06-13T01:45:23.905725Z"
    },
    "papermill": {
     "duration": 0.021984,
     "end_time": "2023-06-13T01:45:23.908670",
     "exception": false,
     "start_time": "2023-06-13T01:45:23.886686",
     "status": "completed"
    },
    "tags": []
   },
   "outputs": [],
   "source": [
    "#Model Reading\n",
    "# dir = '/kaggle/input/catbust/'\n",
    "# for q in quests_0_4 + quests_5_12 + quests_13_22:\n",
    "#     models[q] = CatBoostClassifier().load_model(dir+f'cat_model_{q}.bin')"
   ]
  },
  {
   "cell_type": "markdown",
   "id": "3bec7222",
   "metadata": {
    "papermill": {
     "duration": 0.012949,
     "end_time": "2023-06-13T01:45:23.935117",
     "exception": false,
     "start_time": "2023-06-13T01:45:23.922168",
     "status": "completed"
    },
    "tags": []
   },
   "source": [
    "**Infer Test Data**"
   ]
  },
  {
   "cell_type": "code",
   "execution_count": 22,
   "id": "cb8a1305",
   "metadata": {
    "execution": {
     "iopub.execute_input": "2023-06-13T01:45:23.965830Z",
     "iopub.status.busy": "2023-06-13T01:45:23.964924Z",
     "iopub.status.idle": "2023-06-13T01:45:23.998639Z",
     "shell.execute_reply": "2023-06-13T01:45:23.997411Z"
    },
    "papermill": {
     "duration": 0.052487,
     "end_time": "2023-06-13T01:45:24.001821",
     "exception": false,
     "start_time": "2023-06-13T01:45:23.949334",
     "status": "completed"
    },
    "tags": []
   },
   "outputs": [],
   "source": [
    "import jo_wilder\n",
    "\n",
    "try:\n",
    "    jo_wilder.make_env.__called__ = False\n",
    "    env.__called__ = False\n",
    "    type(env)._state = type(type(env)._state).__dict__['INIT']\n",
    "except:\n",
    "    pass\n",
    "\n",
    "env = jo_wilder.make_env()\n",
    "iter_test = env.iter_test()    "
   ]
  },
  {
   "cell_type": "code",
   "execution_count": 23,
   "id": "566f79fd",
   "metadata": {
    "execution": {
     "iopub.execute_input": "2023-06-13T01:45:24.032140Z",
     "iopub.status.busy": "2023-06-13T01:45:24.031232Z",
     "iopub.status.idle": "2023-06-13T01:45:24.036402Z",
     "shell.execute_reply": "2023-06-13T01:45:24.035511Z"
    },
    "papermill": {
     "duration": 0.023041,
     "end_time": "2023-06-13T01:45:24.038703",
     "exception": false,
     "start_time": "2023-06-13T01:45:24.015662",
     "status": "completed"
    },
    "tags": []
   },
   "outputs": [],
   "source": [
    "import time"
   ]
  },
  {
   "cell_type": "code",
   "execution_count": 24,
   "id": "ca4d75a1",
   "metadata": {
    "execution": {
     "iopub.execute_input": "2023-06-13T01:45:24.068757Z",
     "iopub.status.busy": "2023-06-13T01:45:24.067855Z",
     "iopub.status.idle": "2023-06-13T01:45:35.820711Z",
     "shell.execute_reply": "2023-06-13T01:45:35.819639Z"
    },
    "papermill": {
     "duration": 11.771512,
     "end_time": "2023-06-13T01:45:35.823859",
     "exception": false,
     "start_time": "2023-06-13T01:45:24.052347",
     "status": "completed"
    },
    "tags": []
   },
   "outputs": [
    {
     "name": "stdout",
     "output_type": "stream",
     "text": [
      "This version of the API is not optimized and should not be used to estimate the runtime of your code on the hidden test set.\n"
     ]
    }
   ],
   "source": [
    "g_end4 = 0\n",
    "g_end5 = 0\n",
    "\n",
    "list_q = {'0-4':quests_0_4, '5-12':quests_5_12, '13-22':quests_13_22}\n",
    "for (test, sam_sub) in iter_test:\n",
    "    sam_sub['question'] = [int(label.split('_')[1][1:]) for label in sam_sub['session_id']]    \n",
    "    grp = test.level_group.values[0]   \n",
    "    sam_sub['correct'] = 1\n",
    "    sam_sub.loc[sam_sub.question.isin([5, 8, 10, 13, 15]), 'correct'] = 0  \n",
    "    old_train = delt_time_def(test[test.level_group == grp])\n",
    "       \n",
    "    for q in list_q[grp]:\n",
    "        \n",
    "        start4 = time.time()\n",
    "        new_train = feature_engineer(old_train, list_kol_f[q])\n",
    "        new_train = feature_quest_otvet(new_train, old_train, q, list_kol_f[q])\n",
    "#         new_train = feature_quest(new_train, old_train, q, kol_f)\n",
    "        \n",
    "        end4 = time.time() - start4\n",
    "        g_end4 += end4\n",
    "        \n",
    "        start5 = time.time()        \n",
    "        \n",
    "        clf = models[f'{q}']\n",
    "        p = clf.predict_proba(new_train.astype('float32'))[:,1]        \n",
    "        \n",
    "        end5 = time.time() - start5\n",
    "        g_end5 += end5\n",
    "             \n",
    "        \n",
    "        mask = sam_sub.question == q \n",
    "        x = int(p[0]>best_threshold)\n",
    "        sam_sub.loc[mask,'correct'] = x      \n",
    "        \n",
    "        \n",
    "    sam_sub = sam_sub[['session_id', 'correct']]      \n",
    "    env.predict(sam_sub)"
   ]
  },
  {
   "cell_type": "markdown",
   "id": "57c8745f",
   "metadata": {
    "papermill": {
     "duration": 0.01377,
     "end_time": "2023-06-13T01:45:35.852186",
     "exception": false,
     "start_time": "2023-06-13T01:45:35.838416",
     "status": "completed"
    },
    "tags": []
   },
   "source": [
    "# EDA submission.csv"
   ]
  },
  {
   "cell_type": "code",
   "execution_count": 25,
   "id": "0da50d43",
   "metadata": {
    "execution": {
     "iopub.execute_input": "2023-06-13T01:45:35.883791Z",
     "iopub.status.busy": "2023-06-13T01:45:35.882730Z",
     "iopub.status.idle": "2023-06-13T01:45:35.902394Z",
     "shell.execute_reply": "2023-06-13T01:45:35.901431Z"
    },
    "papermill": {
     "duration": 0.038296,
     "end_time": "2023-06-13T01:45:35.904638",
     "exception": false,
     "start_time": "2023-06-13T01:45:35.866342",
     "status": "completed"
    },
    "tags": []
   },
   "outputs": [
    {
     "name": "stdout",
     "output_type": "stream",
     "text": [
      "(54, 2)\n"
     ]
    },
    {
     "data": {
      "text/html": [
       "<div>\n",
       "<style scoped>\n",
       "    .dataframe tbody tr th:only-of-type {\n",
       "        vertical-align: middle;\n",
       "    }\n",
       "\n",
       "    .dataframe tbody tr th {\n",
       "        vertical-align: top;\n",
       "    }\n",
       "\n",
       "    .dataframe thead th {\n",
       "        text-align: right;\n",
       "    }\n",
       "</style>\n",
       "<table border=\"1\" class=\"dataframe\">\n",
       "  <thead>\n",
       "    <tr style=\"text-align: right;\">\n",
       "      <th></th>\n",
       "      <th>session_id</th>\n",
       "      <th>correct</th>\n",
       "    </tr>\n",
       "  </thead>\n",
       "  <tbody>\n",
       "    <tr>\n",
       "      <th>0</th>\n",
       "      <td>20090109393214576_q1</td>\n",
       "      <td>1</td>\n",
       "    </tr>\n",
       "    <tr>\n",
       "      <th>1</th>\n",
       "      <td>20090109393214576_q2</td>\n",
       "      <td>1</td>\n",
       "    </tr>\n",
       "    <tr>\n",
       "      <th>2</th>\n",
       "      <td>20090109393214576_q3</td>\n",
       "      <td>1</td>\n",
       "    </tr>\n",
       "    <tr>\n",
       "      <th>3</th>\n",
       "      <td>20090109393214576_q4</td>\n",
       "      <td>1</td>\n",
       "    </tr>\n",
       "    <tr>\n",
       "      <th>4</th>\n",
       "      <td>20090109393214576_q5</td>\n",
       "      <td>0</td>\n",
       "    </tr>\n",
       "    <tr>\n",
       "      <th>5</th>\n",
       "      <td>20090109393214576_q6</td>\n",
       "      <td>1</td>\n",
       "    </tr>\n",
       "    <tr>\n",
       "      <th>6</th>\n",
       "      <td>20090109393214576_q7</td>\n",
       "      <td>1</td>\n",
       "    </tr>\n",
       "    <tr>\n",
       "      <th>7</th>\n",
       "      <td>20090109393214576_q8</td>\n",
       "      <td>1</td>\n",
       "    </tr>\n",
       "    <tr>\n",
       "      <th>8</th>\n",
       "      <td>20090109393214576_q9</td>\n",
       "      <td>1</td>\n",
       "    </tr>\n",
       "    <tr>\n",
       "      <th>9</th>\n",
       "      <td>20090109393214576_q10</td>\n",
       "      <td>0</td>\n",
       "    </tr>\n",
       "    <tr>\n",
       "      <th>10</th>\n",
       "      <td>20090109393214576_q11</td>\n",
       "      <td>1</td>\n",
       "    </tr>\n",
       "    <tr>\n",
       "      <th>11</th>\n",
       "      <td>20090109393214576_q12</td>\n",
       "      <td>1</td>\n",
       "    </tr>\n",
       "    <tr>\n",
       "      <th>12</th>\n",
       "      <td>20090109393214576_q13</td>\n",
       "      <td>0</td>\n",
       "    </tr>\n",
       "    <tr>\n",
       "      <th>13</th>\n",
       "      <td>20090109393214576_q14</td>\n",
       "      <td>1</td>\n",
       "    </tr>\n",
       "    <tr>\n",
       "      <th>14</th>\n",
       "      <td>20090109393214576_q15</td>\n",
       "      <td>0</td>\n",
       "    </tr>\n",
       "    <tr>\n",
       "      <th>15</th>\n",
       "      <td>20090109393214576_q16</td>\n",
       "      <td>1</td>\n",
       "    </tr>\n",
       "    <tr>\n",
       "      <th>16</th>\n",
       "      <td>20090109393214576_q17</td>\n",
       "      <td>1</td>\n",
       "    </tr>\n",
       "    <tr>\n",
       "      <th>17</th>\n",
       "      <td>20090109393214576_q18</td>\n",
       "      <td>1</td>\n",
       "    </tr>\n",
       "    <tr>\n",
       "      <th>18</th>\n",
       "      <td>20090312143683264_q1</td>\n",
       "      <td>1</td>\n",
       "    </tr>\n",
       "    <tr>\n",
       "      <th>19</th>\n",
       "      <td>20090312143683264_q2</td>\n",
       "      <td>1</td>\n",
       "    </tr>\n",
       "    <tr>\n",
       "      <th>20</th>\n",
       "      <td>20090312143683264_q3</td>\n",
       "      <td>1</td>\n",
       "    </tr>\n",
       "    <tr>\n",
       "      <th>21</th>\n",
       "      <td>20090312143683264_q4</td>\n",
       "      <td>0</td>\n",
       "    </tr>\n",
       "    <tr>\n",
       "      <th>22</th>\n",
       "      <td>20090312143683264_q5</td>\n",
       "      <td>0</td>\n",
       "    </tr>\n",
       "    <tr>\n",
       "      <th>23</th>\n",
       "      <td>20090312143683264_q6</td>\n",
       "      <td>0</td>\n",
       "    </tr>\n",
       "    <tr>\n",
       "      <th>24</th>\n",
       "      <td>20090312143683264_q7</td>\n",
       "      <td>0</td>\n",
       "    </tr>\n",
       "    <tr>\n",
       "      <th>25</th>\n",
       "      <td>20090312143683264_q8</td>\n",
       "      <td>0</td>\n",
       "    </tr>\n",
       "    <tr>\n",
       "      <th>26</th>\n",
       "      <td>20090312143683264_q9</td>\n",
       "      <td>0</td>\n",
       "    </tr>\n",
       "    <tr>\n",
       "      <th>27</th>\n",
       "      <td>20090312143683264_q10</td>\n",
       "      <td>0</td>\n",
       "    </tr>\n",
       "    <tr>\n",
       "      <th>28</th>\n",
       "      <td>20090312143683264_q11</td>\n",
       "      <td>0</td>\n",
       "    </tr>\n",
       "    <tr>\n",
       "      <th>29</th>\n",
       "      <td>20090312143683264_q12</td>\n",
       "      <td>1</td>\n",
       "    </tr>\n",
       "    <tr>\n",
       "      <th>30</th>\n",
       "      <td>20090312143683264_q13</td>\n",
       "      <td>0</td>\n",
       "    </tr>\n",
       "    <tr>\n",
       "      <th>31</th>\n",
       "      <td>20090312143683264_q14</td>\n",
       "      <td>0</td>\n",
       "    </tr>\n",
       "    <tr>\n",
       "      <th>32</th>\n",
       "      <td>20090312143683264_q15</td>\n",
       "      <td>0</td>\n",
       "    </tr>\n",
       "    <tr>\n",
       "      <th>33</th>\n",
       "      <td>20090312143683264_q16</td>\n",
       "      <td>1</td>\n",
       "    </tr>\n",
       "    <tr>\n",
       "      <th>34</th>\n",
       "      <td>20090312143683264_q17</td>\n",
       "      <td>1</td>\n",
       "    </tr>\n",
       "    <tr>\n",
       "      <th>35</th>\n",
       "      <td>20090312143683264_q18</td>\n",
       "      <td>1</td>\n",
       "    </tr>\n",
       "    <tr>\n",
       "      <th>36</th>\n",
       "      <td>20090312331414616_q1</td>\n",
       "      <td>1</td>\n",
       "    </tr>\n",
       "    <tr>\n",
       "      <th>37</th>\n",
       "      <td>20090312331414616_q2</td>\n",
       "      <td>1</td>\n",
       "    </tr>\n",
       "    <tr>\n",
       "      <th>38</th>\n",
       "      <td>20090312331414616_q3</td>\n",
       "      <td>1</td>\n",
       "    </tr>\n",
       "    <tr>\n",
       "      <th>39</th>\n",
       "      <td>20090312331414616_q4</td>\n",
       "      <td>1</td>\n",
       "    </tr>\n",
       "    <tr>\n",
       "      <th>40</th>\n",
       "      <td>20090312331414616_q5</td>\n",
       "      <td>0</td>\n",
       "    </tr>\n",
       "    <tr>\n",
       "      <th>41</th>\n",
       "      <td>20090312331414616_q6</td>\n",
       "      <td>1</td>\n",
       "    </tr>\n",
       "    <tr>\n",
       "      <th>42</th>\n",
       "      <td>20090312331414616_q7</td>\n",
       "      <td>1</td>\n",
       "    </tr>\n",
       "    <tr>\n",
       "      <th>43</th>\n",
       "      <td>20090312331414616_q8</td>\n",
       "      <td>1</td>\n",
       "    </tr>\n",
       "    <tr>\n",
       "      <th>44</th>\n",
       "      <td>20090312331414616_q9</td>\n",
       "      <td>1</td>\n",
       "    </tr>\n",
       "    <tr>\n",
       "      <th>45</th>\n",
       "      <td>20090312331414616_q10</td>\n",
       "      <td>0</td>\n",
       "    </tr>\n",
       "    <tr>\n",
       "      <th>46</th>\n",
       "      <td>20090312331414616_q11</td>\n",
       "      <td>1</td>\n",
       "    </tr>\n",
       "    <tr>\n",
       "      <th>47</th>\n",
       "      <td>20090312331414616_q12</td>\n",
       "      <td>1</td>\n",
       "    </tr>\n",
       "    <tr>\n",
       "      <th>48</th>\n",
       "      <td>20090312331414616_q13</td>\n",
       "      <td>0</td>\n",
       "    </tr>\n",
       "    <tr>\n",
       "      <th>49</th>\n",
       "      <td>20090312331414616_q14</td>\n",
       "      <td>1</td>\n",
       "    </tr>\n",
       "    <tr>\n",
       "      <th>50</th>\n",
       "      <td>20090312331414616_q15</td>\n",
       "      <td>1</td>\n",
       "    </tr>\n",
       "    <tr>\n",
       "      <th>51</th>\n",
       "      <td>20090312331414616_q16</td>\n",
       "      <td>1</td>\n",
       "    </tr>\n",
       "    <tr>\n",
       "      <th>52</th>\n",
       "      <td>20090312331414616_q17</td>\n",
       "      <td>0</td>\n",
       "    </tr>\n",
       "    <tr>\n",
       "      <th>53</th>\n",
       "      <td>20090312331414616_q18</td>\n",
       "      <td>1</td>\n",
       "    </tr>\n",
       "  </tbody>\n",
       "</table>\n",
       "</div>"
      ],
      "text/plain": [
       "               session_id  correct\n",
       "0    20090109393214576_q1        1\n",
       "1    20090109393214576_q2        1\n",
       "2    20090109393214576_q3        1\n",
       "3    20090109393214576_q4        1\n",
       "4    20090109393214576_q5        0\n",
       "5    20090109393214576_q6        1\n",
       "6    20090109393214576_q7        1\n",
       "7    20090109393214576_q8        1\n",
       "8    20090109393214576_q9        1\n",
       "9   20090109393214576_q10        0\n",
       "10  20090109393214576_q11        1\n",
       "11  20090109393214576_q12        1\n",
       "12  20090109393214576_q13        0\n",
       "13  20090109393214576_q14        1\n",
       "14  20090109393214576_q15        0\n",
       "15  20090109393214576_q16        1\n",
       "16  20090109393214576_q17        1\n",
       "17  20090109393214576_q18        1\n",
       "18   20090312143683264_q1        1\n",
       "19   20090312143683264_q2        1\n",
       "20   20090312143683264_q3        1\n",
       "21   20090312143683264_q4        0\n",
       "22   20090312143683264_q5        0\n",
       "23   20090312143683264_q6        0\n",
       "24   20090312143683264_q7        0\n",
       "25   20090312143683264_q8        0\n",
       "26   20090312143683264_q9        0\n",
       "27  20090312143683264_q10        0\n",
       "28  20090312143683264_q11        0\n",
       "29  20090312143683264_q12        1\n",
       "30  20090312143683264_q13        0\n",
       "31  20090312143683264_q14        0\n",
       "32  20090312143683264_q15        0\n",
       "33  20090312143683264_q16        1\n",
       "34  20090312143683264_q17        1\n",
       "35  20090312143683264_q18        1\n",
       "36   20090312331414616_q1        1\n",
       "37   20090312331414616_q2        1\n",
       "38   20090312331414616_q3        1\n",
       "39   20090312331414616_q4        1\n",
       "40   20090312331414616_q5        0\n",
       "41   20090312331414616_q6        1\n",
       "42   20090312331414616_q7        1\n",
       "43   20090312331414616_q8        1\n",
       "44   20090312331414616_q9        1\n",
       "45  20090312331414616_q10        0\n",
       "46  20090312331414616_q11        1\n",
       "47  20090312331414616_q12        1\n",
       "48  20090312331414616_q13        0\n",
       "49  20090312331414616_q14        1\n",
       "50  20090312331414616_q15        1\n",
       "51  20090312331414616_q16        1\n",
       "52  20090312331414616_q17        0\n",
       "53  20090312331414616_q18        1"
      ]
     },
     "execution_count": 25,
     "metadata": {},
     "output_type": "execute_result"
    }
   ],
   "source": [
    "df = pd.read_csv('submission.csv')\n",
    "print( df.shape )\n",
    "df.head(60)"
   ]
  },
  {
   "cell_type": "code",
   "execution_count": null,
   "id": "57081106",
   "metadata": {
    "papermill": {
     "duration": 0.013677,
     "end_time": "2023-06-13T01:45:35.932661",
     "exception": false,
     "start_time": "2023-06-13T01:45:35.918984",
     "status": "completed"
    },
    "tags": []
   },
   "outputs": [],
   "source": []
  },
  {
   "cell_type": "code",
   "execution_count": null,
   "id": "90ad2248",
   "metadata": {
    "papermill": {
     "duration": 0.014037,
     "end_time": "2023-06-13T01:45:35.960898",
     "exception": false,
     "start_time": "2023-06-13T01:45:35.946861",
     "status": "completed"
    },
    "tags": []
   },
   "outputs": [],
   "source": []
  },
  {
   "cell_type": "code",
   "execution_count": null,
   "id": "791776d0",
   "metadata": {
    "papermill": {
     "duration": 0.01374,
     "end_time": "2023-06-13T01:45:35.988687",
     "exception": false,
     "start_time": "2023-06-13T01:45:35.974947",
     "status": "completed"
    },
    "tags": []
   },
   "outputs": [],
   "source": []
  }
 ],
 "metadata": {
  "kernelspec": {
   "display_name": "Python 3",
   "language": "python",
   "name": "python3"
  },
  "language_info": {
   "codemirror_mode": {
    "name": "ipython",
    "version": 3
   },
   "file_extension": ".py",
   "mimetype": "text/x-python",
   "name": "python",
   "nbconvert_exporter": "python",
   "pygments_lexer": "ipython3",
   "version": "3.7.12"
  },
  "papermill": {
   "default_parameters": {},
   "duration": 792.493693,
   "end_time": "2023-06-13T01:45:37.231698",
   "environment_variables": {},
   "exception": null,
   "input_path": "__notebook__.ipynb",
   "output_path": "__notebook__.ipynb",
   "parameters": {},
   "start_time": "2023-06-13T01:32:24.738005",
   "version": "2.3.4"
  }
 },
 "nbformat": 4,
 "nbformat_minor": 5
}
